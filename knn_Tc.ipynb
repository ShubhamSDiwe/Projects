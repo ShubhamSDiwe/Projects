{
 "cells": [
  {
   "cell_type": "markdown",
   "metadata": {},
   "source": [
    "# FIT5149 S2 2019 \n",
    "## Assessment 1: \n",
    "## Predicting Critical Temperature \n",
    "\n",
    "\n",
    "Student information\n",
    "- Family Name: Diwe\n",
    "- Given Name: Shubham \n",
    "- Student ID: 29329604\n",
    "- Student email: sdiw0001@student.monash.edu\n",
    "\n",
    "Programming Language: R 3.5.1 in Jupyter Notebook\n",
    "\n",
    "R Libraries used:\n",
    "- ISLR\n",
    "- glmnet\n",
    "- ggplot2\n",
    "- reshape2\n",
    "- dplyr\n",
    "- leaps\n",
    "- caret\n",
    "- psych\n",
    "- GGally"
   ]
  },
  {
   "cell_type": "markdown",
   "metadata": {},
   "source": [
    "## Table of Contents\n",
    "\n",
    "* [Introduction](#sec_1)\n",
    "* [Data Exploration](#sec_2)\n",
    "* [Model Development](#sec_3)\n",
    "* [Model Comparison](#sec_4)\n",
    "* [Conclusion](#sec_5)\n",
    "* [References](#sec_6)"
   ]
  },
  {
   "cell_type": "markdown",
   "metadata": {},
   "source": [
    "## Libraries Import"
   ]
  },
  {
   "cell_type": "code",
   "execution_count": 1,
   "metadata": {},
   "outputs": [],
   "source": [
    "r = getOption(\"repos\")                       \n",
    "r[\"CRAN\"] = \"http://cran.us.r-project.org\"   \n",
    "options(repos = r, warn = -1)"
   ]
  },
  {
   "cell_type": "code",
   "execution_count": 2,
   "metadata": {},
   "outputs": [
    {
     "name": "stderr",
     "output_type": "stream",
     "text": [
      "Loading required package: Matrix\n",
      "Loading required package: foreach\n",
      "Loaded glmnet 2.0-16\n",
      "\n",
      "Loading required package: carData\n",
      "\n",
      "Attaching package: 'dplyr'\n",
      "\n",
      "The following object is masked from 'package:car':\n",
      "\n",
      "    recode\n",
      "\n",
      "The following objects are masked from 'package:stats':\n",
      "\n",
      "    filter, lag\n",
      "\n",
      "The following objects are masked from 'package:base':\n",
      "\n",
      "    intersect, setdiff, setequal, union\n",
      "\n",
      "\n",
      "Attaching package: 'GGally'\n",
      "\n",
      "The following object is masked from 'package:dplyr':\n",
      "\n",
      "    nasa\n",
      "\n",
      "\n",
      "Attaching package: 'gridExtra'\n",
      "\n",
      "The following object is masked from 'package:dplyr':\n",
      "\n",
      "    combine\n",
      "\n",
      "\n",
      "********************************************************\n",
      "Note: As of version 1.0.0, cowplot does not change the\n",
      "  default ggplot2 theme anymore. To recover the previous\n",
      "  behavior, execute:\n",
      "  theme_set(theme_cowplot())\n",
      "********************************************************\n",
      "\n",
      "\n",
      "Attaching package: 'psych'\n",
      "\n",
      "The following objects are masked from 'package:ggplot2':\n",
      "\n",
      "    %+%, alpha\n",
      "\n",
      "The following object is masked from 'package:car':\n",
      "\n",
      "    logit\n",
      "\n"
     ]
    }
   ],
   "source": [
    "options(warn = -1)\n",
    "\n",
    "library(reshape2)\n",
    "library(glmnet)\n",
    "library(leaps)\n",
    "library(car)\n",
    "library(dplyr)\n",
    "library(ISLR)\n",
    "library(ggplot2)\n",
    "library(GGally)\n",
    "library(gridExtra)\n",
    "library(cowplot)\n",
    "library(stats)\n",
    "library(lattice)\n",
    "library(psych)\n",
    "library(caret)"
   ]
  },
  {
   "cell_type": "markdown",
   "metadata": {},
   "source": [
    "## 1. Introduction <a class=\"anchor\" id=\"sec_1\"></a>"
   ]
  },
  {
   "cell_type": "markdown",
   "metadata": {},
   "source": [
    "#### The files train.csv and unique_m.csv contain the following data\n",
    "\n",
    "- We are given the data different compounds with their chemical composition\n",
    "- Various properties of each compound like atomic weighs, valency, etc. are provided\n",
    "- The task is to predict the Critical Temperature from the given information\n",
    "- In short, we have to find a relationship between properties of materials and superconductivity\n",
    "- Exploratory and statistical methods are employed to find if such a relationship exists "
   ]
  },
  {
   "cell_type": "code",
   "execution_count": 3,
   "metadata": {},
   "outputs": [
    {
     "data": {
      "text/html": [
       "<table>\n",
       "<thead><tr><th scope=col>number_of_elements</th><th scope=col>mean_atomic_mass</th><th scope=col>wtd_mean_atomic_mass</th><th scope=col>gmean_atomic_mass</th><th scope=col>wtd_gmean_atomic_mass</th><th scope=col>entropy_atomic_mass</th><th scope=col>wtd_entropy_atomic_mass</th><th scope=col>range_atomic_mass</th><th scope=col>wtd_range_atomic_mass</th><th scope=col>std_atomic_mass</th><th scope=col>...</th><th scope=col>wtd_mean_Valence</th><th scope=col>gmean_Valence</th><th scope=col>wtd_gmean_Valence</th><th scope=col>entropy_Valence</th><th scope=col>wtd_entropy_Valence</th><th scope=col>range_Valence</th><th scope=col>wtd_range_Valence</th><th scope=col>std_Valence</th><th scope=col>wtd_std_Valence</th><th scope=col>critical_temp</th></tr></thead>\n",
       "<tbody>\n",
       "\t<tr><td>4        </td><td>88.94447 </td><td>57.86269 </td><td>66.36159 </td><td>36.11661 </td><td>1.181795 </td><td>1.0623955</td><td>122.9061 </td><td>31.79492 </td><td>51.96883 </td><td>...      </td><td>2.257143 </td><td>2.213364 </td><td>2.219783 </td><td>1.368922 </td><td>1.066221 </td><td>1        </td><td>1.085714 </td><td>0.4330127</td><td>0.4370588</td><td>29       </td></tr>\n",
       "\t<tr><td>5        </td><td>92.72921 </td><td>58.51842 </td><td>73.13279 </td><td>36.39660 </td><td>1.449309 </td><td>1.0577551</td><td>122.9061 </td><td>36.16194 </td><td>47.09463 </td><td>...      </td><td>2.257143 </td><td>1.888175 </td><td>2.210679 </td><td>1.557113 </td><td>1.047221 </td><td>2        </td><td>1.128571 </td><td>0.6324555</td><td>0.4686063</td><td>26       </td></tr>\n",
       "\t<tr><td>4        </td><td>88.94447 </td><td>57.88524 </td><td>66.36159 </td><td>36.12251 </td><td>1.181795 </td><td>0.9759805</td><td>122.9061 </td><td>35.74110 </td><td>51.96883 </td><td>...      </td><td>2.271429 </td><td>2.213364 </td><td>2.232679 </td><td>1.368922 </td><td>1.029175 </td><td>1        </td><td>1.114286 </td><td>0.4330127</td><td>0.4446966</td><td>19       </td></tr>\n",
       "\t<tr><td>4        </td><td>88.94447 </td><td>57.87397 </td><td>66.36159 </td><td>36.11956 </td><td>1.181795 </td><td>1.0222909</td><td>122.9061 </td><td>33.76801 </td><td>51.96883 </td><td>...      </td><td>2.264286 </td><td>2.213364 </td><td>2.226222 </td><td>1.368922 </td><td>1.048834 </td><td>1        </td><td>1.100000 </td><td>0.4330127</td><td>0.4409521</td><td>22       </td></tr>\n",
       "\t<tr><td>4        </td><td>88.94447 </td><td>57.84014 </td><td>66.36159 </td><td>36.11072 </td><td>1.181795 </td><td>1.1292237</td><td>122.9061 </td><td>27.84874 </td><td>51.96883 </td><td>...      </td><td>2.242857 </td><td>2.213364 </td><td>2.206963 </td><td>1.368922 </td><td>1.096052 </td><td>1        </td><td>1.057143 </td><td>0.4330127</td><td>0.4288095</td><td>23       </td></tr>\n",
       "\t<tr><td>4        </td><td>88.94447 </td><td>57.79504 </td><td>66.36159 </td><td>36.09893 </td><td>1.181795 </td><td>1.2252028</td><td>122.9061 </td><td>20.68746 </td><td>51.96883 </td><td>...      </td><td>2.214286 </td><td>2.213364 </td><td>2.181543 </td><td>1.368922 </td><td>1.141474 </td><td>1        </td><td>1.000000 </td><td>0.4330127</td><td>0.4103259</td><td>23       </td></tr>\n",
       "</tbody>\n",
       "</table>\n"
      ],
      "text/latex": [
       "\\begin{tabular}{r|llllllllllllllllllllllllllllllllllllllllllllllllllllllllllllllllllllllllllllllllll}\n",
       " number\\_of\\_elements & mean\\_atomic\\_mass & wtd\\_mean\\_atomic\\_mass & gmean\\_atomic\\_mass & wtd\\_gmean\\_atomic\\_mass & entropy\\_atomic\\_mass & wtd\\_entropy\\_atomic\\_mass & range\\_atomic\\_mass & wtd\\_range\\_atomic\\_mass & std\\_atomic\\_mass & ... & wtd\\_mean\\_Valence & gmean\\_Valence & wtd\\_gmean\\_Valence & entropy\\_Valence & wtd\\_entropy\\_Valence & range\\_Valence & wtd\\_range\\_Valence & std\\_Valence & wtd\\_std\\_Valence & critical\\_temp\\\\\n",
       "\\hline\n",
       "\t 4         & 88.94447  & 57.86269  & 66.36159  & 36.11661  & 1.181795  & 1.0623955 & 122.9061  & 31.79492  & 51.96883  & ...       & 2.257143  & 2.213364  & 2.219783  & 1.368922  & 1.066221  & 1         & 1.085714  & 0.4330127 & 0.4370588 & 29       \\\\\n",
       "\t 5         & 92.72921  & 58.51842  & 73.13279  & 36.39660  & 1.449309  & 1.0577551 & 122.9061  & 36.16194  & 47.09463  & ...       & 2.257143  & 1.888175  & 2.210679  & 1.557113  & 1.047221  & 2         & 1.128571  & 0.6324555 & 0.4686063 & 26       \\\\\n",
       "\t 4         & 88.94447  & 57.88524  & 66.36159  & 36.12251  & 1.181795  & 0.9759805 & 122.9061  & 35.74110  & 51.96883  & ...       & 2.271429  & 2.213364  & 2.232679  & 1.368922  & 1.029175  & 1         & 1.114286  & 0.4330127 & 0.4446966 & 19       \\\\\n",
       "\t 4         & 88.94447  & 57.87397  & 66.36159  & 36.11956  & 1.181795  & 1.0222909 & 122.9061  & 33.76801  & 51.96883  & ...       & 2.264286  & 2.213364  & 2.226222  & 1.368922  & 1.048834  & 1         & 1.100000  & 0.4330127 & 0.4409521 & 22       \\\\\n",
       "\t 4         & 88.94447  & 57.84014  & 66.36159  & 36.11072  & 1.181795  & 1.1292237 & 122.9061  & 27.84874  & 51.96883  & ...       & 2.242857  & 2.213364  & 2.206963  & 1.368922  & 1.096052  & 1         & 1.057143  & 0.4330127 & 0.4288095 & 23       \\\\\n",
       "\t 4         & 88.94447  & 57.79504  & 66.36159  & 36.09893  & 1.181795  & 1.2252028 & 122.9061  & 20.68746  & 51.96883  & ...       & 2.214286  & 2.213364  & 2.181543  & 1.368922  & 1.141474  & 1         & 1.000000  & 0.4330127 & 0.4103259 & 23       \\\\\n",
       "\\end{tabular}\n"
      ],
      "text/markdown": [
       "\n",
       "number_of_elements | mean_atomic_mass | wtd_mean_atomic_mass | gmean_atomic_mass | wtd_gmean_atomic_mass | entropy_atomic_mass | wtd_entropy_atomic_mass | range_atomic_mass | wtd_range_atomic_mass | std_atomic_mass | ... | wtd_mean_Valence | gmean_Valence | wtd_gmean_Valence | entropy_Valence | wtd_entropy_Valence | range_Valence | wtd_range_Valence | std_Valence | wtd_std_Valence | critical_temp | \n",
       "|---|---|---|---|---|---|\n",
       "| 4         | 88.94447  | 57.86269  | 66.36159  | 36.11661  | 1.181795  | 1.0623955 | 122.9061  | 31.79492  | 51.96883  | ...       | 2.257143  | 2.213364  | 2.219783  | 1.368922  | 1.066221  | 1         | 1.085714  | 0.4330127 | 0.4370588 | 29        | \n",
       "| 5         | 92.72921  | 58.51842  | 73.13279  | 36.39660  | 1.449309  | 1.0577551 | 122.9061  | 36.16194  | 47.09463  | ...       | 2.257143  | 1.888175  | 2.210679  | 1.557113  | 1.047221  | 2         | 1.128571  | 0.6324555 | 0.4686063 | 26        | \n",
       "| 4         | 88.94447  | 57.88524  | 66.36159  | 36.12251  | 1.181795  | 0.9759805 | 122.9061  | 35.74110  | 51.96883  | ...       | 2.271429  | 2.213364  | 2.232679  | 1.368922  | 1.029175  | 1         | 1.114286  | 0.4330127 | 0.4446966 | 19        | \n",
       "| 4         | 88.94447  | 57.87397  | 66.36159  | 36.11956  | 1.181795  | 1.0222909 | 122.9061  | 33.76801  | 51.96883  | ...       | 2.264286  | 2.213364  | 2.226222  | 1.368922  | 1.048834  | 1         | 1.100000  | 0.4330127 | 0.4409521 | 22        | \n",
       "| 4         | 88.94447  | 57.84014  | 66.36159  | 36.11072  | 1.181795  | 1.1292237 | 122.9061  | 27.84874  | 51.96883  | ...       | 2.242857  | 2.213364  | 2.206963  | 1.368922  | 1.096052  | 1         | 1.057143  | 0.4330127 | 0.4288095 | 23        | \n",
       "| 4         | 88.94447  | 57.79504  | 66.36159  | 36.09893  | 1.181795  | 1.2252028 | 122.9061  | 20.68746  | 51.96883  | ...       | 2.214286  | 2.213364  | 2.181543  | 1.368922  | 1.141474  | 1         | 1.000000  | 0.4330127 | 0.4103259 | 23        | \n",
       "\n",
       "\n"
      ],
      "text/plain": [
       "  number_of_elements mean_atomic_mass wtd_mean_atomic_mass gmean_atomic_mass\n",
       "1 4                  88.94447         57.86269             66.36159         \n",
       "2 5                  92.72921         58.51842             73.13279         \n",
       "3 4                  88.94447         57.88524             66.36159         \n",
       "4 4                  88.94447         57.87397             66.36159         \n",
       "5 4                  88.94447         57.84014             66.36159         \n",
       "6 4                  88.94447         57.79504             66.36159         \n",
       "  wtd_gmean_atomic_mass entropy_atomic_mass wtd_entropy_atomic_mass\n",
       "1 36.11661              1.181795            1.0623955              \n",
       "2 36.39660              1.449309            1.0577551              \n",
       "3 36.12251              1.181795            0.9759805              \n",
       "4 36.11956              1.181795            1.0222909              \n",
       "5 36.11072              1.181795            1.1292237              \n",
       "6 36.09893              1.181795            1.2252028              \n",
       "  range_atomic_mass wtd_range_atomic_mass std_atomic_mass ... wtd_mean_Valence\n",
       "1 122.9061          31.79492              51.96883        ... 2.257143        \n",
       "2 122.9061          36.16194              47.09463        ... 2.257143        \n",
       "3 122.9061          35.74110              51.96883        ... 2.271429        \n",
       "4 122.9061          33.76801              51.96883        ... 2.264286        \n",
       "5 122.9061          27.84874              51.96883        ... 2.242857        \n",
       "6 122.9061          20.68746              51.96883        ... 2.214286        \n",
       "  gmean_Valence wtd_gmean_Valence entropy_Valence wtd_entropy_Valence\n",
       "1 2.213364      2.219783          1.368922        1.066221           \n",
       "2 1.888175      2.210679          1.557113        1.047221           \n",
       "3 2.213364      2.232679          1.368922        1.029175           \n",
       "4 2.213364      2.226222          1.368922        1.048834           \n",
       "5 2.213364      2.206963          1.368922        1.096052           \n",
       "6 2.213364      2.181543          1.368922        1.141474           \n",
       "  range_Valence wtd_range_Valence std_Valence wtd_std_Valence critical_temp\n",
       "1 1             1.085714          0.4330127   0.4370588       29           \n",
       "2 2             1.128571          0.6324555   0.4686063       26           \n",
       "3 1             1.114286          0.4330127   0.4446966       19           \n",
       "4 1             1.100000          0.4330127   0.4409521       22           \n",
       "5 1             1.057143          0.4330127   0.4288095       23           \n",
       "6 1             1.000000          0.4330127   0.4103259       23           "
      ]
     },
     "metadata": {},
     "output_type": "display_data"
    }
   ],
   "source": [
    "data <- read.csv('train.csv')\n",
    "head(data)"
   ]
  },
  {
   "cell_type": "code",
   "execution_count": 4,
   "metadata": {},
   "outputs": [
    {
     "data": {
      "text/html": [
       "<table>\n",
       "<thead><tr><th scope=col>H</th><th scope=col>He</th><th scope=col>Li</th><th scope=col>Be</th><th scope=col>B</th><th scope=col>C</th><th scope=col>N</th><th scope=col>O</th><th scope=col>F</th><th scope=col>Ne</th><th scope=col>...</th><th scope=col>Au</th><th scope=col>Hg</th><th scope=col>Tl</th><th scope=col>Pb</th><th scope=col>Bi</th><th scope=col>Po</th><th scope=col>At</th><th scope=col>Rn</th><th scope=col>critical_temp</th><th scope=col>material</th></tr></thead>\n",
       "<tbody>\n",
       "\t<tr><td>0                     </td><td>0                     </td><td>0                     </td><td>0                     </td><td>0                     </td><td>0                     </td><td>0                     </td><td>4                     </td><td>0                     </td><td>0                     </td><td>...                   </td><td>0                     </td><td>0                     </td><td>0                     </td><td>0                     </td><td>0                     </td><td>0                     </td><td>0                     </td><td>0                     </td><td>29                    </td><td>Ba0.2La1.8Cu1O4       </td></tr>\n",
       "\t<tr><td>0                     </td><td>0                     </td><td>0                     </td><td>0                     </td><td>0                     </td><td>0                     </td><td>0                     </td><td>4                     </td><td>0                     </td><td>0                     </td><td>...                   </td><td>0                     </td><td>0                     </td><td>0                     </td><td>0                     </td><td>0                     </td><td>0                     </td><td>0                     </td><td>0                     </td><td>26                    </td><td>Ba0.1La1.9Ag0.1Cu0.9O4</td></tr>\n",
       "\t<tr><td>0                     </td><td>0                     </td><td>0                     </td><td>0                     </td><td>0                     </td><td>0                     </td><td>0                     </td><td>4                     </td><td>0                     </td><td>0                     </td><td>...                   </td><td>0                     </td><td>0                     </td><td>0                     </td><td>0                     </td><td>0                     </td><td>0                     </td><td>0                     </td><td>0                     </td><td>19                    </td><td>Ba0.1La1.9Cu1O4       </td></tr>\n",
       "\t<tr><td>0                     </td><td>0                     </td><td>0                     </td><td>0                     </td><td>0                     </td><td>0                     </td><td>0                     </td><td>4                     </td><td>0                     </td><td>0                     </td><td>...                   </td><td>0                     </td><td>0                     </td><td>0                     </td><td>0                     </td><td>0                     </td><td>0                     </td><td>0                     </td><td>0                     </td><td>22                    </td><td>Ba0.15La1.85Cu1O4     </td></tr>\n",
       "\t<tr><td>0                     </td><td>0                     </td><td>0                     </td><td>0                     </td><td>0                     </td><td>0                     </td><td>0                     </td><td>4                     </td><td>0                     </td><td>0                     </td><td>...                   </td><td>0                     </td><td>0                     </td><td>0                     </td><td>0                     </td><td>0                     </td><td>0                     </td><td>0                     </td><td>0                     </td><td>23                    </td><td>Ba0.3La1.7Cu1O4       </td></tr>\n",
       "\t<tr><td>0                     </td><td>0                     </td><td>0                     </td><td>0                     </td><td>0                     </td><td>0                     </td><td>0                     </td><td>4                     </td><td>0                     </td><td>0                     </td><td>...                   </td><td>0                     </td><td>0                     </td><td>0                     </td><td>0                     </td><td>0                     </td><td>0                     </td><td>0                     </td><td>0                     </td><td>23                    </td><td>Ba0.5La1.5Cu1O4       </td></tr>\n",
       "</tbody>\n",
       "</table>\n"
      ],
      "text/latex": [
       "\\begin{tabular}{r|llllllllllllllllllllllllllllllllllllllllllllllllllllllllllllllllllllllllllllllllllllllll}\n",
       " H & He & Li & Be & B & C & N & O & F & Ne & ... & Au & Hg & Tl & Pb & Bi & Po & At & Rn & critical\\_temp & material\\\\\n",
       "\\hline\n",
       "\t 0                      & 0                      & 0                      & 0                      & 0                      & 0                      & 0                      & 4                      & 0                      & 0                      & ...                    & 0                      & 0                      & 0                      & 0                      & 0                      & 0                      & 0                      & 0                      & 29                     & Ba0.2La1.8Cu1O4       \\\\\n",
       "\t 0                      & 0                      & 0                      & 0                      & 0                      & 0                      & 0                      & 4                      & 0                      & 0                      & ...                    & 0                      & 0                      & 0                      & 0                      & 0                      & 0                      & 0                      & 0                      & 26                     & Ba0.1La1.9Ag0.1Cu0.9O4\\\\\n",
       "\t 0                      & 0                      & 0                      & 0                      & 0                      & 0                      & 0                      & 4                      & 0                      & 0                      & ...                    & 0                      & 0                      & 0                      & 0                      & 0                      & 0                      & 0                      & 0                      & 19                     & Ba0.1La1.9Cu1O4       \\\\\n",
       "\t 0                      & 0                      & 0                      & 0                      & 0                      & 0                      & 0                      & 4                      & 0                      & 0                      & ...                    & 0                      & 0                      & 0                      & 0                      & 0                      & 0                      & 0                      & 0                      & 22                     & Ba0.15La1.85Cu1O4     \\\\\n",
       "\t 0                      & 0                      & 0                      & 0                      & 0                      & 0                      & 0                      & 4                      & 0                      & 0                      & ...                    & 0                      & 0                      & 0                      & 0                      & 0                      & 0                      & 0                      & 0                      & 23                     & Ba0.3La1.7Cu1O4       \\\\\n",
       "\t 0                      & 0                      & 0                      & 0                      & 0                      & 0                      & 0                      & 4                      & 0                      & 0                      & ...                    & 0                      & 0                      & 0                      & 0                      & 0                      & 0                      & 0                      & 0                      & 23                     & Ba0.5La1.5Cu1O4       \\\\\n",
       "\\end{tabular}\n"
      ],
      "text/markdown": [
       "\n",
       "H | He | Li | Be | B | C | N | O | F | Ne | ... | Au | Hg | Tl | Pb | Bi | Po | At | Rn | critical_temp | material | \n",
       "|---|---|---|---|---|---|\n",
       "| 0                      | 0                      | 0                      | 0                      | 0                      | 0                      | 0                      | 4                      | 0                      | 0                      | ...                    | 0                      | 0                      | 0                      | 0                      | 0                      | 0                      | 0                      | 0                      | 29                     | Ba0.2La1.8Cu1O4        | \n",
       "| 0                      | 0                      | 0                      | 0                      | 0                      | 0                      | 0                      | 4                      | 0                      | 0                      | ...                    | 0                      | 0                      | 0                      | 0                      | 0                      | 0                      | 0                      | 0                      | 26                     | Ba0.1La1.9Ag0.1Cu0.9O4 | \n",
       "| 0                      | 0                      | 0                      | 0                      | 0                      | 0                      | 0                      | 4                      | 0                      | 0                      | ...                    | 0                      | 0                      | 0                      | 0                      | 0                      | 0                      | 0                      | 0                      | 19                     | Ba0.1La1.9Cu1O4        | \n",
       "| 0                      | 0                      | 0                      | 0                      | 0                      | 0                      | 0                      | 4                      | 0                      | 0                      | ...                    | 0                      | 0                      | 0                      | 0                      | 0                      | 0                      | 0                      | 0                      | 22                     | Ba0.15La1.85Cu1O4      | \n",
       "| 0                      | 0                      | 0                      | 0                      | 0                      | 0                      | 0                      | 4                      | 0                      | 0                      | ...                    | 0                      | 0                      | 0                      | 0                      | 0                      | 0                      | 0                      | 0                      | 23                     | Ba0.3La1.7Cu1O4        | \n",
       "| 0                      | 0                      | 0                      | 0                      | 0                      | 0                      | 0                      | 4                      | 0                      | 0                      | ...                    | 0                      | 0                      | 0                      | 0                      | 0                      | 0                      | 0                      | 0                      | 23                     | Ba0.5La1.5Cu1O4        | \n",
       "\n",
       "\n"
      ],
      "text/plain": [
       "  H He Li Be B C N O F Ne ... Au Hg Tl Pb Bi Po At Rn critical_temp\n",
       "1 0 0  0  0  0 0 0 4 0 0  ... 0  0  0  0  0  0  0  0  29           \n",
       "2 0 0  0  0  0 0 0 4 0 0  ... 0  0  0  0  0  0  0  0  26           \n",
       "3 0 0  0  0  0 0 0 4 0 0  ... 0  0  0  0  0  0  0  0  19           \n",
       "4 0 0  0  0  0 0 0 4 0 0  ... 0  0  0  0  0  0  0  0  22           \n",
       "5 0 0  0  0  0 0 0 4 0 0  ... 0  0  0  0  0  0  0  0  23           \n",
       "6 0 0  0  0  0 0 0 4 0 0  ... 0  0  0  0  0  0  0  0  23           \n",
       "  material              \n",
       "1 Ba0.2La1.8Cu1O4       \n",
       "2 Ba0.1La1.9Ag0.1Cu0.9O4\n",
       "3 Ba0.1La1.9Cu1O4       \n",
       "4 Ba0.15La1.85Cu1O4     \n",
       "5 Ba0.3La1.7Cu1O4       \n",
       "6 Ba0.5La1.5Cu1O4       "
      ]
     },
     "metadata": {},
     "output_type": "display_data"
    }
   ],
   "source": [
    "elem.comp <- read.csv('unique_m.csv')\n",
    "head(elem.comp)"
   ]
  },
  {
   "cell_type": "markdown",
   "metadata": {},
   "source": [
    "- **Creating the training and testing data sets**\n",
    "\n",
    "    - Split the data into two parts in the ratio 70%-30%\n",
    "    - We use the 70% set to train the models and the 30% set to check model predictions"
   ]
  },
  {
   "cell_type": "code",
   "execution_count": 5,
   "metadata": {},
   "outputs": [
    {
     "data": {
      "text/html": [
       "<ol class=list-inline>\n",
       "\t<li>14884</li>\n",
       "\t<li>82</li>\n",
       "</ol>\n"
      ],
      "text/latex": [
       "\\begin{enumerate*}\n",
       "\\item 14884\n",
       "\\item 82\n",
       "\\end{enumerate*}\n"
      ],
      "text/markdown": [
       "1. 14884\n",
       "2. 82\n",
       "\n",
       "\n"
      ],
      "text/plain": [
       "[1] 14884    82"
      ]
     },
     "metadata": {},
     "output_type": "display_data"
    },
    {
     "data": {
      "text/html": [
       "<ol class=list-inline>\n",
       "\t<li>6379</li>\n",
       "\t<li>82</li>\n",
       "</ol>\n"
      ],
      "text/latex": [
       "\\begin{enumerate*}\n",
       "\\item 6379\n",
       "\\item 82\n",
       "\\end{enumerate*}\n"
      ],
      "text/markdown": [
       "1. 6379\n",
       "2. 82\n",
       "\n",
       "\n"
      ],
      "text/plain": [
       "[1] 6379   82"
      ]
     },
     "metadata": {},
     "output_type": "display_data"
    }
   ],
   "source": [
    "R <- dim(data)[1]\n",
    "C <- dim(data)[2]\n",
    "\n",
    "set.seed(12345)\n",
    "\n",
    "R.train <- round((R * 0.7), digits = 0)\n",
    "train.index <- sort(sample(x = nrow(data), size = R.train))\n",
    "\n",
    "train.data <- data[train.index, ]\n",
    "test.data <- data[-train.index, ]\n",
    "\n",
    "dim(train.data)\n",
    "dim(test.data)"
   ]
  },
  {
   "cell_type": "markdown",
   "metadata": {},
   "source": [
    "## 2. Data Exploration<a class=\"anchor\" id=\"sec_2\"></a>"
   ]
  },
  {
   "cell_type": "markdown",
   "metadata": {},
   "source": [
    "- Let us explore the data sets first by looking at the first few rows and their structure"
   ]
  },
  {
   "cell_type": "code",
   "execution_count": 6,
   "metadata": {},
   "outputs": [
    {
     "data": {
      "text/html": [
       "<ol class=list-inline>\n",
       "\t<li>'number_of_elements'</li>\n",
       "\t<li>'mean_atomic_mass'</li>\n",
       "\t<li>'wtd_mean_atomic_mass'</li>\n",
       "\t<li>'gmean_atomic_mass'</li>\n",
       "\t<li>'wtd_gmean_atomic_mass'</li>\n",
       "\t<li>'entropy_atomic_mass'</li>\n",
       "\t<li>'wtd_entropy_atomic_mass'</li>\n",
       "\t<li>'range_atomic_mass'</li>\n",
       "\t<li>'wtd_range_atomic_mass'</li>\n",
       "\t<li>'std_atomic_mass'</li>\n",
       "\t<li>'wtd_std_atomic_mass'</li>\n",
       "\t<li>'mean_fie'</li>\n",
       "\t<li>'wtd_mean_fie'</li>\n",
       "\t<li>'gmean_fie'</li>\n",
       "\t<li>'wtd_gmean_fie'</li>\n",
       "\t<li>'entropy_fie'</li>\n",
       "\t<li>'wtd_entropy_fie'</li>\n",
       "\t<li>'range_fie'</li>\n",
       "\t<li>'wtd_range_fie'</li>\n",
       "\t<li>'std_fie'</li>\n",
       "\t<li>'wtd_std_fie'</li>\n",
       "\t<li>'mean_atomic_radius'</li>\n",
       "\t<li>'wtd_mean_atomic_radius'</li>\n",
       "\t<li>'gmean_atomic_radius'</li>\n",
       "\t<li>'wtd_gmean_atomic_radius'</li>\n",
       "\t<li>'entropy_atomic_radius'</li>\n",
       "\t<li>'wtd_entropy_atomic_radius'</li>\n",
       "\t<li>'range_atomic_radius'</li>\n",
       "\t<li>'wtd_range_atomic_radius'</li>\n",
       "\t<li>'std_atomic_radius'</li>\n",
       "\t<li>'wtd_std_atomic_radius'</li>\n",
       "\t<li>'mean_Density'</li>\n",
       "\t<li>'wtd_mean_Density'</li>\n",
       "\t<li>'gmean_Density'</li>\n",
       "\t<li>'wtd_gmean_Density'</li>\n",
       "\t<li>'entropy_Density'</li>\n",
       "\t<li>'wtd_entropy_Density'</li>\n",
       "\t<li>'range_Density'</li>\n",
       "\t<li>'wtd_range_Density'</li>\n",
       "\t<li>'std_Density'</li>\n",
       "\t<li>'wtd_std_Density'</li>\n",
       "\t<li>'mean_ElectronAffinity'</li>\n",
       "\t<li>'wtd_mean_ElectronAffinity'</li>\n",
       "\t<li>'gmean_ElectronAffinity'</li>\n",
       "\t<li>'wtd_gmean_ElectronAffinity'</li>\n",
       "\t<li>'entropy_ElectronAffinity'</li>\n",
       "\t<li>'wtd_entropy_ElectronAffinity'</li>\n",
       "\t<li>'range_ElectronAffinity'</li>\n",
       "\t<li>'wtd_range_ElectronAffinity'</li>\n",
       "\t<li>'std_ElectronAffinity'</li>\n",
       "\t<li>'wtd_std_ElectronAffinity'</li>\n",
       "\t<li>'mean_FusionHeat'</li>\n",
       "\t<li>'wtd_mean_FusionHeat'</li>\n",
       "\t<li>'gmean_FusionHeat'</li>\n",
       "\t<li>'wtd_gmean_FusionHeat'</li>\n",
       "\t<li>'entropy_FusionHeat'</li>\n",
       "\t<li>'wtd_entropy_FusionHeat'</li>\n",
       "\t<li>'range_FusionHeat'</li>\n",
       "\t<li>'wtd_range_FusionHeat'</li>\n",
       "\t<li>'std_FusionHeat'</li>\n",
       "\t<li>'wtd_std_FusionHeat'</li>\n",
       "\t<li>'mean_ThermalConductivity'</li>\n",
       "\t<li>'wtd_mean_ThermalConductivity'</li>\n",
       "\t<li>'gmean_ThermalConductivity'</li>\n",
       "\t<li>'wtd_gmean_ThermalConductivity'</li>\n",
       "\t<li>'entropy_ThermalConductivity'</li>\n",
       "\t<li>'wtd_entropy_ThermalConductivity'</li>\n",
       "\t<li>'range_ThermalConductivity'</li>\n",
       "\t<li>'wtd_range_ThermalConductivity'</li>\n",
       "\t<li>'std_ThermalConductivity'</li>\n",
       "\t<li>'wtd_std_ThermalConductivity'</li>\n",
       "\t<li>'mean_Valence'</li>\n",
       "\t<li>'wtd_mean_Valence'</li>\n",
       "\t<li>'gmean_Valence'</li>\n",
       "\t<li>'wtd_gmean_Valence'</li>\n",
       "\t<li>'entropy_Valence'</li>\n",
       "\t<li>'wtd_entropy_Valence'</li>\n",
       "\t<li>'range_Valence'</li>\n",
       "\t<li>'wtd_range_Valence'</li>\n",
       "\t<li>'std_Valence'</li>\n",
       "\t<li>'wtd_std_Valence'</li>\n",
       "\t<li>'critical_temp'</li>\n",
       "</ol>\n"
      ],
      "text/latex": [
       "\\begin{enumerate*}\n",
       "\\item 'number\\_of\\_elements'\n",
       "\\item 'mean\\_atomic\\_mass'\n",
       "\\item 'wtd\\_mean\\_atomic\\_mass'\n",
       "\\item 'gmean\\_atomic\\_mass'\n",
       "\\item 'wtd\\_gmean\\_atomic\\_mass'\n",
       "\\item 'entropy\\_atomic\\_mass'\n",
       "\\item 'wtd\\_entropy\\_atomic\\_mass'\n",
       "\\item 'range\\_atomic\\_mass'\n",
       "\\item 'wtd\\_range\\_atomic\\_mass'\n",
       "\\item 'std\\_atomic\\_mass'\n",
       "\\item 'wtd\\_std\\_atomic\\_mass'\n",
       "\\item 'mean\\_fie'\n",
       "\\item 'wtd\\_mean\\_fie'\n",
       "\\item 'gmean\\_fie'\n",
       "\\item 'wtd\\_gmean\\_fie'\n",
       "\\item 'entropy\\_fie'\n",
       "\\item 'wtd\\_entropy\\_fie'\n",
       "\\item 'range\\_fie'\n",
       "\\item 'wtd\\_range\\_fie'\n",
       "\\item 'std\\_fie'\n",
       "\\item 'wtd\\_std\\_fie'\n",
       "\\item 'mean\\_atomic\\_radius'\n",
       "\\item 'wtd\\_mean\\_atomic\\_radius'\n",
       "\\item 'gmean\\_atomic\\_radius'\n",
       "\\item 'wtd\\_gmean\\_atomic\\_radius'\n",
       "\\item 'entropy\\_atomic\\_radius'\n",
       "\\item 'wtd\\_entropy\\_atomic\\_radius'\n",
       "\\item 'range\\_atomic\\_radius'\n",
       "\\item 'wtd\\_range\\_atomic\\_radius'\n",
       "\\item 'std\\_atomic\\_radius'\n",
       "\\item 'wtd\\_std\\_atomic\\_radius'\n",
       "\\item 'mean\\_Density'\n",
       "\\item 'wtd\\_mean\\_Density'\n",
       "\\item 'gmean\\_Density'\n",
       "\\item 'wtd\\_gmean\\_Density'\n",
       "\\item 'entropy\\_Density'\n",
       "\\item 'wtd\\_entropy\\_Density'\n",
       "\\item 'range\\_Density'\n",
       "\\item 'wtd\\_range\\_Density'\n",
       "\\item 'std\\_Density'\n",
       "\\item 'wtd\\_std\\_Density'\n",
       "\\item 'mean\\_ElectronAffinity'\n",
       "\\item 'wtd\\_mean\\_ElectronAffinity'\n",
       "\\item 'gmean\\_ElectronAffinity'\n",
       "\\item 'wtd\\_gmean\\_ElectronAffinity'\n",
       "\\item 'entropy\\_ElectronAffinity'\n",
       "\\item 'wtd\\_entropy\\_ElectronAffinity'\n",
       "\\item 'range\\_ElectronAffinity'\n",
       "\\item 'wtd\\_range\\_ElectronAffinity'\n",
       "\\item 'std\\_ElectronAffinity'\n",
       "\\item 'wtd\\_std\\_ElectronAffinity'\n",
       "\\item 'mean\\_FusionHeat'\n",
       "\\item 'wtd\\_mean\\_FusionHeat'\n",
       "\\item 'gmean\\_FusionHeat'\n",
       "\\item 'wtd\\_gmean\\_FusionHeat'\n",
       "\\item 'entropy\\_FusionHeat'\n",
       "\\item 'wtd\\_entropy\\_FusionHeat'\n",
       "\\item 'range\\_FusionHeat'\n",
       "\\item 'wtd\\_range\\_FusionHeat'\n",
       "\\item 'std\\_FusionHeat'\n",
       "\\item 'wtd\\_std\\_FusionHeat'\n",
       "\\item 'mean\\_ThermalConductivity'\n",
       "\\item 'wtd\\_mean\\_ThermalConductivity'\n",
       "\\item 'gmean\\_ThermalConductivity'\n",
       "\\item 'wtd\\_gmean\\_ThermalConductivity'\n",
       "\\item 'entropy\\_ThermalConductivity'\n",
       "\\item 'wtd\\_entropy\\_ThermalConductivity'\n",
       "\\item 'range\\_ThermalConductivity'\n",
       "\\item 'wtd\\_range\\_ThermalConductivity'\n",
       "\\item 'std\\_ThermalConductivity'\n",
       "\\item 'wtd\\_std\\_ThermalConductivity'\n",
       "\\item 'mean\\_Valence'\n",
       "\\item 'wtd\\_mean\\_Valence'\n",
       "\\item 'gmean\\_Valence'\n",
       "\\item 'wtd\\_gmean\\_Valence'\n",
       "\\item 'entropy\\_Valence'\n",
       "\\item 'wtd\\_entropy\\_Valence'\n",
       "\\item 'range\\_Valence'\n",
       "\\item 'wtd\\_range\\_Valence'\n",
       "\\item 'std\\_Valence'\n",
       "\\item 'wtd\\_std\\_Valence'\n",
       "\\item 'critical\\_temp'\n",
       "\\end{enumerate*}\n"
      ],
      "text/markdown": [
       "1. 'number_of_elements'\n",
       "2. 'mean_atomic_mass'\n",
       "3. 'wtd_mean_atomic_mass'\n",
       "4. 'gmean_atomic_mass'\n",
       "5. 'wtd_gmean_atomic_mass'\n",
       "6. 'entropy_atomic_mass'\n",
       "7. 'wtd_entropy_atomic_mass'\n",
       "8. 'range_atomic_mass'\n",
       "9. 'wtd_range_atomic_mass'\n",
       "10. 'std_atomic_mass'\n",
       "11. 'wtd_std_atomic_mass'\n",
       "12. 'mean_fie'\n",
       "13. 'wtd_mean_fie'\n",
       "14. 'gmean_fie'\n",
       "15. 'wtd_gmean_fie'\n",
       "16. 'entropy_fie'\n",
       "17. 'wtd_entropy_fie'\n",
       "18. 'range_fie'\n",
       "19. 'wtd_range_fie'\n",
       "20. 'std_fie'\n",
       "21. 'wtd_std_fie'\n",
       "22. 'mean_atomic_radius'\n",
       "23. 'wtd_mean_atomic_radius'\n",
       "24. 'gmean_atomic_radius'\n",
       "25. 'wtd_gmean_atomic_radius'\n",
       "26. 'entropy_atomic_radius'\n",
       "27. 'wtd_entropy_atomic_radius'\n",
       "28. 'range_atomic_radius'\n",
       "29. 'wtd_range_atomic_radius'\n",
       "30. 'std_atomic_radius'\n",
       "31. 'wtd_std_atomic_radius'\n",
       "32. 'mean_Density'\n",
       "33. 'wtd_mean_Density'\n",
       "34. 'gmean_Density'\n",
       "35. 'wtd_gmean_Density'\n",
       "36. 'entropy_Density'\n",
       "37. 'wtd_entropy_Density'\n",
       "38. 'range_Density'\n",
       "39. 'wtd_range_Density'\n",
       "40. 'std_Density'\n",
       "41. 'wtd_std_Density'\n",
       "42. 'mean_ElectronAffinity'\n",
       "43. 'wtd_mean_ElectronAffinity'\n",
       "44. 'gmean_ElectronAffinity'\n",
       "45. 'wtd_gmean_ElectronAffinity'\n",
       "46. 'entropy_ElectronAffinity'\n",
       "47. 'wtd_entropy_ElectronAffinity'\n",
       "48. 'range_ElectronAffinity'\n",
       "49. 'wtd_range_ElectronAffinity'\n",
       "50. 'std_ElectronAffinity'\n",
       "51. 'wtd_std_ElectronAffinity'\n",
       "52. 'mean_FusionHeat'\n",
       "53. 'wtd_mean_FusionHeat'\n",
       "54. 'gmean_FusionHeat'\n",
       "55. 'wtd_gmean_FusionHeat'\n",
       "56. 'entropy_FusionHeat'\n",
       "57. 'wtd_entropy_FusionHeat'\n",
       "58. 'range_FusionHeat'\n",
       "59. 'wtd_range_FusionHeat'\n",
       "60. 'std_FusionHeat'\n",
       "61. 'wtd_std_FusionHeat'\n",
       "62. 'mean_ThermalConductivity'\n",
       "63. 'wtd_mean_ThermalConductivity'\n",
       "64. 'gmean_ThermalConductivity'\n",
       "65. 'wtd_gmean_ThermalConductivity'\n",
       "66. 'entropy_ThermalConductivity'\n",
       "67. 'wtd_entropy_ThermalConductivity'\n",
       "68. 'range_ThermalConductivity'\n",
       "69. 'wtd_range_ThermalConductivity'\n",
       "70. 'std_ThermalConductivity'\n",
       "71. 'wtd_std_ThermalConductivity'\n",
       "72. 'mean_Valence'\n",
       "73. 'wtd_mean_Valence'\n",
       "74. 'gmean_Valence'\n",
       "75. 'wtd_gmean_Valence'\n",
       "76. 'entropy_Valence'\n",
       "77. 'wtd_entropy_Valence'\n",
       "78. 'range_Valence'\n",
       "79. 'wtd_range_Valence'\n",
       "80. 'std_Valence'\n",
       "81. 'wtd_std_Valence'\n",
       "82. 'critical_temp'\n",
       "\n",
       "\n"
      ],
      "text/plain": [
       " [1] \"number_of_elements\"              \"mean_atomic_mass\"               \n",
       " [3] \"wtd_mean_atomic_mass\"            \"gmean_atomic_mass\"              \n",
       " [5] \"wtd_gmean_atomic_mass\"           \"entropy_atomic_mass\"            \n",
       " [7] \"wtd_entropy_atomic_mass\"         \"range_atomic_mass\"              \n",
       " [9] \"wtd_range_atomic_mass\"           \"std_atomic_mass\"                \n",
       "[11] \"wtd_std_atomic_mass\"             \"mean_fie\"                       \n",
       "[13] \"wtd_mean_fie\"                    \"gmean_fie\"                      \n",
       "[15] \"wtd_gmean_fie\"                   \"entropy_fie\"                    \n",
       "[17] \"wtd_entropy_fie\"                 \"range_fie\"                      \n",
       "[19] \"wtd_range_fie\"                   \"std_fie\"                        \n",
       "[21] \"wtd_std_fie\"                     \"mean_atomic_radius\"             \n",
       "[23] \"wtd_mean_atomic_radius\"          \"gmean_atomic_radius\"            \n",
       "[25] \"wtd_gmean_atomic_radius\"         \"entropy_atomic_radius\"          \n",
       "[27] \"wtd_entropy_atomic_radius\"       \"range_atomic_radius\"            \n",
       "[29] \"wtd_range_atomic_radius\"         \"std_atomic_radius\"              \n",
       "[31] \"wtd_std_atomic_radius\"           \"mean_Density\"                   \n",
       "[33] \"wtd_mean_Density\"                \"gmean_Density\"                  \n",
       "[35] \"wtd_gmean_Density\"               \"entropy_Density\"                \n",
       "[37] \"wtd_entropy_Density\"             \"range_Density\"                  \n",
       "[39] \"wtd_range_Density\"               \"std_Density\"                    \n",
       "[41] \"wtd_std_Density\"                 \"mean_ElectronAffinity\"          \n",
       "[43] \"wtd_mean_ElectronAffinity\"       \"gmean_ElectronAffinity\"         \n",
       "[45] \"wtd_gmean_ElectronAffinity\"      \"entropy_ElectronAffinity\"       \n",
       "[47] \"wtd_entropy_ElectronAffinity\"    \"range_ElectronAffinity\"         \n",
       "[49] \"wtd_range_ElectronAffinity\"      \"std_ElectronAffinity\"           \n",
       "[51] \"wtd_std_ElectronAffinity\"        \"mean_FusionHeat\"                \n",
       "[53] \"wtd_mean_FusionHeat\"             \"gmean_FusionHeat\"               \n",
       "[55] \"wtd_gmean_FusionHeat\"            \"entropy_FusionHeat\"             \n",
       "[57] \"wtd_entropy_FusionHeat\"          \"range_FusionHeat\"               \n",
       "[59] \"wtd_range_FusionHeat\"            \"std_FusionHeat\"                 \n",
       "[61] \"wtd_std_FusionHeat\"              \"mean_ThermalConductivity\"       \n",
       "[63] \"wtd_mean_ThermalConductivity\"    \"gmean_ThermalConductivity\"      \n",
       "[65] \"wtd_gmean_ThermalConductivity\"   \"entropy_ThermalConductivity\"    \n",
       "[67] \"wtd_entropy_ThermalConductivity\" \"range_ThermalConductivity\"      \n",
       "[69] \"wtd_range_ThermalConductivity\"   \"std_ThermalConductivity\"        \n",
       "[71] \"wtd_std_ThermalConductivity\"     \"mean_Valence\"                   \n",
       "[73] \"wtd_mean_Valence\"                \"gmean_Valence\"                  \n",
       "[75] \"wtd_gmean_Valence\"               \"entropy_Valence\"                \n",
       "[77] \"wtd_entropy_Valence\"             \"range_Valence\"                  \n",
       "[79] \"wtd_range_Valence\"               \"std_Valence\"                    \n",
       "[81] \"wtd_std_Valence\"                 \"critical_temp\"                  "
      ]
     },
     "metadata": {},
     "output_type": "display_data"
    }
   ],
   "source": [
    "names(data)"
   ]
  },
  {
   "cell_type": "code",
   "execution_count": 7,
   "metadata": {},
   "outputs": [
    {
     "data": {
      "text/html": [
       "<ol class=list-inline>\n",
       "\t<li>21263</li>\n",
       "\t<li>82</li>\n",
       "</ol>\n"
      ],
      "text/latex": [
       "\\begin{enumerate*}\n",
       "\\item 21263\n",
       "\\item 82\n",
       "\\end{enumerate*}\n"
      ],
      "text/markdown": [
       "1. 21263\n",
       "2. 82\n",
       "\n",
       "\n"
      ],
      "text/plain": [
       "[1] 21263    82"
      ]
     },
     "metadata": {},
     "output_type": "display_data"
    }
   ],
   "source": [
    "dim(data)"
   ]
  },
  {
   "cell_type": "code",
   "execution_count": 8,
   "metadata": {},
   "outputs": [
    {
     "name": "stdout",
     "output_type": "stream",
     "text": [
      "'data.frame':\t21263 obs. of  82 variables:\n",
      " $ number_of_elements             : int  4 5 4 4 4 4 4 4 4 4 ...\n",
      " $ mean_atomic_mass               : num  88.9 92.7 88.9 88.9 88.9 ...\n",
      " $ wtd_mean_atomic_mass           : num  57.9 58.5 57.9 57.9 57.8 ...\n",
      " $ gmean_atomic_mass              : num  66.4 73.1 66.4 66.4 66.4 ...\n",
      " $ wtd_gmean_atomic_mass          : num  36.1 36.4 36.1 36.1 36.1 ...\n",
      " $ entropy_atomic_mass            : num  1.18 1.45 1.18 1.18 1.18 ...\n",
      " $ wtd_entropy_atomic_mass        : num  1.062 1.058 0.976 1.022 1.129 ...\n",
      " $ range_atomic_mass              : num  123 123 123 123 123 ...\n",
      " $ wtd_range_atomic_mass          : num  31.8 36.2 35.7 33.8 27.8 ...\n",
      " $ std_atomic_mass                : num  52 47.1 52 52 52 ...\n",
      " $ wtd_std_atomic_mass            : num  53.6 54 53.7 53.6 53.6 ...\n",
      " $ mean_fie                       : num  775 766 775 775 775 ...\n",
      " $ wtd_mean_fie                   : num  1010 1011 1011 1011 1010 ...\n",
      " $ gmean_fie                      : num  718 721 718 718 718 ...\n",
      " $ wtd_gmean_fie                  : num  938 939 939 939 937 ...\n",
      " $ entropy_fie                    : num  1.31 1.54 1.31 1.31 1.31 ...\n",
      " $ wtd_entropy_fie                : num  0.791 0.807 0.774 0.783 0.805 ...\n",
      " $ range_fie                      : num  811 811 811 811 811 ...\n",
      " $ wtd_range_fie                  : num  736 743 743 740 729 ...\n",
      " $ std_fie                        : num  324 290 324 324 324 ...\n",
      " $ wtd_std_fie                    : num  356 355 355 355 356 ...\n",
      " $ mean_atomic_radius             : num  160 161 160 160 160 ...\n",
      " $ wtd_mean_atomic_radius         : num  106 105 105 105 106 ...\n",
      " $ gmean_atomic_radius            : num  136 141 136 136 136 ...\n",
      " $ wtd_gmean_atomic_radius        : num  84.5 84.4 84.2 84.4 84.8 ...\n",
      " $ entropy_atomic_radius          : num  1.26 1.51 1.26 1.26 1.26 ...\n",
      " $ wtd_entropy_atomic_radius      : num  1.21 1.2 1.13 1.17 1.26 ...\n",
      " $ range_atomic_radius            : int  205 205 205 205 205 205 205 171 171 171 ...\n",
      " $ wtd_range_atomic_radius        : num  42.9 50.6 49.3 46.1 36.5 ...\n",
      " $ std_atomic_radius              : num  75.2 67.3 75.2 75.2 75.2 ...\n",
      " $ wtd_std_atomic_radius          : num  69.2 68 67.8 68.5 70.6 ...\n",
      " $ mean_Density                   : num  4654 5821 4654 4654 4654 ...\n",
      " $ wtd_mean_Density               : num  2962 3021 2999 2980 2924 ...\n",
      " $ gmean_Density                  : num  725 1237 725 725 725 ...\n",
      " $ wtd_gmean_Density              : num  53.5 54.1 54 53.8 53.1 ...\n",
      " $ entropy_Density                : num  1.03 1.31 1.03 1.03 1.03 ...\n",
      " $ wtd_entropy_Density            : num  0.815 0.915 0.76 0.789 0.86 ...\n",
      " $ range_Density                  : num  8959 10489 8959 8959 8959 ...\n",
      " $ wtd_range_Density              : num  1580 1667 1667 1623 1492 ...\n",
      " $ std_Density                    : num  3306 3767 3306 3306 3306 ...\n",
      " $ wtd_std_Density                : num  3573 3633 3592 3582 3553 ...\n",
      " $ mean_ElectronAffinity          : num  81.8 90.9 81.8 81.8 81.8 ...\n",
      " $ wtd_mean_ElectronAffinity      : num  112 112 112 112 111 ...\n",
      " $ gmean_ElectronAffinity         : num  60.1 69.8 60.1 60.1 60.1 ...\n",
      " $ wtd_gmean_ElectronAffinity     : num  99.4 101.2 101.1 100.2 97.8 ...\n",
      " $ entropy_ElectronAffinity       : num  1.16 1.43 1.16 1.16 1.16 ...\n",
      " $ wtd_entropy_ElectronAffinity   : num  0.787 0.839 0.786 0.787 0.787 ...\n",
      " $ range_ElectronAffinity         : num  127 127 127 127 127 ...\n",
      " $ wtd_range_ElectronAffinity     : num  81 81.2 81.2 81.1 80.8 ...\n",
      " $ std_ElectronAffinity           : num  51.4 49.4 51.4 51.4 51.4 ...\n",
      " $ wtd_std_ElectronAffinity       : num  42.6 41.7 41.6 42.1 43.5 ...\n",
      " $ mean_FusionHeat                : num  6.91 7.78 6.91 6.91 6.91 ...\n",
      " $ wtd_mean_FusionHeat            : num  3.85 3.8 3.82 3.83 3.87 ...\n",
      " $ gmean_FusionHeat               : num  3.48 4.4 3.48 3.48 3.48 ...\n",
      " $ wtd_gmean_FusionHeat           : num  1.04 1.04 1.04 1.04 1.04 ...\n",
      " $ entropy_FusionHeat             : num  1.09 1.37 1.09 1.09 1.09 ...\n",
      " $ wtd_entropy_FusionHeat         : num  0.995 1.073 0.927 0.964 1.045 ...\n",
      " $ range_FusionHeat               : num  12.9 12.9 12.9 12.9 12.9 ...\n",
      " $ wtd_range_FusionHeat           : num  1.74 1.6 1.76 1.74 1.74 ...\n",
      " $ std_FusionHeat                 : num  4.6 4.47 4.6 4.6 4.6 ...\n",
      " $ wtd_std_FusionHeat             : num  4.67 4.6 4.65 4.66 4.68 ...\n",
      " $ mean_ThermalConductivity       : num  108 172 108 108 108 ...\n",
      " $ wtd_mean_ThermalConductivity   : num  61 61.4 60.9 61 61.1 ...\n",
      " $ gmean_ThermalConductivity      : num  7.06 16.06 7.06 7.06 7.06 ...\n",
      " $ wtd_gmean_ThermalConductivity  : num  0.622 0.62 0.619 0.621 0.625 ...\n",
      " $ entropy_ThermalConductivity    : num  0.308 0.847 0.308 0.308 0.308 ...\n",
      " $ wtd_entropy_ThermalConductivity: num  0.263 0.568 0.25 0.257 0.273 ...\n",
      " $ range_ThermalConductivity      : num  400 430 400 400 400 ...\n",
      " $ wtd_range_ThermalConductivity  : num  57.1 51.4 57.1 57.1 57.1 ...\n",
      " $ std_ThermalConductivity        : num  169 199 169 169 169 ...\n",
      " $ wtd_std_ThermalConductivity    : num  139 140 139 139 138 ...\n",
      " $ mean_Valence                   : num  2.25 2 2.25 2.25 2.25 2.25 2.25 2.25 2.25 2.25 ...\n",
      " $ wtd_mean_Valence               : num  2.26 2.26 2.27 2.26 2.24 ...\n",
      " $ gmean_Valence                  : num  2.21 1.89 2.21 2.21 2.21 ...\n",
      " $ wtd_gmean_Valence              : num  2.22 2.21 2.23 2.23 2.21 ...\n",
      " $ entropy_Valence                : num  1.37 1.56 1.37 1.37 1.37 ...\n",
      " $ wtd_entropy_Valence            : num  1.07 1.05 1.03 1.05 1.1 ...\n",
      " $ range_Valence                  : int  1 2 1 1 1 1 1 1 1 1 ...\n",
      " $ wtd_range_Valence              : num  1.09 1.13 1.11 1.1 1.06 ...\n",
      " $ std_Valence                    : num  0.433 0.632 0.433 0.433 0.433 ...\n",
      " $ wtd_std_Valence                : num  0.437 0.469 0.445 0.441 0.429 ...\n",
      " $ critical_temp                  : num  29 26 19 22 23 23 11 33 36 31 ...\n"
     ]
    }
   ],
   "source": [
    "str(data)"
   ]
  },
  {
   "cell_type": "code",
   "execution_count": 9,
   "metadata": {},
   "outputs": [
    {
     "data": {
      "text/html": [
       "<ol class=list-inline>\n",
       "\t<li>21263</li>\n",
       "\t<li>88</li>\n",
       "</ol>\n"
      ],
      "text/latex": [
       "\\begin{enumerate*}\n",
       "\\item 21263\n",
       "\\item 88\n",
       "\\end{enumerate*}\n"
      ],
      "text/markdown": [
       "1. 21263\n",
       "2. 88\n",
       "\n",
       "\n"
      ],
      "text/plain": [
       "[1] 21263    88"
      ]
     },
     "metadata": {},
     "output_type": "display_data"
    }
   ],
   "source": [
    "dim(elem.comp)"
   ]
  },
  {
   "cell_type": "code",
   "execution_count": 10,
   "metadata": {},
   "outputs": [
    {
     "data": {
      "text/html": [
       "<ol class=list-inline>\n",
       "\t<li>'H'</li>\n",
       "\t<li>'He'</li>\n",
       "\t<li>'Li'</li>\n",
       "\t<li>'Be'</li>\n",
       "\t<li>'B'</li>\n",
       "\t<li>'C'</li>\n",
       "\t<li>'N'</li>\n",
       "\t<li>'O'</li>\n",
       "\t<li>'F'</li>\n",
       "\t<li>'Ne'</li>\n",
       "\t<li>'Na'</li>\n",
       "\t<li>'Mg'</li>\n",
       "\t<li>'Al'</li>\n",
       "\t<li>'Si'</li>\n",
       "\t<li>'P'</li>\n",
       "\t<li>'S'</li>\n",
       "\t<li>'Cl'</li>\n",
       "\t<li>'Ar'</li>\n",
       "\t<li>'K'</li>\n",
       "\t<li>'Ca'</li>\n",
       "\t<li>'Sc'</li>\n",
       "\t<li>'Ti'</li>\n",
       "\t<li>'V'</li>\n",
       "\t<li>'Cr'</li>\n",
       "\t<li>'Mn'</li>\n",
       "\t<li>'Fe'</li>\n",
       "\t<li>'Co'</li>\n",
       "\t<li>'Ni'</li>\n",
       "\t<li>'Cu'</li>\n",
       "\t<li>'Zn'</li>\n",
       "\t<li>'Ga'</li>\n",
       "\t<li>'Ge'</li>\n",
       "\t<li>'As'</li>\n",
       "\t<li>'Se'</li>\n",
       "\t<li>'Br'</li>\n",
       "\t<li>'Kr'</li>\n",
       "\t<li>'Rb'</li>\n",
       "\t<li>'Sr'</li>\n",
       "\t<li>'Y'</li>\n",
       "\t<li>'Zr'</li>\n",
       "\t<li>'Nb'</li>\n",
       "\t<li>'Mo'</li>\n",
       "\t<li>'Tc'</li>\n",
       "\t<li>'Ru'</li>\n",
       "\t<li>'Rh'</li>\n",
       "\t<li>'Pd'</li>\n",
       "\t<li>'Ag'</li>\n",
       "\t<li>'Cd'</li>\n",
       "\t<li>'In'</li>\n",
       "\t<li>'Sn'</li>\n",
       "\t<li>'Sb'</li>\n",
       "\t<li>'Te'</li>\n",
       "\t<li>'I'</li>\n",
       "\t<li>'Xe'</li>\n",
       "\t<li>'Cs'</li>\n",
       "\t<li>'Ba'</li>\n",
       "\t<li>'La'</li>\n",
       "\t<li>'Ce'</li>\n",
       "\t<li>'Pr'</li>\n",
       "\t<li>'Nd'</li>\n",
       "\t<li>'Pm'</li>\n",
       "\t<li>'Sm'</li>\n",
       "\t<li>'Eu'</li>\n",
       "\t<li>'Gd'</li>\n",
       "\t<li>'Tb'</li>\n",
       "\t<li>'Dy'</li>\n",
       "\t<li>'Ho'</li>\n",
       "\t<li>'Er'</li>\n",
       "\t<li>'Tm'</li>\n",
       "\t<li>'Yb'</li>\n",
       "\t<li>'Lu'</li>\n",
       "\t<li>'Hf'</li>\n",
       "\t<li>'Ta'</li>\n",
       "\t<li>'W'</li>\n",
       "\t<li>'Re'</li>\n",
       "\t<li>'Os'</li>\n",
       "\t<li>'Ir'</li>\n",
       "\t<li>'Pt'</li>\n",
       "\t<li>'Au'</li>\n",
       "\t<li>'Hg'</li>\n",
       "\t<li>'Tl'</li>\n",
       "\t<li>'Pb'</li>\n",
       "\t<li>'Bi'</li>\n",
       "\t<li>'Po'</li>\n",
       "\t<li>'At'</li>\n",
       "\t<li>'Rn'</li>\n",
       "\t<li>'critical_temp'</li>\n",
       "\t<li>'material'</li>\n",
       "</ol>\n"
      ],
      "text/latex": [
       "\\begin{enumerate*}\n",
       "\\item 'H'\n",
       "\\item 'He'\n",
       "\\item 'Li'\n",
       "\\item 'Be'\n",
       "\\item 'B'\n",
       "\\item 'C'\n",
       "\\item 'N'\n",
       "\\item 'O'\n",
       "\\item 'F'\n",
       "\\item 'Ne'\n",
       "\\item 'Na'\n",
       "\\item 'Mg'\n",
       "\\item 'Al'\n",
       "\\item 'Si'\n",
       "\\item 'P'\n",
       "\\item 'S'\n",
       "\\item 'Cl'\n",
       "\\item 'Ar'\n",
       "\\item 'K'\n",
       "\\item 'Ca'\n",
       "\\item 'Sc'\n",
       "\\item 'Ti'\n",
       "\\item 'V'\n",
       "\\item 'Cr'\n",
       "\\item 'Mn'\n",
       "\\item 'Fe'\n",
       "\\item 'Co'\n",
       "\\item 'Ni'\n",
       "\\item 'Cu'\n",
       "\\item 'Zn'\n",
       "\\item 'Ga'\n",
       "\\item 'Ge'\n",
       "\\item 'As'\n",
       "\\item 'Se'\n",
       "\\item 'Br'\n",
       "\\item 'Kr'\n",
       "\\item 'Rb'\n",
       "\\item 'Sr'\n",
       "\\item 'Y'\n",
       "\\item 'Zr'\n",
       "\\item 'Nb'\n",
       "\\item 'Mo'\n",
       "\\item 'Tc'\n",
       "\\item 'Ru'\n",
       "\\item 'Rh'\n",
       "\\item 'Pd'\n",
       "\\item 'Ag'\n",
       "\\item 'Cd'\n",
       "\\item 'In'\n",
       "\\item 'Sn'\n",
       "\\item 'Sb'\n",
       "\\item 'Te'\n",
       "\\item 'I'\n",
       "\\item 'Xe'\n",
       "\\item 'Cs'\n",
       "\\item 'Ba'\n",
       "\\item 'La'\n",
       "\\item 'Ce'\n",
       "\\item 'Pr'\n",
       "\\item 'Nd'\n",
       "\\item 'Pm'\n",
       "\\item 'Sm'\n",
       "\\item 'Eu'\n",
       "\\item 'Gd'\n",
       "\\item 'Tb'\n",
       "\\item 'Dy'\n",
       "\\item 'Ho'\n",
       "\\item 'Er'\n",
       "\\item 'Tm'\n",
       "\\item 'Yb'\n",
       "\\item 'Lu'\n",
       "\\item 'Hf'\n",
       "\\item 'Ta'\n",
       "\\item 'W'\n",
       "\\item 'Re'\n",
       "\\item 'Os'\n",
       "\\item 'Ir'\n",
       "\\item 'Pt'\n",
       "\\item 'Au'\n",
       "\\item 'Hg'\n",
       "\\item 'Tl'\n",
       "\\item 'Pb'\n",
       "\\item 'Bi'\n",
       "\\item 'Po'\n",
       "\\item 'At'\n",
       "\\item 'Rn'\n",
       "\\item 'critical\\_temp'\n",
       "\\item 'material'\n",
       "\\end{enumerate*}\n"
      ],
      "text/markdown": [
       "1. 'H'\n",
       "2. 'He'\n",
       "3. 'Li'\n",
       "4. 'Be'\n",
       "5. 'B'\n",
       "6. 'C'\n",
       "7. 'N'\n",
       "8. 'O'\n",
       "9. 'F'\n",
       "10. 'Ne'\n",
       "11. 'Na'\n",
       "12. 'Mg'\n",
       "13. 'Al'\n",
       "14. 'Si'\n",
       "15. 'P'\n",
       "16. 'S'\n",
       "17. 'Cl'\n",
       "18. 'Ar'\n",
       "19. 'K'\n",
       "20. 'Ca'\n",
       "21. 'Sc'\n",
       "22. 'Ti'\n",
       "23. 'V'\n",
       "24. 'Cr'\n",
       "25. 'Mn'\n",
       "26. 'Fe'\n",
       "27. 'Co'\n",
       "28. 'Ni'\n",
       "29. 'Cu'\n",
       "30. 'Zn'\n",
       "31. 'Ga'\n",
       "32. 'Ge'\n",
       "33. 'As'\n",
       "34. 'Se'\n",
       "35. 'Br'\n",
       "36. 'Kr'\n",
       "37. 'Rb'\n",
       "38. 'Sr'\n",
       "39. 'Y'\n",
       "40. 'Zr'\n",
       "41. 'Nb'\n",
       "42. 'Mo'\n",
       "43. 'Tc'\n",
       "44. 'Ru'\n",
       "45. 'Rh'\n",
       "46. 'Pd'\n",
       "47. 'Ag'\n",
       "48. 'Cd'\n",
       "49. 'In'\n",
       "50. 'Sn'\n",
       "51. 'Sb'\n",
       "52. 'Te'\n",
       "53. 'I'\n",
       "54. 'Xe'\n",
       "55. 'Cs'\n",
       "56. 'Ba'\n",
       "57. 'La'\n",
       "58. 'Ce'\n",
       "59. 'Pr'\n",
       "60. 'Nd'\n",
       "61. 'Pm'\n",
       "62. 'Sm'\n",
       "63. 'Eu'\n",
       "64. 'Gd'\n",
       "65. 'Tb'\n",
       "66. 'Dy'\n",
       "67. 'Ho'\n",
       "68. 'Er'\n",
       "69. 'Tm'\n",
       "70. 'Yb'\n",
       "71. 'Lu'\n",
       "72. 'Hf'\n",
       "73. 'Ta'\n",
       "74. 'W'\n",
       "75. 'Re'\n",
       "76. 'Os'\n",
       "77. 'Ir'\n",
       "78. 'Pt'\n",
       "79. 'Au'\n",
       "80. 'Hg'\n",
       "81. 'Tl'\n",
       "82. 'Pb'\n",
       "83. 'Bi'\n",
       "84. 'Po'\n",
       "85. 'At'\n",
       "86. 'Rn'\n",
       "87. 'critical_temp'\n",
       "88. 'material'\n",
       "\n",
       "\n"
      ],
      "text/plain": [
       " [1] \"H\"             \"He\"            \"Li\"            \"Be\"           \n",
       " [5] \"B\"             \"C\"             \"N\"             \"O\"            \n",
       " [9] \"F\"             \"Ne\"            \"Na\"            \"Mg\"           \n",
       "[13] \"Al\"            \"Si\"            \"P\"             \"S\"            \n",
       "[17] \"Cl\"            \"Ar\"            \"K\"             \"Ca\"           \n",
       "[21] \"Sc\"            \"Ti\"            \"V\"             \"Cr\"           \n",
       "[25] \"Mn\"            \"Fe\"            \"Co\"            \"Ni\"           \n",
       "[29] \"Cu\"            \"Zn\"            \"Ga\"            \"Ge\"           \n",
       "[33] \"As\"            \"Se\"            \"Br\"            \"Kr\"           \n",
       "[37] \"Rb\"            \"Sr\"            \"Y\"             \"Zr\"           \n",
       "[41] \"Nb\"            \"Mo\"            \"Tc\"            \"Ru\"           \n",
       "[45] \"Rh\"            \"Pd\"            \"Ag\"            \"Cd\"           \n",
       "[49] \"In\"            \"Sn\"            \"Sb\"            \"Te\"           \n",
       "[53] \"I\"             \"Xe\"            \"Cs\"            \"Ba\"           \n",
       "[57] \"La\"            \"Ce\"            \"Pr\"            \"Nd\"           \n",
       "[61] \"Pm\"            \"Sm\"            \"Eu\"            \"Gd\"           \n",
       "[65] \"Tb\"            \"Dy\"            \"Ho\"            \"Er\"           \n",
       "[69] \"Tm\"            \"Yb\"            \"Lu\"            \"Hf\"           \n",
       "[73] \"Ta\"            \"W\"             \"Re\"            \"Os\"           \n",
       "[77] \"Ir\"            \"Pt\"            \"Au\"            \"Hg\"           \n",
       "[81] \"Tl\"            \"Pb\"            \"Bi\"            \"Po\"           \n",
       "[85] \"At\"            \"Rn\"            \"critical_temp\" \"material\"     "
      ]
     },
     "metadata": {},
     "output_type": "display_data"
    }
   ],
   "source": [
    "names(elem.comp)"
   ]
  },
  {
   "cell_type": "code",
   "execution_count": 11,
   "metadata": {},
   "outputs": [
    {
     "name": "stdout",
     "output_type": "stream",
     "text": [
      "'data.frame':\t21263 obs. of  88 variables:\n",
      " $ H            : num  0 0 0 0 0 0 0 0 0 0 ...\n",
      " $ He           : int  0 0 0 0 0 0 0 0 0 0 ...\n",
      " $ Li           : num  0 0 0 0 0 0 0 0 0 0 ...\n",
      " $ Be           : num  0 0 0 0 0 0 0 0 0 0 ...\n",
      " $ B            : num  0 0 0 0 0 0 0 0 0 0 ...\n",
      " $ C            : num  0 0 0 0 0 0 0 0 0 0 ...\n",
      " $ N            : num  0 0 0 0 0 0 0 0 0 0 ...\n",
      " $ O            : num  4 4 4 4 4 4 4 4 4 4 ...\n",
      " $ F            : num  0 0 0 0 0 0 0 0 0 0 ...\n",
      " $ Ne           : int  0 0 0 0 0 0 0 0 0 0 ...\n",
      " $ Na           : num  0 0 0 0 0 0 0 0 0 0 ...\n",
      " $ Mg           : num  0 0 0 0 0 0 0 0 0 0 ...\n",
      " $ Al           : num  0 0 0 0 0 0 0 0 0 0 ...\n",
      " $ Si           : num  0 0 0 0 0 0 0 0 0 0 ...\n",
      " $ P            : num  0 0 0 0 0 0 0 0 0 0 ...\n",
      " $ S            : num  0 0 0 0 0 0 0 0 0 0 ...\n",
      " $ Cl           : num  0 0 0 0 0 0 0 0 0 0 ...\n",
      " $ Ar           : int  0 0 0 0 0 0 0 0 0 0 ...\n",
      " $ K            : num  0 0 0 0 0 0 0 0 0 0 ...\n",
      " $ Ca           : num  0 0 0 0 0 0 0 0 0 0 ...\n",
      " $ Sc           : num  0 0 0 0 0 0 0 0 0 0 ...\n",
      " $ Ti           : num  0 0 0 0 0 0 0 0 0 0 ...\n",
      " $ V            : num  0 0 0 0 0 0 0 0 0 0 ...\n",
      " $ Cr           : num  0 0 0 0 0 0 0 0 0 0 ...\n",
      " $ Mn           : num  0 0 0 0 0 0 0 0 0 0 ...\n",
      " $ Fe           : num  0 0 0 0 0 0 0 0 0 0 ...\n",
      " $ Co           : num  0 0 0 0 0 0 0 0 0 0 ...\n",
      " $ Ni           : num  0 0 0 0 0 0 0 0 0 0 ...\n",
      " $ Cu           : num  1 0.9 1 1 1 1 1 1 1 1 ...\n",
      " $ Zn           : num  0 0 0 0 0 0 0 0 0 0 ...\n",
      " $ Ga           : num  0 0 0 0 0 0 0 0 0 0 ...\n",
      " $ Ge           : num  0 0 0 0 0 0 0 0 0 0 ...\n",
      " $ As           : num  0 0 0 0 0 0 0 0 0 0 ...\n",
      " $ Se           : num  0 0 0 0 0 0 0 0 0 0 ...\n",
      " $ Br           : num  0 0 0 0 0 0 0 0 0 0 ...\n",
      " $ Kr           : int  0 0 0 0 0 0 0 0 0 0 ...\n",
      " $ Rb           : num  0 0 0 0 0 0 0 0 0 0 ...\n",
      " $ Sr           : num  0 0 0 0 0 0 0 0.1 0.15 0.2 ...\n",
      " $ Y            : num  0 0 0 0 0 0 0 0 0 0 ...\n",
      " $ Zr           : num  0 0 0 0 0 0 0 0 0 0 ...\n",
      " $ Nb           : num  0 0 0 0 0 0 0 0 0 0 ...\n",
      " $ Mo           : num  0 0 0 0 0 0 0 0 0 0 ...\n",
      " $ Tc           : num  0 0 0 0 0 0 0 0 0 0 ...\n",
      " $ Ru           : num  0 0 0 0 0 0 0 0 0 0 ...\n",
      " $ Rh           : num  0 0 0 0 0 0 0 0 0 0 ...\n",
      " $ Pd           : num  0 0 0 0 0 0 0 0 0 0 ...\n",
      " $ Ag           : num  0 0.1 0 0 0 0 0 0 0 0 ...\n",
      " $ Cd           : num  0 0 0 0 0 0 0 0 0 0 ...\n",
      " $ In           : num  0 0 0 0 0 0 0 0 0 0 ...\n",
      " $ Sn           : num  0 0 0 0 0 0 0 0 0 0 ...\n",
      " $ Sb           : num  0 0 0 0 0 0 0 0 0 0 ...\n",
      " $ Te           : num  0 0 0 0 0 0 0 0 0 0 ...\n",
      " $ I            : num  0 0 0 0 0 0 0 0 0 0 ...\n",
      " $ Xe           : int  0 0 0 0 0 0 0 0 0 0 ...\n",
      " $ Cs           : num  0 0 0 0 0 0 0 0 0 0 ...\n",
      " $ Ba           : num  0.2 0.1 0.1 0.15 0.3 0.5 1 0 0 0 ...\n",
      " $ La           : num  1.8 1.9 1.9 1.85 1.7 1.5 1 1.9 1.85 1.8 ...\n",
      " $ Ce           : num  0 0 0 0 0 0 0 0 0 0 ...\n",
      " $ Pr           : num  0 0 0 0 0 0 0 0 0 0 ...\n",
      " $ Nd           : num  0 0 0 0 0 0 0 0 0 0 ...\n",
      " $ Pm           : int  0 0 0 0 0 0 0 0 0 0 ...\n",
      " $ Sm           : num  0 0 0 0 0 0 0 0 0 0 ...\n",
      " $ Eu           : num  0 0 0 0 0 0 0 0 0 0 ...\n",
      " $ Gd           : num  0 0 0 0 0 0 0 0 0 0 ...\n",
      " $ Tb           : num  0 0 0 0 0 0 0 0 0 0 ...\n",
      " $ Dy           : num  0 0 0 0 0 0 0 0 0 0 ...\n",
      " $ Ho           : num  0 0 0 0 0 0 0 0 0 0 ...\n",
      " $ Er           : num  0 0 0 0 0 0 0 0 0 0 ...\n",
      " $ Tm           : num  0 0 0 0 0 0 0 0 0 0 ...\n",
      " $ Yb           : num  0 0 0 0 0 0 0 0 0 0 ...\n",
      " $ Lu           : num  0 0 0 0 0 0 0 0 0 0 ...\n",
      " $ Hf           : num  0 0 0 0 0 0 0 0 0 0 ...\n",
      " $ Ta           : num  0 0 0 0 0 0 0 0 0 0 ...\n",
      " $ W            : num  0 0 0 0 0 0 0 0 0 0 ...\n",
      " $ Re           : num  0 0 0 0 0 0 0 0 0 0 ...\n",
      " $ Os           : num  0 0 0 0 0 0 0 0 0 0 ...\n",
      " $ Ir           : num  0 0 0 0 0 0 0 0 0 0 ...\n",
      " $ Pt           : num  0 0 0 0 0 0 0 0 0 0 ...\n",
      " $ Au           : num  0 0 0 0 0 0 0 0 0 0 ...\n",
      " $ Hg           : num  0 0 0 0 0 0 0 0 0 0 ...\n",
      " $ Tl           : num  0 0 0 0 0 0 0 0 0 0 ...\n",
      " $ Pb           : num  0 0 0 0 0 0 0 0 0 0 ...\n",
      " $ Bi           : num  0 0 0 0 0 0 0 0 0 0 ...\n",
      " $ Po           : int  0 0 0 0 0 0 0 0 0 0 ...\n",
      " $ At           : int  0 0 0 0 0 0 0 0 0 0 ...\n",
      " $ Rn           : int  0 0 0 0 0 0 0 0 0 0 ...\n",
      " $ critical_temp: num  29 26 19 22 23 23 11 33 36 31 ...\n",
      " $ material     : Factor w/ 15542 levels \"Ag0.002Al0.998\",..: 518 509 512 504 528 592 950 11890 11888 11901 ...\n"
     ]
    },
    {
     "data": {
      "text/plain": [
       "NULL"
      ]
     },
     "metadata": {},
     "output_type": "display_data"
    }
   ],
   "source": [
    "head(str(elem.comp))"
   ]
  },
  {
   "cell_type": "markdown",
   "metadata": {},
   "source": [
    "### ***As per the problem description, there are 8 properties with 10 features for each property***\n",
    "\n",
    "   * So, let us consider the correlation of these 8 features\n",
    "   - We will use the mean of these features and the target variable\n",
    "   - From this analysis, we try to find the relationship between the features and target variable"
   ]
  },
  {
   "cell_type": "code",
   "execution_count": 12,
   "metadata": {},
   "outputs": [
    {
     "data": {
      "text/html": [
       "<ol class=list-inline>\n",
       "\t<li>2</li>\n",
       "\t<li>12</li>\n",
       "\t<li>22</li>\n",
       "\t<li>32</li>\n",
       "\t<li>42</li>\n",
       "\t<li>52</li>\n",
       "\t<li>62</li>\n",
       "\t<li>72</li>\n",
       "\t<li>82</li>\n",
       "</ol>\n"
      ],
      "text/latex": [
       "\\begin{enumerate*}\n",
       "\\item 2\n",
       "\\item 12\n",
       "\\item 22\n",
       "\\item 32\n",
       "\\item 42\n",
       "\\item 52\n",
       "\\item 62\n",
       "\\item 72\n",
       "\\item 82\n",
       "\\end{enumerate*}\n"
      ],
      "text/markdown": [
       "1. 2\n",
       "2. 12\n",
       "3. 22\n",
       "4. 32\n",
       "5. 42\n",
       "6. 52\n",
       "7. 62\n",
       "8. 72\n",
       "9. 82\n",
       "\n",
       "\n"
      ],
      "text/plain": [
       "[1]  2 12 22 32 42 52 62 72 82"
      ]
     },
     "metadata": {},
     "output_type": "display_data"
    },
    {
     "data": {
      "image/png": "[encoded data removed]",
      "text/plain": [
       "plot without title"
      ]
     },
     "metadata": {},
     "output_type": "display_data"
    }
   ],
   "source": [
    "means.cols <- seq(2, 82, 10)\n",
    "means.cols\n",
    "\n",
    "means.data <- data[, c(means.cols)]\n",
    "\n",
    "scatterplotMatrix(data[, c(means.cols)], cex = 0.2, lower.panel = NULL)"
   ]
  },
  {
   "cell_type": "code",
   "execution_count": 13,
   "metadata": {},
   "outputs": [
    {
     "data": {
      "text/html": [
       "<table>\n",
       "<thead><tr><th></th><th scope=col>mean_atomic_mass</th><th scope=col>mean_fie</th><th scope=col>mean_atomic_radius</th><th scope=col>mean_Density</th><th scope=col>mean_ElectronAffinity</th><th scope=col>mean_FusionHeat</th><th scope=col>mean_ThermalConductivity</th><th scope=col>mean_Valence</th><th scope=col>critical_temp</th></tr></thead>\n",
       "<tbody>\n",
       "\t<tr><th scope=row>mean_atomic_mass</th><td> 1.00000000 </td><td>-0.285781955</td><td> 0.49766363 </td><td> 0.7568611  </td><td> 0.08822954 </td><td>-0.137668902</td><td>-0.15826564 </td><td> 0.37409881 </td><td>-0.1135232  </td></tr>\n",
       "\t<tr><th scope=row>mean_fie</th><td>-0.28578196 </td><td> 1.000000000</td><td>-0.69031861 </td><td>-0.1944060  </td><td> 0.46697221 </td><td>-0.001012562</td><td>-0.06780451 </td><td>-0.10974859 </td><td> 0.1022681  </td></tr>\n",
       "\t<tr><th scope=row>mean_atomic_radius</th><td> 0.49766363 </td><td>-0.690318608</td><td> 1.00000000 </td><td> 0.3692764  </td><td>-0.36773846 </td><td>-0.144850048</td><td> 0.02844322 </td><td> 0.05257839 </td><td> 0.1052727  </td></tr>\n",
       "\t<tr><th scope=row>mean_Density</th><td> 0.75686112 </td><td>-0.194405997</td><td> 0.36927643 </td><td> 1.0000000  </td><td> 0.13281700 </td><td> 0.264720166</td><td>-0.07385540 </td><td> 0.70964054 </td><td>-0.3682618  </td></tr>\n",
       "\t<tr><th scope=row>mean_ElectronAffinity</th><td> 0.08822954 </td><td> 0.466972210</td><td>-0.36773846 </td><td> 0.1328170  </td><td> 1.00000000 </td><td> 0.104044662</td><td>-0.01537427 </td><td> 0.32121600 </td><td>-0.1935505  </td></tr>\n",
       "\t<tr><th scope=row>mean_FusionHeat</th><td>-0.13766890 </td><td>-0.001012562</td><td>-0.14485005 </td><td> 0.2647202  </td><td> 0.10404466 </td><td> 1.000000000</td><td>-0.04014108 </td><td> 0.48812272 </td><td>-0.3855093  </td></tr>\n",
       "\t<tr><th scope=row>mean_ThermalConductivity</th><td>-0.15826564 </td><td>-0.067804508</td><td> 0.02844322 </td><td>-0.0738554  </td><td>-0.01537427 </td><td>-0.040141080</td><td> 1.00000000 </td><td>-0.35591237 </td><td> 0.3758129  </td></tr>\n",
       "\t<tr><th scope=row>mean_Valence</th><td> 0.37409881 </td><td>-0.109748588</td><td> 0.05257839 </td><td> 0.7096405  </td><td> 0.32121600 </td><td> 0.488122722</td><td>-0.35591237 </td><td> 1.00000000 </td><td>-0.6000849  </td></tr>\n",
       "\t<tr><th scope=row>critical_temp</th><td>-0.11352325 </td><td> 0.102268054</td><td> 0.10527269 </td><td>-0.3682618  </td><td>-0.19355049 </td><td>-0.385509259</td><td> 0.37581286 </td><td>-0.60008486 </td><td> 1.0000000  </td></tr>\n",
       "</tbody>\n",
       "</table>\n"
      ],
      "text/latex": [
       "\\begin{tabular}{r|lllllllll}\n",
       "  & mean\\_atomic\\_mass & mean\\_fie & mean\\_atomic\\_radius & mean\\_Density & mean\\_ElectronAffinity & mean\\_FusionHeat & mean\\_ThermalConductivity & mean\\_Valence & critical\\_temp\\\\\n",
       "\\hline\n",
       "\tmean\\_atomic\\_mass &  1.00000000  & -0.285781955 &  0.49766363  &  0.7568611   &  0.08822954  & -0.137668902 & -0.15826564  &  0.37409881  & -0.1135232  \\\\\n",
       "\tmean\\_fie & -0.28578196  &  1.000000000 & -0.69031861  & -0.1944060   &  0.46697221  & -0.001012562 & -0.06780451  & -0.10974859  &  0.1022681  \\\\\n",
       "\tmean\\_atomic\\_radius &  0.49766363  & -0.690318608 &  1.00000000  &  0.3692764   & -0.36773846  & -0.144850048 &  0.02844322  &  0.05257839  &  0.1052727  \\\\\n",
       "\tmean\\_Density &  0.75686112  & -0.194405997 &  0.36927643  &  1.0000000   &  0.13281700  &  0.264720166 & -0.07385540  &  0.70964054  & -0.3682618  \\\\\n",
       "\tmean\\_ElectronAffinity &  0.08822954  &  0.466972210 & -0.36773846  &  0.1328170   &  1.00000000  &  0.104044662 & -0.01537427  &  0.32121600  & -0.1935505  \\\\\n",
       "\tmean\\_FusionHeat & -0.13766890  & -0.001012562 & -0.14485005  &  0.2647202   &  0.10404466  &  1.000000000 & -0.04014108  &  0.48812272  & -0.3855093  \\\\\n",
       "\tmean\\_ThermalConductivity & -0.15826564  & -0.067804508 &  0.02844322  & -0.0738554   & -0.01537427  & -0.040141080 &  1.00000000  & -0.35591237  &  0.3758129  \\\\\n",
       "\tmean\\_Valence &  0.37409881  & -0.109748588 &  0.05257839  &  0.7096405   &  0.32121600  &  0.488122722 & -0.35591237  &  1.00000000  & -0.6000849  \\\\\n",
       "\tcritical\\_temp & -0.11352325  &  0.102268054 &  0.10527269  & -0.3682618   & -0.19355049  & -0.385509259 &  0.37581286  & -0.60008486  &  1.0000000  \\\\\n",
       "\\end{tabular}\n"
      ],
      "text/markdown": [
       "\n",
       "| <!--/--> | mean_atomic_mass | mean_fie | mean_atomic_radius | mean_Density | mean_ElectronAffinity | mean_FusionHeat | mean_ThermalConductivity | mean_Valence | critical_temp | \n",
       "|---|---|---|---|---|---|---|---|---|\n",
       "| mean_atomic_mass |  1.00000000  | -0.285781955 |  0.49766363  |  0.7568611   |  0.08822954  | -0.137668902 | -0.15826564  |  0.37409881  | -0.1135232   | \n",
       "| mean_fie | -0.28578196  |  1.000000000 | -0.69031861  | -0.1944060   |  0.46697221  | -0.001012562 | -0.06780451  | -0.10974859  |  0.1022681   | \n",
       "| mean_atomic_radius |  0.49766363  | -0.690318608 |  1.00000000  |  0.3692764   | -0.36773846  | -0.144850048 |  0.02844322  |  0.05257839  |  0.1052727   | \n",
       "| mean_Density |  0.75686112  | -0.194405997 |  0.36927643  |  1.0000000   |  0.13281700  |  0.264720166 | -0.07385540  |  0.70964054  | -0.3682618   | \n",
       "| mean_ElectronAffinity |  0.08822954  |  0.466972210 | -0.36773846  |  0.1328170   |  1.00000000  |  0.104044662 | -0.01537427  |  0.32121600  | -0.1935505   | \n",
       "| mean_FusionHeat | -0.13766890  | -0.001012562 | -0.14485005  |  0.2647202   |  0.10404466  |  1.000000000 | -0.04014108  |  0.48812272  | -0.3855093   | \n",
       "| mean_ThermalConductivity | -0.15826564  | -0.067804508 |  0.02844322  | -0.0738554   | -0.01537427  | -0.040141080 |  1.00000000  | -0.35591237  |  0.3758129   | \n",
       "| mean_Valence |  0.37409881  | -0.109748588 |  0.05257839  |  0.7096405   |  0.32121600  |  0.488122722 | -0.35591237  |  1.00000000  | -0.6000849   | \n",
       "| critical_temp | -0.11352325  |  0.102268054 |  0.10527269  | -0.3682618   | -0.19355049  | -0.385509259 |  0.37581286  | -0.60008486  |  1.0000000   | \n",
       "\n",
       "\n"
      ],
      "text/plain": [
       "                         mean_atomic_mass mean_fie     mean_atomic_radius\n",
       "mean_atomic_mass          1.00000000      -0.285781955  0.49766363       \n",
       "mean_fie                 -0.28578196       1.000000000 -0.69031861       \n",
       "mean_atomic_radius        0.49766363      -0.690318608  1.00000000       \n",
       "mean_Density              0.75686112      -0.194405997  0.36927643       \n",
       "mean_ElectronAffinity     0.08822954       0.466972210 -0.36773846       \n",
       "mean_FusionHeat          -0.13766890      -0.001012562 -0.14485005       \n",
       "mean_ThermalConductivity -0.15826564      -0.067804508  0.02844322       \n",
       "mean_Valence              0.37409881      -0.109748588  0.05257839       \n",
       "critical_temp            -0.11352325       0.102268054  0.10527269       \n",
       "                         mean_Density mean_ElectronAffinity mean_FusionHeat\n",
       "mean_atomic_mass          0.7568611    0.08822954           -0.137668902   \n",
       "mean_fie                 -0.1944060    0.46697221           -0.001012562   \n",
       "mean_atomic_radius        0.3692764   -0.36773846           -0.144850048   \n",
       "mean_Density              1.0000000    0.13281700            0.264720166   \n",
       "mean_ElectronAffinity     0.1328170    1.00000000            0.104044662   \n",
       "mean_FusionHeat           0.2647202    0.10404466            1.000000000   \n",
       "mean_ThermalConductivity -0.0738554   -0.01537427           -0.040141080   \n",
       "mean_Valence              0.7096405    0.32121600            0.488122722   \n",
       "critical_temp            -0.3682618   -0.19355049           -0.385509259   \n",
       "                         mean_ThermalConductivity mean_Valence critical_temp\n",
       "mean_atomic_mass         -0.15826564               0.37409881  -0.1135232   \n",
       "mean_fie                 -0.06780451              -0.10974859   0.1022681   \n",
       "mean_atomic_radius        0.02844322               0.05257839   0.1052727   \n",
       "mean_Density             -0.07385540               0.70964054  -0.3682618   \n",
       "mean_ElectronAffinity    -0.01537427               0.32121600  -0.1935505   \n",
       "mean_FusionHeat          -0.04014108               0.48812272  -0.3855093   \n",
       "mean_ThermalConductivity  1.00000000              -0.35591237   0.3758129   \n",
       "mean_Valence             -0.35591237               1.00000000  -0.6000849   \n",
       "critical_temp             0.37581286              -0.60008486   1.0000000   "
      ]
     },
     "metadata": {},
     "output_type": "display_data"
    }
   ],
   "source": [
    "means.cor <- cor(means.data) \n",
    "means.cor"
   ]
  },
  {
   "cell_type": "code",
   "execution_count": 14,
   "metadata": {},
   "outputs": [
    {
     "data": {
      "image/png": "[encoded data removed]",
      "text/plain": [
       "plot without title"
      ]
     },
     "metadata": {},
     "output_type": "display_data"
    }
   ],
   "source": [
    "##### Use the below command only if the scatterplotMatrix is taking too long\n",
    "pairs(means.data, upper.panel = NULL, cex = 0.1)"
   ]
  },
  {
   "cell_type": "markdown",
   "metadata": {},
   "source": [
    "**If we focus on the bottom row plots, we find that almost all the attributes are normally distributed w.r.t. the critical temperature.**\n",
    "   - There is skewness in some of them, for example, Electron Affinity is right skewed.\n",
    "   - But, in all the cases, the distribution resembles a normal curve.\n",
    "   \n",
    "**From the above plots and matrix, we can see that the variables mean_atomic_mass and mean_density are highly correlated**\n",
    "   - This is logical as: Density (${\\rho}$) = Mass (M) / Volume (V) \n",
    "   \n",
    "**Another variable, mean_valence is also highly correlated with mean_density**"
   ]
  },
  {
   "cell_type": "code",
   "execution_count": 15,
   "metadata": {},
   "outputs": [
    {
     "data": {
      "text/html": [
       "<ol class=list-inline>\n",
       "\t<li>0.756861118437771</li>\n",
       "\t<li>0.756861118437771</li>\n",
       "\t<li>0.709640537152613</li>\n",
       "\t<li>0.709640537152613</li>\n",
       "</ol>\n"
      ],
      "text/latex": [
       "\\begin{enumerate*}\n",
       "\\item 0.756861118437771\n",
       "\\item 0.756861118437771\n",
       "\\item 0.709640537152613\n",
       "\\item 0.709640537152613\n",
       "\\end{enumerate*}\n"
      ],
      "text/markdown": [
       "1. 0.756861118437771\n",
       "2. 0.756861118437771\n",
       "3. 0.709640537152613\n",
       "4. 0.709640537152613\n",
       "\n",
       "\n"
      ],
      "text/plain": [
       "[1] 0.7568611 0.7568611 0.7096405 0.7096405"
      ]
     },
     "metadata": {},
     "output_type": "display_data"
    }
   ],
   "source": [
    "means.cor[(means.cor > 0.7 & means.cor < 1)]"
   ]
  },
  {
   "cell_type": "markdown",
   "metadata": {},
   "source": [
    "#### Total Correlation\n",
    "- **Let us see the variables which are highly correlated in the entire data set**\n",
    "    - Correlated variables contain the same or similar information about the data\n",
    "    - So, there is no point in having the all the correlated variables in the model\n",
    "    - Instead we can reduce the features in the model by considering only one of the highly correlated variables\n",
    "    - Hence, we find the correlation coefficients for each pair and then remove these pairs from the data    "
   ]
  },
  {
   "cell_type": "code",
   "execution_count": 16,
   "metadata": {},
   "outputs": [
    {
     "data": {
      "text/html": [
       "<ol class=list-inline>\n",
       "\t<li>18</li>\n",
       "\t<li>21</li>\n",
       "\t<li>27</li>\n",
       "\t<li>28</li>\n",
       "\t<li>31</li>\n",
       "\t<li>76</li>\n",
       "\t<li>77</li>\n",
       "\t<li>16</li>\n",
       "\t<li>35</li>\n",
       "\t<li>1</li>\n",
       "\t<li>26</li>\n",
       "\t<li>68</li>\n",
       "\t<li>75</li>\n",
       "\t<li>73</li>\n",
       "\t<li>6</li>\n",
       "\t<li>71</li>\n",
       "\t<li>25</li>\n",
       "\t<li>72</li>\n",
       "\t<li>56</li>\n",
       "\t<li>13</li>\n",
       "\t<li>8</li>\n",
       "\t<li>5</li>\n",
       "\t<li>55</li>\n",
       "\t<li>54</li>\n",
       "\t<li>11</li>\n",
       "\t<li>48</li>\n",
       "\t<li>53</li>\n",
       "\t<li>4</li>\n",
       "\t<li>24</li>\n",
       "\t<li>41</li>\n",
       "\t<li>40</li>\n",
       "\t<li>14</li>\n",
       "\t<li>61</li>\n",
       "\t<li>58</li>\n",
       "\t<li>80</li>\n",
       "</ol>\n"
      ],
      "text/latex": [
       "\\begin{enumerate*}\n",
       "\\item 18\n",
       "\\item 21\n",
       "\\item 27\n",
       "\\item 28\n",
       "\\item 31\n",
       "\\item 76\n",
       "\\item 77\n",
       "\\item 16\n",
       "\\item 35\n",
       "\\item 1\n",
       "\\item 26\n",
       "\\item 68\n",
       "\\item 75\n",
       "\\item 73\n",
       "\\item 6\n",
       "\\item 71\n",
       "\\item 25\n",
       "\\item 72\n",
       "\\item 56\n",
       "\\item 13\n",
       "\\item 8\n",
       "\\item 5\n",
       "\\item 55\n",
       "\\item 54\n",
       "\\item 11\n",
       "\\item 48\n",
       "\\item 53\n",
       "\\item 4\n",
       "\\item 24\n",
       "\\item 41\n",
       "\\item 40\n",
       "\\item 14\n",
       "\\item 61\n",
       "\\item 58\n",
       "\\item 80\n",
       "\\end{enumerate*}\n"
      ],
      "text/markdown": [
       "1. 18\n",
       "2. 21\n",
       "3. 27\n",
       "4. 28\n",
       "5. 31\n",
       "6. 76\n",
       "7. 77\n",
       "8. 16\n",
       "9. 35\n",
       "10. 1\n",
       "11. 26\n",
       "12. 68\n",
       "13. 75\n",
       "14. 73\n",
       "15. 6\n",
       "16. 71\n",
       "17. 25\n",
       "18. 72\n",
       "19. 56\n",
       "20. 13\n",
       "21. 8\n",
       "22. 5\n",
       "23. 55\n",
       "24. 54\n",
       "25. 11\n",
       "26. 48\n",
       "27. 53\n",
       "28. 4\n",
       "29. 24\n",
       "30. 41\n",
       "31. 40\n",
       "32. 14\n",
       "33. 61\n",
       "34. 58\n",
       "35. 80\n",
       "\n",
       "\n"
      ],
      "text/plain": [
       " [1] 18 21 27 28 31 76 77 16 35  1 26 68 75 73  6 71 25 72 56 13  8  5 55 54 11\n",
       "[26] 48 53  4 24 41 40 14 61 58 80"
      ]
     },
     "metadata": {},
     "output_type": "display_data"
    },
    {
     "data": {
      "text/html": [
       "<ol class=list-inline>\n",
       "\t<li>18</li>\n",
       "\t<li>21</li>\n",
       "\t<li>27</li>\n",
       "\t<li>28</li>\n",
       "\t<li>31</li>\n",
       "\t<li>76</li>\n",
       "\t<li>77</li>\n",
       "\t<li>16</li>\n",
       "\t<li>20</li>\n",
       "\t<li>7</li>\n",
       "\t<li>35</li>\n",
       "\t<li>1</li>\n",
       "\t<li>26</li>\n",
       "\t<li>34</li>\n",
       "\t<li>68</li>\n",
       "\t<li>75</li>\n",
       "\t<li>73</li>\n",
       "\t<li>6</li>\n",
       "\t<li>71</li>\n",
       "\t<li>57</li>\n",
       "\t<li>25</li>\n",
       "\t<li>72</li>\n",
       "\t<li>46</li>\n",
       "\t<li>56</li>\n",
       "\t<li>13</li>\n",
       "\t<li>33</li>\n",
       "\t<li>8</li>\n",
       "\t<li>23</li>\n",
       "\t<li>5</li>\n",
       "\t<li>36</li>\n",
       "\t<li>17</li>\n",
       "\t<li>55</li>\n",
       "\t<li>54</li>\n",
       "\t<li>11</li>\n",
       "\t<li>64</li>\n",
       "\t<li>48</li>\n",
       "\t<li>51</li>\n",
       "\t<li>53</li>\n",
       "\t<li>3</li>\n",
       "\t<li>4</li>\n",
       "\t<li>24</li>\n",
       "\t<li>9</li>\n",
       "\t<li>38</li>\n",
       "\t<li>43</li>\n",
       "\t<li>12</li>\n",
       "\t<li>40</li>\n",
       "\t<li>42</li>\n",
       "\t<li>61</li>\n",
       "\t<li>58</li>\n",
       "\t<li>63</li>\n",
       "\t<li>81</li>\n",
       "\t<li>80</li>\n",
       "</ol>\n"
      ],
      "text/latex": [
       "\\begin{enumerate*}\n",
       "\\item 18\n",
       "\\item 21\n",
       "\\item 27\n",
       "\\item 28\n",
       "\\item 31\n",
       "\\item 76\n",
       "\\item 77\n",
       "\\item 16\n",
       "\\item 20\n",
       "\\item 7\n",
       "\\item 35\n",
       "\\item 1\n",
       "\\item 26\n",
       "\\item 34\n",
       "\\item 68\n",
       "\\item 75\n",
       "\\item 73\n",
       "\\item 6\n",
       "\\item 71\n",
       "\\item 57\n",
       "\\item 25\n",
       "\\item 72\n",
       "\\item 46\n",
       "\\item 56\n",
       "\\item 13\n",
       "\\item 33\n",
       "\\item 8\n",
       "\\item 23\n",
       "\\item 5\n",
       "\\item 36\n",
       "\\item 17\n",
       "\\item 55\n",
       "\\item 54\n",
       "\\item 11\n",
       "\\item 64\n",
       "\\item 48\n",
       "\\item 51\n",
       "\\item 53\n",
       "\\item 3\n",
       "\\item 4\n",
       "\\item 24\n",
       "\\item 9\n",
       "\\item 38\n",
       "\\item 43\n",
       "\\item 12\n",
       "\\item 40\n",
       "\\item 42\n",
       "\\item 61\n",
       "\\item 58\n",
       "\\item 63\n",
       "\\item 81\n",
       "\\item 80\n",
       "\\end{enumerate*}\n"
      ],
      "text/markdown": [
       "1. 18\n",
       "2. 21\n",
       "3. 27\n",
       "4. 28\n",
       "5. 31\n",
       "6. 76\n",
       "7. 77\n",
       "8. 16\n",
       "9. 20\n",
       "10. 7\n",
       "11. 35\n",
       "12. 1\n",
       "13. 26\n",
       "14. 34\n",
       "15. 68\n",
       "16. 75\n",
       "17. 73\n",
       "18. 6\n",
       "19. 71\n",
       "20. 57\n",
       "21. 25\n",
       "22. 72\n",
       "23. 46\n",
       "24. 56\n",
       "25. 13\n",
       "26. 33\n",
       "27. 8\n",
       "28. 23\n",
       "29. 5\n",
       "30. 36\n",
       "31. 17\n",
       "32. 55\n",
       "33. 54\n",
       "34. 11\n",
       "35. 64\n",
       "36. 48\n",
       "37. 51\n",
       "38. 53\n",
       "39. 3\n",
       "40. 4\n",
       "41. 24\n",
       "42. 9\n",
       "43. 38\n",
       "44. 43\n",
       "45. 12\n",
       "46. 40\n",
       "47. 42\n",
       "48. 61\n",
       "49. 58\n",
       "50. 63\n",
       "51. 81\n",
       "52. 80\n",
       "\n",
       "\n"
      ],
      "text/plain": [
       " [1] 18 21 27 28 31 76 77 16 20  7 35  1 26 34 68 75 73  6 71 57 25 72 46 56 13\n",
       "[26] 33  8 23  5 36 17 55 54 11 64 48 51 53  3  4 24  9 38 43 12 40 42 61 58 63\n",
       "[51] 81 80"
      ]
     },
     "metadata": {},
     "output_type": "display_data"
    },
    {
     "data": {
      "text/html": [
       "<ol class=list-inline>\n",
       "\t<li>18</li>\n",
       "\t<li>21</li>\n",
       "\t<li>27</li>\n",
       "\t<li>28</li>\n",
       "\t<li>31</li>\n",
       "\t<li>76</li>\n",
       "\t<li>77</li>\n",
       "\t<li>16</li>\n",
       "\t<li>20</li>\n",
       "\t<li>7</li>\n",
       "\t<li>35</li>\n",
       "\t<li>1</li>\n",
       "\t<li>26</li>\n",
       "\t<li>34</li>\n",
       "\t<li>68</li>\n",
       "\t<li>75</li>\n",
       "\t<li>73</li>\n",
       "\t<li>6</li>\n",
       "\t<li>71</li>\n",
       "\t<li>57</li>\n",
       "\t<li>25</li>\n",
       "\t<li>72</li>\n",
       "\t<li>46</li>\n",
       "\t<li>56</li>\n",
       "\t<li>13</li>\n",
       "\t<li>33</li>\n",
       "\t<li>8</li>\n",
       "\t<li>23</li>\n",
       "\t<li>5</li>\n",
       "\t<li>36</li>\n",
       "\t<li>17</li>\n",
       "\t<li>55</li>\n",
       "\t<li>54</li>\n",
       "\t<li>11</li>\n",
       "\t<li>64</li>\n",
       "\t<li>32</li>\n",
       "\t<li>48</li>\n",
       "\t<li>51</li>\n",
       "\t<li>53</li>\n",
       "\t<li>3</li>\n",
       "\t<li>4</li>\n",
       "\t<li>24</li>\n",
       "\t<li>9</li>\n",
       "\t<li>38</li>\n",
       "\t<li>43</li>\n",
       "\t<li>12</li>\n",
       "\t<li>67</li>\n",
       "\t<li>40</li>\n",
       "\t<li>42</li>\n",
       "\t<li>61</li>\n",
       "\t<li>58</li>\n",
       "\t<li>63</li>\n",
       "\t<li>81</li>\n",
       "\t<li>80</li>\n",
       "</ol>\n"
      ],
      "text/latex": [
       "\\begin{enumerate*}\n",
       "\\item 18\n",
       "\\item 21\n",
       "\\item 27\n",
       "\\item 28\n",
       "\\item 31\n",
       "\\item 76\n",
       "\\item 77\n",
       "\\item 16\n",
       "\\item 20\n",
       "\\item 7\n",
       "\\item 35\n",
       "\\item 1\n",
       "\\item 26\n",
       "\\item 34\n",
       "\\item 68\n",
       "\\item 75\n",
       "\\item 73\n",
       "\\item 6\n",
       "\\item 71\n",
       "\\item 57\n",
       "\\item 25\n",
       "\\item 72\n",
       "\\item 46\n",
       "\\item 56\n",
       "\\item 13\n",
       "\\item 33\n",
       "\\item 8\n",
       "\\item 23\n",
       "\\item 5\n",
       "\\item 36\n",
       "\\item 17\n",
       "\\item 55\n",
       "\\item 54\n",
       "\\item 11\n",
       "\\item 64\n",
       "\\item 32\n",
       "\\item 48\n",
       "\\item 51\n",
       "\\item 53\n",
       "\\item 3\n",
       "\\item 4\n",
       "\\item 24\n",
       "\\item 9\n",
       "\\item 38\n",
       "\\item 43\n",
       "\\item 12\n",
       "\\item 67\n",
       "\\item 40\n",
       "\\item 42\n",
       "\\item 61\n",
       "\\item 58\n",
       "\\item 63\n",
       "\\item 81\n",
       "\\item 80\n",
       "\\end{enumerate*}\n"
      ],
      "text/markdown": [
       "1. 18\n",
       "2. 21\n",
       "3. 27\n",
       "4. 28\n",
       "5. 31\n",
       "6. 76\n",
       "7. 77\n",
       "8. 16\n",
       "9. 20\n",
       "10. 7\n",
       "11. 35\n",
       "12. 1\n",
       "13. 26\n",
       "14. 34\n",
       "15. 68\n",
       "16. 75\n",
       "17. 73\n",
       "18. 6\n",
       "19. 71\n",
       "20. 57\n",
       "21. 25\n",
       "22. 72\n",
       "23. 46\n",
       "24. 56\n",
       "25. 13\n",
       "26. 33\n",
       "27. 8\n",
       "28. 23\n",
       "29. 5\n",
       "30. 36\n",
       "31. 17\n",
       "32. 55\n",
       "33. 54\n",
       "34. 11\n",
       "35. 64\n",
       "36. 32\n",
       "37. 48\n",
       "38. 51\n",
       "39. 53\n",
       "40. 3\n",
       "41. 4\n",
       "42. 24\n",
       "43. 9\n",
       "44. 38\n",
       "45. 43\n",
       "46. 12\n",
       "47. 67\n",
       "48. 40\n",
       "49. 42\n",
       "50. 61\n",
       "51. 58\n",
       "52. 63\n",
       "53. 81\n",
       "54. 80\n",
       "\n",
       "\n"
      ],
      "text/plain": [
       " [1] 18 21 27 28 31 76 77 16 20  7 35  1 26 34 68 75 73  6 71 57 25 72 46 56 13\n",
       "[26] 33  8 23  5 36 17 55 54 11 64 32 48 51 53  3  4 24  9 38 43 12 67 40 42 61\n",
       "[51] 58 63 81 80"
      ]
     },
     "metadata": {},
     "output_type": "display_data"
    }
   ],
   "source": [
    "data.cor <- cor(data[, -c(82)])\n",
    "\n",
    "# Variables with correlation greater than 90%\n",
    "high.cor90 <- findCorrelation(data.cor, cutoff = 0.9)\n",
    "high.cor90\n",
    "\n",
    "# Variables with correlation greater than 80%\n",
    "high.cor80 <- findCorrelation(data.cor, cutoff = 0.8)\n",
    "high.cor80\n",
    "\n",
    "# Variables with correlation greater than 75%\n",
    "high.cor75 <- findCorrelation(data.cor, cutoff = 0.75)\n",
    "high.cor75"
   ]
  },
  {
   "cell_type": "code",
   "execution_count": 17,
   "metadata": {},
   "outputs": [
    {
     "name": "stdout",
     "output_type": "stream",
     "text": [
      " [1] \"mean_atomic_mass\"                \"wtd_mean_atomic_mass\"           \n",
      " [3] \"wtd_entropy_atomic_mass\"         \"wtd_range_atomic_mass\"          \n",
      " [5] \"std_atomic_mass\"                 \"mean_fie\"                       \n",
      " [7] \"wtd_gmean_fie\"                   \"wtd_entropy_fie\"                \n",
      " [9] \"wtd_range_fie\"                   \"std_fie\"                        \n",
      "[11] \"mean_atomic_radius\"              \"wtd_mean_atomic_radius\"         \n",
      "[13] \"wtd_range_atomic_radius\"         \"std_atomic_radius\"              \n",
      "[15] \"mean_Density\"                    \"wtd_mean_Density\"               \n",
      "[17] \"gmean_Density\"                   \"entropy_Density\"                \n",
      "[19] \"wtd_entropy_Density\"             \"range_Density\"                  \n",
      "[21] \"wtd_range_Density\"               \"mean_ElectronAffinity\"          \n",
      "[23] \"wtd_mean_ElectronAffinity\"       \"gmean_ElectronAffinity\"         \n",
      "[25] \"wtd_gmean_ElectronAffinity\"      \"entropy_ElectronAffinity\"       \n",
      "[27] \"wtd_entropy_ElectronAffinity\"    \"wtd_range_ElectronAffinity\"     \n",
      "[29] \"std_ElectronAffinity\"            \"wtd_std_ElectronAffinity\"       \n",
      "[31] \"mean_FusionHeat\"                 \"wtd_entropy_FusionHeat\"         \n",
      "[33] \"wtd_range_FusionHeat\"            \"std_FusionHeat\"                 \n",
      "[35] \"mean_ThermalConductivity\"        \"wtd_mean_ThermalConductivity\"   \n",
      "[37] \"gmean_ThermalConductivity\"       \"wtd_gmean_ThermalConductivity\"  \n",
      "[39] \"entropy_ThermalConductivity\"     \"wtd_entropy_ThermalConductivity\"\n",
      "[41] \"wtd_range_ThermalConductivity\"   \"std_ThermalConductivity\"        \n",
      "[43] \"gmean_Valence\"                   \"range_Valence\"                  \n",
      "[45] \"wtd_range_Valence\"               \"wtd_std_Valence\"                \n"
     ]
    }
   ],
   "source": [
    "print(names(train.data[, -c(high.cor90, 82)]))"
   ]
  },
  {
   "cell_type": "markdown",
   "metadata": {},
   "source": [
    "- **Apparently, the number of elements is also highly correlated with some variables and affects the feature set**"
   ]
  },
  {
   "cell_type": "code",
   "execution_count": 18,
   "metadata": {},
   "outputs": [
    {
     "data": {
      "text/html": [
       "<ol class=list-inline>\n",
       "\t<li>0.939304058192118</li>\n",
       "\t<li>0.973195334951229</li>\n",
       "\t<li>0.97224524451074</li>\n",
       "\t<li>0.904120681959223</li>\n",
       "\t<li>0.900759345055336</li>\n",
       "\t<li>0.967832451171747</li>\n",
       "\t<li>0.940298162806423</li>\n",
       "\t<li>0.964085104577263</li>\n",
       "\t<li>0.940298162806423</li>\n",
       "\t<li>0.964085104577263</li>\n",
       "\t<li>0.939304058192118</li>\n",
       "\t<li>0.964694562190619</li>\n",
       "\t<li>0.972328780165068</li>\n",
       "\t<li>0.932668156212428</li>\n",
       "\t<li>0.928250861797295</li>\n",
       "\t<li>0.963621131760828</li>\n",
       "\t<li>0.961463906564689</li>\n",
       "\t<li>0.918284443134827</li>\n",
       "\t<li>0.960854160476221</li>\n",
       "\t<li>0.918152370134863</li>\n",
       "\t<li>0.960854160476221</li>\n",
       "\t<li>0.919787735260188</li>\n",
       "\t<li>0.918152370134863</li>\n",
       "\t<li>0.919787735260188</li>\n",
       "\t<li>0.969324541447601</li>\n",
       "\t<li>0.992331090577112</li>\n",
       "\t<li>0.969324541447601</li>\n",
       "\t<li>0.992331090577112</li>\n",
       "\t<li>0.973195334951229</li>\n",
       "\t<li>0.964694562190619</li>\n",
       "\t<li>0.997739370800054</li>\n",
       "\t<li>0.9201924584213</li>\n",
       "\t<li>0.902037281737617</li>\n",
       "\t<li>0.912862239433378</li>\n",
       "\t<li>0.916592070949567</li>\n",
       "\t<li>0.992725613148499</li>\n",
       "\t<li>0.907923054953846</li>\n",
       "\t<li>0.981628309389131</li>\n",
       "\t<li>0.940281311497211</li>\n",
       "\t<li>0.908734354162957</li>\n",
       "\t<li>0.981628309389131</li>\n",
       "\t<li>0.934255032469921</li>\n",
       "\t<li>0.940281311497211</li>\n",
       "\t<li>0.934255032469921</li>\n",
       "\t<li>0.922258432210541</li>\n",
       "\t<li>0.915931446754712</li>\n",
       "\t<li>0.980107203730838</li>\n",
       "\t<li>0.915931446754712</li>\n",
       "\t<li>0.980107203730838</li>\n",
       "\t<li>0.97224524451074</li>\n",
       "\t<li>0.972328780165068</li>\n",
       "\t<li>0.997739370800054</li>\n",
       "\t<li>0.914222615950671</li>\n",
       "\t<li>0.915550218777591</li>\n",
       "\t<li>0.909743980022091</li>\n",
       "\t<li>0.930294039274718</li>\n",
       "\t<li>0.989546118063906</li>\n",
       "\t<li>0.904120681959223</li>\n",
       "\t<li>0.961463906564689</li>\n",
       "\t<li>0.9201924584213</li>\n",
       "\t<li>0.914222615950671</li>\n",
       "\t<li>0.907859756148756</li>\n",
       "\t<li>0.919183858196685</li>\n",
       "\t<li>0.951463494201219</li>\n",
       "\t<li>0.908734354162957</li>\n",
       "\t<li>0.967428161166188</li>\n",
       "\t<li>0.958003546725646</li>\n",
       "\t<li>0.967428161166188</li>\n",
       "\t<li>0.944536152910117</li>\n",
       "\t<li>0.922258432210541</li>\n",
       "\t<li>0.958003546725646</li>\n",
       "\t<li>0.944536152910117</li>\n",
       "\t<li>0.941501583440887</li>\n",
       "\t<li>0.951994852192632</li>\n",
       "\t<li>0.941501583440887</li>\n",
       "\t<li>0.951994852192632</li>\n",
       "\t<li>0.932668156212428</li>\n",
       "\t<li>0.902037281737617</li>\n",
       "\t<li>0.915550218777591</li>\n",
       "\t<li>0.917732076091764</li>\n",
       "\t<li>0.900579111211574</li>\n",
       "\t<li>0.959955628709824</li>\n",
       "\t<li>0.907307275050671</li>\n",
       "\t<li>0.959955628709824</li>\n",
       "\t<li>0.905669440722396</li>\n",
       "\t<li>0.907307275050671</li>\n",
       "\t<li>0.905669440722396</li>\n",
       "\t<li>0.912862239433378</li>\n",
       "\t<li>0.909743980022091</li>\n",
       "\t<li>0.904659428112409</li>\n",
       "\t<li>0.973114494840368</li>\n",
       "\t<li>0.973114494840368</li>\n",
       "\t<li>0.909574632966193</li>\n",
       "\t<li>0.926768809692266</li>\n",
       "\t<li>0.909574632966193</li>\n",
       "\t<li>0.97094809445306</li>\n",
       "\t<li>0.926768809692266</li>\n",
       "\t<li>0.97094809445306</li>\n",
       "\t<li>0.900759345055336</li>\n",
       "\t<li>0.928250861797295</li>\n",
       "\t<li>0.916592070949567</li>\n",
       "\t<li>0.930294039274718</li>\n",
       "\t<li>0.917732076091764</li>\n",
       "\t<li>0.921444668466347</li>\n",
       "\t<li>0.907859756148756</li>\n",
       "\t<li>0.908728047109388</li>\n",
       "\t<li>0.984573586994876</li>\n",
       "\t<li>0.925642099356242</li>\n",
       "\t<li>0.984573586994876</li>\n",
       "\t<li>0.940183345420273</li>\n",
       "\t<li>0.925642099356242</li>\n",
       "\t<li>0.940183345420273</li>\n",
       "\t<li>0.987866551858107</li>\n",
       "\t<li>0.965448822079463</li>\n",
       "\t<li>0.987866551858107</li>\n",
       "\t<li>0.955627094374085</li>\n",
       "\t<li>0.965448822079463</li>\n",
       "\t<li>0.955627094374085</li>\n",
       "\t<li>0.93710287684252</li>\n",
       "\t<li>0.989910509541229</li>\n",
       "\t<li>0.940001337662029</li>\n",
       "\t<li>0.93710287684252</li>\n",
       "\t<li>0.91790519947588</li>\n",
       "\t<li>0.994938772458482</li>\n",
       "\t<li>0.989910509541229</li>\n",
       "\t<li>0.91790519947588</li>\n",
       "\t<li>0.933035743669561</li>\n",
       "\t<li>0.940001337662029</li>\n",
       "\t<li>0.994938772458482</li>\n",
       "\t<li>0.933035743669561</li>\n",
       "\t<li>0.967832451171747</li>\n",
       "\t<li>0.963621131760828</li>\n",
       "\t<li>0.992725613148499</li>\n",
       "\t<li>0.989546118063906</li>\n",
       "\t<li>0.919183858196685</li>\n",
       "\t<li>0.900579111211574</li>\n",
       "\t<li>0.904659428112409</li>\n",
       "\t<li>0.921444668466347</li>\n",
       "\t<li>0.910821802963713</li>\n",
       "\t<li>0.918284443134827</li>\n",
       "\t<li>0.907923054953846</li>\n",
       "\t<li>0.951463494201219</li>\n",
       "\t<li>0.908728047109388</li>\n",
       "\t<li>0.910821802963713</li>\n",
       "\t<li>0.973787934227054</li>\n",
       "\t<li>0.973787934227054</li>\n",
       "</ol>\n"
      ],
      "text/latex": [
       "\\begin{enumerate*}\n",
       "\\item 0.939304058192118\n",
       "\\item 0.973195334951229\n",
       "\\item 0.97224524451074\n",
       "\\item 0.904120681959223\n",
       "\\item 0.900759345055336\n",
       "\\item 0.967832451171747\n",
       "\\item 0.940298162806423\n",
       "\\item 0.964085104577263\n",
       "\\item 0.940298162806423\n",
       "\\item 0.964085104577263\n",
       "\\item 0.939304058192118\n",
       "\\item 0.964694562190619\n",
       "\\item 0.972328780165068\n",
       "\\item 0.932668156212428\n",
       "\\item 0.928250861797295\n",
       "\\item 0.963621131760828\n",
       "\\item 0.961463906564689\n",
       "\\item 0.918284443134827\n",
       "\\item 0.960854160476221\n",
       "\\item 0.918152370134863\n",
       "\\item 0.960854160476221\n",
       "\\item 0.919787735260188\n",
       "\\item 0.918152370134863\n",
       "\\item 0.919787735260188\n",
       "\\item 0.969324541447601\n",
       "\\item 0.992331090577112\n",
       "\\item 0.969324541447601\n",
       "\\item 0.992331090577112\n",
       "\\item 0.973195334951229\n",
       "\\item 0.964694562190619\n",
       "\\item 0.997739370800054\n",
       "\\item 0.9201924584213\n",
       "\\item 0.902037281737617\n",
       "\\item 0.912862239433378\n",
       "\\item 0.916592070949567\n",
       "\\item 0.992725613148499\n",
       "\\item 0.907923054953846\n",
       "\\item 0.981628309389131\n",
       "\\item 0.940281311497211\n",
       "\\item 0.908734354162957\n",
       "\\item 0.981628309389131\n",
       "\\item 0.934255032469921\n",
       "\\item 0.940281311497211\n",
       "\\item 0.934255032469921\n",
       "\\item 0.922258432210541\n",
       "\\item 0.915931446754712\n",
       "\\item 0.980107203730838\n",
       "\\item 0.915931446754712\n",
       "\\item 0.980107203730838\n",
       "\\item 0.97224524451074\n",
       "\\item 0.972328780165068\n",
       "\\item 0.997739370800054\n",
       "\\item 0.914222615950671\n",
       "\\item 0.915550218777591\n",
       "\\item 0.909743980022091\n",
       "\\item 0.930294039274718\n",
       "\\item 0.989546118063906\n",
       "\\item 0.904120681959223\n",
       "\\item 0.961463906564689\n",
       "\\item 0.9201924584213\n",
       "\\item 0.914222615950671\n",
       "\\item 0.907859756148756\n",
       "\\item 0.919183858196685\n",
       "\\item 0.951463494201219\n",
       "\\item 0.908734354162957\n",
       "\\item 0.967428161166188\n",
       "\\item 0.958003546725646\n",
       "\\item 0.967428161166188\n",
       "\\item 0.944536152910117\n",
       "\\item 0.922258432210541\n",
       "\\item 0.958003546725646\n",
       "\\item 0.944536152910117\n",
       "\\item 0.941501583440887\n",
       "\\item 0.951994852192632\n",
       "\\item 0.941501583440887\n",
       "\\item 0.951994852192632\n",
       "\\item 0.932668156212428\n",
       "\\item 0.902037281737617\n",
       "\\item 0.915550218777591\n",
       "\\item 0.917732076091764\n",
       "\\item 0.900579111211574\n",
       "\\item 0.959955628709824\n",
       "\\item 0.907307275050671\n",
       "\\item 0.959955628709824\n",
       "\\item 0.905669440722396\n",
       "\\item 0.907307275050671\n",
       "\\item 0.905669440722396\n",
       "\\item 0.912862239433378\n",
       "\\item 0.909743980022091\n",
       "\\item 0.904659428112409\n",
       "\\item 0.973114494840368\n",
       "\\item 0.973114494840368\n",
       "\\item 0.909574632966193\n",
       "\\item 0.926768809692266\n",
       "\\item 0.909574632966193\n",
       "\\item 0.97094809445306\n",
       "\\item 0.926768809692266\n",
       "\\item 0.97094809445306\n",
       "\\item 0.900759345055336\n",
       "\\item 0.928250861797295\n",
       "\\item 0.916592070949567\n",
       "\\item 0.930294039274718\n",
       "\\item 0.917732076091764\n",
       "\\item 0.921444668466347\n",
       "\\item 0.907859756148756\n",
       "\\item 0.908728047109388\n",
       "\\item 0.984573586994876\n",
       "\\item 0.925642099356242\n",
       "\\item 0.984573586994876\n",
       "\\item 0.940183345420273\n",
       "\\item 0.925642099356242\n",
       "\\item 0.940183345420273\n",
       "\\item 0.987866551858107\n",
       "\\item 0.965448822079463\n",
       "\\item 0.987866551858107\n",
       "\\item 0.955627094374085\n",
       "\\item 0.965448822079463\n",
       "\\item 0.955627094374085\n",
       "\\item 0.93710287684252\n",
       "\\item 0.989910509541229\n",
       "\\item 0.940001337662029\n",
       "\\item 0.93710287684252\n",
       "\\item 0.91790519947588\n",
       "\\item 0.994938772458482\n",
       "\\item 0.989910509541229\n",
       "\\item 0.91790519947588\n",
       "\\item 0.933035743669561\n",
       "\\item 0.940001337662029\n",
       "\\item 0.994938772458482\n",
       "\\item 0.933035743669561\n",
       "\\item 0.967832451171747\n",
       "\\item 0.963621131760828\n",
       "\\item 0.992725613148499\n",
       "\\item 0.989546118063906\n",
       "\\item 0.919183858196685\n",
       "\\item 0.900579111211574\n",
       "\\item 0.904659428112409\n",
       "\\item 0.921444668466347\n",
       "\\item 0.910821802963713\n",
       "\\item 0.918284443134827\n",
       "\\item 0.907923054953846\n",
       "\\item 0.951463494201219\n",
       "\\item 0.908728047109388\n",
       "\\item 0.910821802963713\n",
       "\\item 0.973787934227054\n",
       "\\item 0.973787934227054\n",
       "\\end{enumerate*}\n"
      ],
      "text/markdown": [
       "1. 0.939304058192118\n",
       "2. 0.973195334951229\n",
       "3. 0.97224524451074\n",
       "4. 0.904120681959223\n",
       "5. 0.900759345055336\n",
       "6. 0.967832451171747\n",
       "7. 0.940298162806423\n",
       "8. 0.964085104577263\n",
       "9. 0.940298162806423\n",
       "10. 0.964085104577263\n",
       "11. 0.939304058192118\n",
       "12. 0.964694562190619\n",
       "13. 0.972328780165068\n",
       "14. 0.932668156212428\n",
       "15. 0.928250861797295\n",
       "16. 0.963621131760828\n",
       "17. 0.961463906564689\n",
       "18. 0.918284443134827\n",
       "19. 0.960854160476221\n",
       "20. 0.918152370134863\n",
       "21. 0.960854160476221\n",
       "22. 0.919787735260188\n",
       "23. 0.918152370134863\n",
       "24. 0.919787735260188\n",
       "25. 0.969324541447601\n",
       "26. 0.992331090577112\n",
       "27. 0.969324541447601\n",
       "28. 0.992331090577112\n",
       "29. 0.973195334951229\n",
       "30. 0.964694562190619\n",
       "31. 0.997739370800054\n",
       "32. 0.9201924584213\n",
       "33. 0.902037281737617\n",
       "34. 0.912862239433378\n",
       "35. 0.916592070949567\n",
       "36. 0.992725613148499\n",
       "37. 0.907923054953846\n",
       "38. 0.981628309389131\n",
       "39. 0.940281311497211\n",
       "40. 0.908734354162957\n",
       "41. 0.981628309389131\n",
       "42. 0.934255032469921\n",
       "43. 0.940281311497211\n",
       "44. 0.934255032469921\n",
       "45. 0.922258432210541\n",
       "46. 0.915931446754712\n",
       "47. 0.980107203730838\n",
       "48. 0.915931446754712\n",
       "49. 0.980107203730838\n",
       "50. 0.97224524451074\n",
       "51. 0.972328780165068\n",
       "52. 0.997739370800054\n",
       "53. 0.914222615950671\n",
       "54. 0.915550218777591\n",
       "55. 0.909743980022091\n",
       "56. 0.930294039274718\n",
       "57. 0.989546118063906\n",
       "58. 0.904120681959223\n",
       "59. 0.961463906564689\n",
       "60. 0.9201924584213\n",
       "61. 0.914222615950671\n",
       "62. 0.907859756148756\n",
       "63. 0.919183858196685\n",
       "64. 0.951463494201219\n",
       "65. 0.908734354162957\n",
       "66. 0.967428161166188\n",
       "67. 0.958003546725646\n",
       "68. 0.967428161166188\n",
       "69. 0.944536152910117\n",
       "70. 0.922258432210541\n",
       "71. 0.958003546725646\n",
       "72. 0.944536152910117\n",
       "73. 0.941501583440887\n",
       "74. 0.951994852192632\n",
       "75. 0.941501583440887\n",
       "76. 0.951994852192632\n",
       "77. 0.932668156212428\n",
       "78. 0.902037281737617\n",
       "79. 0.915550218777591\n",
       "80. 0.917732076091764\n",
       "81. 0.900579111211574\n",
       "82. 0.959955628709824\n",
       "83. 0.907307275050671\n",
       "84. 0.959955628709824\n",
       "85. 0.905669440722396\n",
       "86. 0.907307275050671\n",
       "87. 0.905669440722396\n",
       "88. 0.912862239433378\n",
       "89. 0.909743980022091\n",
       "90. 0.904659428112409\n",
       "91. 0.973114494840368\n",
       "92. 0.973114494840368\n",
       "93. 0.909574632966193\n",
       "94. 0.926768809692266\n",
       "95. 0.909574632966193\n",
       "96. 0.97094809445306\n",
       "97. 0.926768809692266\n",
       "98. 0.97094809445306\n",
       "99. 0.900759345055336\n",
       "100. 0.928250861797295\n",
       "101. 0.916592070949567\n",
       "102. 0.930294039274718\n",
       "103. 0.917732076091764\n",
       "104. 0.921444668466347\n",
       "105. 0.907859756148756\n",
       "106. 0.908728047109388\n",
       "107. 0.984573586994876\n",
       "108. 0.925642099356242\n",
       "109. 0.984573586994876\n",
       "110. 0.940183345420273\n",
       "111. 0.925642099356242\n",
       "112. 0.940183345420273\n",
       "113. 0.987866551858107\n",
       "114. 0.965448822079463\n",
       "115. 0.987866551858107\n",
       "116. 0.955627094374085\n",
       "117. 0.965448822079463\n",
       "118. 0.955627094374085\n",
       "119. 0.93710287684252\n",
       "120. 0.989910509541229\n",
       "121. 0.940001337662029\n",
       "122. 0.93710287684252\n",
       "123. 0.91790519947588\n",
       "124. 0.994938772458482\n",
       "125. 0.989910509541229\n",
       "126. 0.91790519947588\n",
       "127. 0.933035743669561\n",
       "128. 0.940001337662029\n",
       "129. 0.994938772458482\n",
       "130. 0.933035743669561\n",
       "131. 0.967832451171747\n",
       "132. 0.963621131760828\n",
       "133. 0.992725613148499\n",
       "134. 0.989546118063906\n",
       "135. 0.919183858196685\n",
       "136. 0.900579111211574\n",
       "137. 0.904659428112409\n",
       "138. 0.921444668466347\n",
       "139. 0.910821802963713\n",
       "140. 0.918284443134827\n",
       "141. 0.907923054953846\n",
       "142. 0.951463494201219\n",
       "143. 0.908728047109388\n",
       "144. 0.910821802963713\n",
       "145. 0.973787934227054\n",
       "146. 0.973787934227054\n",
       "\n",
       "\n"
      ],
      "text/plain": [
       "  [1] 0.9393041 0.9731953 0.9722452 0.9041207 0.9007593 0.9678325 0.9402982\n",
       "  [8] 0.9640851 0.9402982 0.9640851 0.9393041 0.9646946 0.9723288 0.9326682\n",
       " [15] 0.9282509 0.9636211 0.9614639 0.9182844 0.9608542 0.9181524 0.9608542\n",
       " [22] 0.9197877 0.9181524 0.9197877 0.9693245 0.9923311 0.9693245 0.9923311\n",
       " [29] 0.9731953 0.9646946 0.9977394 0.9201925 0.9020373 0.9128622 0.9165921\n",
       " [36] 0.9927256 0.9079231 0.9816283 0.9402813 0.9087344 0.9816283 0.9342550\n",
       " [43] 0.9402813 0.9342550 0.9222584 0.9159314 0.9801072 0.9159314 0.9801072\n",
       " [50] 0.9722452 0.9723288 0.9977394 0.9142226 0.9155502 0.9097440 0.9302940\n",
       " [57] 0.9895461 0.9041207 0.9614639 0.9201925 0.9142226 0.9078598 0.9191839\n",
       " [64] 0.9514635 0.9087344 0.9674282 0.9580035 0.9674282 0.9445362 0.9222584\n",
       " [71] 0.9580035 0.9445362 0.9415016 0.9519949 0.9415016 0.9519949 0.9326682\n",
       " [78] 0.9020373 0.9155502 0.9177321 0.9005791 0.9599556 0.9073073 0.9599556\n",
       " [85] 0.9056694 0.9073073 0.9056694 0.9128622 0.9097440 0.9046594 0.9731145\n",
       " [92] 0.9731145 0.9095746 0.9267688 0.9095746 0.9709481 0.9267688 0.9709481\n",
       " [99] 0.9007593 0.9282509 0.9165921 0.9302940 0.9177321 0.9214447 0.9078598\n",
       "[106] 0.9087280 0.9845736 0.9256421 0.9845736 0.9401833 0.9256421 0.9401833\n",
       "[113] 0.9878666 0.9654488 0.9878666 0.9556271 0.9654488 0.9556271 0.9371029\n",
       "[120] 0.9899105 0.9400013 0.9371029 0.9179052 0.9949388 0.9899105 0.9179052\n",
       "[127] 0.9330357 0.9400013 0.9949388 0.9330357 0.9678325 0.9636211 0.9927256\n",
       "[134] 0.9895461 0.9191839 0.9005791 0.9046594 0.9214447 0.9108218 0.9182844\n",
       "[141] 0.9079231 0.9514635 0.9087280 0.9108218 0.9737879 0.9737879"
      ]
     },
     "metadata": {},
     "output_type": "display_data"
    }
   ],
   "source": [
    "data.cor[(data.cor > 0.9 & data.cor != 1)]"
   ]
  },
  {
   "cell_type": "code",
   "execution_count": 19,
   "metadata": {},
   "outputs": [
    {
     "data": {
      "text/html": [
       "<ol class=list-inline>\n",
       "\t<li>73</li>\n",
       "\t<li>3</li>\n",
       "</ol>\n"
      ],
      "text/latex": [
       "\\begin{enumerate*}\n",
       "\\item 73\n",
       "\\item 3\n",
       "\\end{enumerate*}\n"
      ],
      "text/markdown": [
       "1. 73\n",
       "2. 3\n",
       "\n",
       "\n"
      ],
      "text/plain": [
       "[1] 73  3"
      ]
     },
     "metadata": {},
     "output_type": "display_data"
    }
   ],
   "source": [
    "up.data.cor <- data.cor\n",
    "up.data.cor[lower.tri(data.cor, diag = T)] <- NA\n",
    "dim(subset(melt(up.data.cor), value > 0.90 & value != 1))"
   ]
  },
  {
   "cell_type": "code",
   "execution_count": 20,
   "metadata": {},
   "outputs": [],
   "source": [
    "cor.target <- sapply(1:81, function(i) {cor(x = data[, c(i)], y = data[, c(82)])})"
   ]
  },
  {
   "cell_type": "code",
   "execution_count": 21,
   "metadata": {},
   "outputs": [
    {
     "data": {
      "text/html": [
       "<ol class=list-inline>\n",
       "\t<li>-0.632401017093436</li>\n",
       "\t<li>-0.615653296417964</li>\n",
       "\t<li>-0.600084864924669</li>\n",
       "\t<li>-0.573068055613459</li>\n",
       "\t<li>-0.439900778177248</li>\n",
       "\t<li>-0.300028013306642</li>\n",
       "\t<li>-0.208071624539898</li>\n",
       "\t<li>-0.143546390745035</li>\n",
       "\t<li>0.589663702611505</li>\n",
       "\t<li>0.598590906931841</li>\n",
       "</ol>\n"
      ],
      "text/latex": [
       "\\begin{enumerate*}\n",
       "\\item -0.632401017093436\n",
       "\\item -0.615653296417964\n",
       "\\item -0.600084864924669\n",
       "\\item -0.573068055613459\n",
       "\\item -0.439900778177248\n",
       "\\item -0.300028013306642\n",
       "\\item -0.208071624539898\n",
       "\\item -0.143546390745035\n",
       "\\item 0.589663702611505\n",
       "\\item 0.598590906931841\n",
       "\\end{enumerate*}\n"
      ],
      "text/markdown": [
       "1. -0.632401017093436\n",
       "2. -0.615653296417964\n",
       "3. -0.600084864924669\n",
       "4. -0.573068055613459\n",
       "5. -0.439900778177248\n",
       "6. -0.300028013306642\n",
       "7. -0.208071624539898\n",
       "8. -0.143546390745035\n",
       "9. 0.589663702611505\n",
       "10. 0.598590906931841\n",
       "\n",
       "\n"
      ],
      "text/plain": [
       " [1] -0.6324010 -0.6156533 -0.6000849 -0.5730681 -0.4399008 -0.3000280\n",
       " [7] -0.2080716 -0.1435464  0.5896637  0.5985909"
      ]
     },
     "metadata": {},
     "output_type": "display_data"
    },
    {
     "data": {
      "text/html": [
       "<ol class=list-inline>\n",
       "\t<li>-0.369858384679337</li>\n",
       "\t<li>-0.337131385220934</li>\n",
       "\t<li>-0.312272019639312</li>\n",
       "\t<li>-0.230345374529145</li>\n",
       "\t<li>-0.113523246333139</li>\n",
       "\t<li>0.378765828110182</li>\n",
       "\t<li>0.491969811343339</li>\n",
       "\t<li>0.543619409228506</li>\n",
       "\t<li>0.601068570956026</li>\n",
       "\t<li>0.626930401693083</li>\n",
       "</ol>\n"
      ],
      "text/latex": [
       "\\begin{enumerate*}\n",
       "\\item -0.369858384679337\n",
       "\\item -0.337131385220934\n",
       "\\item -0.312272019639312\n",
       "\\item -0.230345374529145\n",
       "\\item -0.113523246333139\n",
       "\\item 0.378765828110182\n",
       "\\item 0.491969811343339\n",
       "\\item 0.543619409228506\n",
       "\\item 0.601068570956026\n",
       "\\item 0.626930401693083\n",
       "\\end{enumerate*}\n"
      ],
      "text/markdown": [
       "1. -0.369858384679337\n",
       "2. -0.337131385220934\n",
       "3. -0.312272019639312\n",
       "4. -0.230345374529145\n",
       "5. -0.113523246333139\n",
       "6. 0.378765828110182\n",
       "7. 0.491969811343339\n",
       "8. 0.543619409228506\n",
       "9. 0.601068570956026\n",
       "10. 0.626930401693083\n",
       "\n",
       "\n"
      ],
      "text/plain": [
       " [1] -0.3698584 -0.3371314 -0.3122720 -0.2303454 -0.1135232  0.3787658\n",
       " [7]  0.4919698  0.5436194  0.6010686  0.6269304"
      ]
     },
     "metadata": {},
     "output_type": "display_data"
    }
   ],
   "source": [
    "top10 <- sort(tail(cor.target, 10))\n",
    "top10\n",
    "\n",
    "btm10 <- sort(head(cor.target, 10))\n",
    "btm10"
   ]
  },
  {
   "cell_type": "code",
   "execution_count": 22,
   "metadata": {},
   "outputs": [
    {
     "data": {
      "text/html": [
       "<ol class=list-inline>\n",
       "\t<li>'wtd_mean_Valence'</li>\n",
       "\t<li>'wtd_gmean_Valence'</li>\n",
       "\t<li>'mean_Valence'</li>\n",
       "\t<li>'gmean_Valence'</li>\n",
       "\t<li>'wtd_range_Valence'</li>\n",
       "\t<li>'wtd_std_Valence'</li>\n",
       "\t<li>'std_Valence'</li>\n",
       "\t<li>'range_Valence'</li>\n",
       "\t<li>'wtd_entropy_Valence'</li>\n",
       "\t<li>'entropy_Valence'</li>\n",
       "</ol>\n"
      ],
      "text/latex": [
       "\\begin{enumerate*}\n",
       "\\item 'wtd\\_mean\\_Valence'\n",
       "\\item 'wtd\\_gmean\\_Valence'\n",
       "\\item 'mean\\_Valence'\n",
       "\\item 'gmean\\_Valence'\n",
       "\\item 'wtd\\_range\\_Valence'\n",
       "\\item 'wtd\\_std\\_Valence'\n",
       "\\item 'std\\_Valence'\n",
       "\\item 'range\\_Valence'\n",
       "\\item 'wtd\\_entropy\\_Valence'\n",
       "\\item 'entropy\\_Valence'\n",
       "\\end{enumerate*}\n"
      ],
      "text/markdown": [
       "1. 'wtd_mean_Valence'\n",
       "2. 'wtd_gmean_Valence'\n",
       "3. 'mean_Valence'\n",
       "4. 'gmean_Valence'\n",
       "5. 'wtd_range_Valence'\n",
       "6. 'wtd_std_Valence'\n",
       "7. 'std_Valence'\n",
       "8. 'range_Valence'\n",
       "9. 'wtd_entropy_Valence'\n",
       "10. 'entropy_Valence'\n",
       "\n",
       "\n"
      ],
      "text/plain": [
       " [1] \"wtd_mean_Valence\"    \"wtd_gmean_Valence\"   \"mean_Valence\"       \n",
       " [4] \"gmean_Valence\"       \"wtd_range_Valence\"   \"wtd_std_Valence\"    \n",
       " [7] \"std_Valence\"         \"range_Valence\"       \"wtd_entropy_Valence\"\n",
       "[10] \"entropy_Valence\"    "
      ]
     },
     "metadata": {},
     "output_type": "display_data"
    },
    {
     "data": {
      "text/html": [
       "<ol class=list-inline>\n",
       "\t<li>'wtd_gmean_atomic_mass'</li>\n",
       "\t<li>'wtd_range_atomic_mass'</li>\n",
       "\t<li>'wtd_mean_atomic_mass'</li>\n",
       "\t<li>'gmean_atomic_mass'</li>\n",
       "\t<li>'mean_atomic_mass'</li>\n",
       "\t<li>'std_atomic_mass'</li>\n",
       "\t<li>'range_atomic_mass'</li>\n",
       "\t<li>'entropy_atomic_mass'</li>\n",
       "\t<li>'number_of_elements'</li>\n",
       "\t<li>'wtd_entropy_atomic_mass'</li>\n",
       "</ol>\n"
      ],
      "text/latex": [
       "\\begin{enumerate*}\n",
       "\\item 'wtd\\_gmean\\_atomic\\_mass'\n",
       "\\item 'wtd\\_range\\_atomic\\_mass'\n",
       "\\item 'wtd\\_mean\\_atomic\\_mass'\n",
       "\\item 'gmean\\_atomic\\_mass'\n",
       "\\item 'mean\\_atomic\\_mass'\n",
       "\\item 'std\\_atomic\\_mass'\n",
       "\\item 'range\\_atomic\\_mass'\n",
       "\\item 'entropy\\_atomic\\_mass'\n",
       "\\item 'number\\_of\\_elements'\n",
       "\\item 'wtd\\_entropy\\_atomic\\_mass'\n",
       "\\end{enumerate*}\n"
      ],
      "text/markdown": [
       "1. 'wtd_gmean_atomic_mass'\n",
       "2. 'wtd_range_atomic_mass'\n",
       "3. 'wtd_mean_atomic_mass'\n",
       "4. 'gmean_atomic_mass'\n",
       "5. 'mean_atomic_mass'\n",
       "6. 'std_atomic_mass'\n",
       "7. 'range_atomic_mass'\n",
       "8. 'entropy_atomic_mass'\n",
       "9. 'number_of_elements'\n",
       "10. 'wtd_entropy_atomic_mass'\n",
       "\n",
       "\n"
      ],
      "text/plain": [
       " [1] \"wtd_gmean_atomic_mass\"   \"wtd_range_atomic_mass\"  \n",
       " [3] \"wtd_mean_atomic_mass\"    \"gmean_atomic_mass\"      \n",
       " [5] \"mean_atomic_mass\"        \"std_atomic_mass\"        \n",
       " [7] \"range_atomic_mass\"       \"entropy_atomic_mass\"    \n",
       " [9] \"number_of_elements\"      \"wtd_entropy_atomic_mass\""
      ]
     },
     "metadata": {},
     "output_type": "display_data"
    }
   ],
   "source": [
    "cols.top <- match(c(top10), cor.target)\n",
    "names(data[, c(cols.top)])\n",
    "\n",
    "cols.btm <- match(c(btm10), cor.target)\n",
    "names(data[, c(cols.btm)])"
   ]
  },
  {
   "cell_type": "markdown",
   "metadata": {},
   "source": [
    "* **From the above results, it is evident that the valency affects the critical temperature a lot.**\n",
    "* **So, it must be included as a feature in our models and given considerable weights.**"
   ]
  },
  {
   "cell_type": "code",
   "execution_count": 23,
   "metadata": {},
   "outputs": [
    {
     "data": {
      "text/html": [
       "0.601068570956026"
      ],
      "text/latex": [
       "0.601068570956026"
      ],
      "text/markdown": [
       "0.601068570956026"
      ],
      "text/plain": [
       "[1] 0.6010686"
      ]
     },
     "metadata": {},
     "output_type": "display_data"
    },
    {
     "data": {
      "image/png": "[encoded data removed]",
      "text/plain": [
       "Plot with title \"Correlation between Critical temperature and Number of Elements\""
      ]
     },
     "metadata": {},
     "output_type": "display_data"
    }
   ],
   "source": [
    "plot(x = data[, 1], y = data[, 82], main = 'Correlation between Critical temperature and Number of Elements',\n",
    "    xlab = 'Number of Elements', ylab = 'Critical Temperature')\n",
    "\n",
    "cor(x = data[, 1], y = data[, 82])"
   ]
  },
  {
   "cell_type": "markdown",
   "metadata": {},
   "source": [
    "- From the above plot, there appears to be slightly positive correlation between the number of elements in the compound and the critical temperature"
   ]
  },
  {
   "cell_type": "markdown",
   "metadata": {},
   "source": [
    "#### The thermal conductivity feature, especially the geometric mean of the thermal conductivity appears to show a inverse squared relationship with the critical temperature.\n",
    "   - Let us take a closer look at these features and how they behave with each other.\n",
    "   - An interesting point to note is that among the given features, Thermal conductivity is the only preoperty with the unit of temperature (Kelvin) as its dimensional unit.\n",
    "   - The units of thermal conductivity are: $ H_c\\ =\\ \\frac{Watt}{Kelvin-meter} $ "
   ]
  },
  {
   "cell_type": "code",
   "execution_count": 24,
   "metadata": {},
   "outputs": [
    {
     "data": {
      "image/png": "[encoded data removed]",
      "text/plain": [
       "plot without title"
      ]
     },
     "metadata": {},
     "output_type": "display_data"
    }
   ],
   "source": [
    "pairs(data[, c(64, 65, 82)], upper.panel = NULL, cex = 0.1)"
   ]
  },
  {
   "cell_type": "markdown",
   "metadata": {},
   "source": [
    "- **Let us find the correlation between various variables and find the ones which can be omitted as input features**\n",
    "    - Plot the correlations as a levelplot to inspect and filter features"
   ]
  },
  {
   "cell_type": "code",
   "execution_count": 25,
   "metadata": {},
   "outputs": [],
   "source": [
    "wen.cols <- seq(7, 77, 10)\n",
    "\n",
    "wen.data <- data[, c(wen.cols, 82)]\n",
    "\n",
    "wen.cor <- cor(wen.data)"
   ]
  },
  {
   "cell_type": "code",
   "execution_count": 26,
   "metadata": {},
   "outputs": [
    {
     "data": {},
     "metadata": {},
     "output_type": "display_data"
    },
    {
     "data": {
      "image/png": "[encoded data removed]",
      "text/plain": [
       "plot without title"
      ]
     },
     "metadata": {},
     "output_type": "display_data"
    }
   ],
   "source": [
    "#### Function from tutorial 3 to create the coloring panel\n",
    "myPanel <- function(x, y, z, ...) {\n",
    "    panel.levelplot(x,y,z,...)\n",
    "    panel.text(x, y, round(z, 2))\n",
    "}\n",
    "\n",
    "#Define the color scheme from the tutorial 3 \n",
    "cols = colorRampPalette(c(\"red\",\"blue\"))\n",
    "\n",
    "levelplot(wen.cor, col.regions = cols(100), main = 'Correlation between the weighted entropies', xlab = NULL,\n",
    "         ylab = NULL, scales = list(x = list(rot = 90)), panel = myPanel)"
   ]
  },
  {
   "cell_type": "markdown",
   "metadata": {},
   "source": [
    "#### From the above level plot, it appears that the weighted entropies are highly correlated with each other, especially the weighted entropy of valency.\n",
    "- This tells us that when we are considering entropy of valency, we may choose to ignore most other weighted entropies\n",
    "\n",
    "### Based on the above observations, we now will start building a model and try to find the most suitable features for prediction of critical temperature"
   ]
  },
  {
   "cell_type": "markdown",
   "metadata": {},
   "source": [
    "## 3. Model Development<a class=\"anchor\" id=\"sec_3\"></a>"
   ]
  },
  {
   "cell_type": "markdown",
   "metadata": {},
   "source": [
    "#### Scientifically speaking, if we assume that the critical temperature of a material is linked to the features we have in this data set and is based on a formula, then only one or two terms of each property should be considered as it doesn't make sense that the critical temerature depends on the valency and standard deviation of the valency as well. \n",
    "- So, we will start with a feature selection model like Lasso regression\n",
    "- The important task here is to analyse which models with what input features gives us more accuracy"
   ]
  },
  {
   "cell_type": "markdown",
   "metadata": {},
   "source": [
    "### 1. Lasso Regression:\n",
    "* L1 Norm: To select important input features while predicting and for other models\n",
    "    - We have a large number of input variables; 81 to be precise. \n",
    "    - Some are highly correlated so only one of them can be selected. \n",
    "    - However, which ones to select is a challenge as we cannot go through comparisons for each variable.\n",
    "    - Lasso (L1 Norm) Regression provides sparse solution to problems. So, it is an ideal selection for this task.\n",
    "    - The input features selected by Lasso can be used for other models like KNN, Logistic Regression.\n",
    "    - This in turn might improve the accuracy of the pedictions.\n",
    "    - Hence, it is best to implement Lasso as the first model and perform feature selection."
   ]
  },
  {
   "cell_type": "code",
   "execution_count": 27,
   "metadata": {},
   "outputs": [],
   "source": [
    "input.x <- as.matrix(train.data[, -c(82)])\n",
    "target.y <- train.data[, c(82)]"
   ]
  },
  {
   "cell_type": "code",
   "execution_count": 28,
   "metadata": {},
   "outputs": [],
   "source": [
    "set.seed(12345)\n",
    "x.mat <- model.matrix(target.y ~ input.x, data = train.data)\n",
    "x.mat <- x.mat[, -c(1)]"
   ]
  },
  {
   "cell_type": "markdown",
   "metadata": {},
   "source": [
    "* **We use cross-validation to generalize the selected features**\n",
    "    - It is important that the selected features are generalized and not a result of some bias or initialization\n",
    "    - Cross-validation helps ensure generalization and gives the performance on a sample test set"
   ]
  },
  {
   "cell_type": "code",
   "execution_count": 29,
   "metadata": {},
   "outputs": [],
   "source": [
    "cv.lasso <- cv.glmnet(x.mat, target.y, alpha = 1)"
   ]
  },
  {
   "cell_type": "code",
   "execution_count": 30,
   "metadata": {},
   "outputs": [
    {
     "data": {
      "image/png": "[encoded data removed]",
      "text/plain": [
       "plot without title"
      ]
     },
     "metadata": {},
     "output_type": "display_data"
    }
   ],
   "source": [
    "plot(cv.lasso)"
   ]
  },
  {
   "cell_type": "code",
   "execution_count": 31,
   "metadata": {},
   "outputs": [
    {
     "data": {
      "text/html": [
       "0.00271174593629258"
      ],
      "text/latex": [
       "0.00271174593629258"
      ],
      "text/markdown": [
       "0.00271174593629258"
      ],
      "text/plain": [
       "[1] 0.002711746"
      ]
     },
     "metadata": {},
     "output_type": "display_data"
    }
   ],
   "source": [
    "bestlam <- cv.lasso$lambda.min\n",
    "bestlam"
   ]
  },
  {
   "cell_type": "code",
   "execution_count": 32,
   "metadata": {},
   "outputs": [],
   "source": [
    "fit.lasso <- glmnet(x.mat, target.y, alpha = 1)\n",
    "lasso.coef <- predict(fit.lasso, s = bestlam, type = \"coefficients\")[1:81, ]\n",
    "# lasso.coef"
   ]
  },
  {
   "cell_type": "code",
   "execution_count": 33,
   "metadata": {},
   "outputs": [
    {
     "data": {
      "text/html": [
       "<ol class=list-inline>\n",
       "\t<li>'input.xwtd_gmean_fie'</li>\n",
       "\t<li>'input.xentropy_atomic_radius'</li>\n",
       "\t<li>'input.xwtd_mean_Valence'</li>\n",
       "\t<li>'input.xstd_Valence'</li>\n",
       "</ol>\n"
      ],
      "text/latex": [
       "\\begin{enumerate*}\n",
       "\\item 'input.xwtd\\_gmean\\_fie'\n",
       "\\item 'input.xentropy\\_atomic\\_radius'\n",
       "\\item 'input.xwtd\\_mean\\_Valence'\n",
       "\\item 'input.xstd\\_Valence'\n",
       "\\end{enumerate*}\n"
      ],
      "text/markdown": [
       "1. 'input.xwtd_gmean_fie'\n",
       "2. 'input.xentropy_atomic_radius'\n",
       "3. 'input.xwtd_mean_Valence'\n",
       "4. 'input.xstd_Valence'\n",
       "\n",
       "\n"
      ],
      "text/plain": [
       "[1] \"input.xwtd_gmean_fie\"         \"input.xentropy_atomic_radius\"\n",
       "[3] \"input.xwtd_mean_Valence\"      \"input.xstd_Valence\"          "
      ]
     },
     "metadata": {},
     "output_type": "display_data"
    }
   ],
   "source": [
    "names(lasso.coef[lasso.coef == 0])"
   ]
  },
  {
   "cell_type": "code",
   "execution_count": 34,
   "metadata": {},
   "outputs": [],
   "source": [
    "lasso.pred <- predict(fit.lasso, s = bestlam, type = \"response\", newx = as.matrix(test.data[, -c(82)]))"
   ]
  },
  {
   "cell_type": "code",
   "execution_count": 35,
   "metadata": {},
   "outputs": [
    {
     "data": {
      "text/html": [
       "304.65872065363"
      ],
      "text/latex": [
       "304.65872065363"
      ],
      "text/markdown": [
       "304.65872065363"
      ],
      "text/plain": [
       "[1] 304.6587"
      ]
     },
     "metadata": {},
     "output_type": "display_data"
    }
   ],
   "source": [
    "mse.lasso <- mean((lasso.pred - test.data[, 82])^2)\n",
    "mse.lasso"
   ]
  },
  {
   "cell_type": "code",
   "execution_count": 36,
   "metadata": {},
   "outputs": [
    {
     "data": {
      "text/html": [
       "17.4544756625236"
      ],
      "text/latex": [
       "17.4544756625236"
      ],
      "text/markdown": [
       "17.4544756625236"
      ],
      "text/plain": [
       "[1] 17.45448"
      ]
     },
     "metadata": {},
     "output_type": "display_data"
    }
   ],
   "source": [
    "rmse.lasso <- sqrt(mse.lasso)\n",
    "rmse.lasso"
   ]
  },
  {
   "cell_type": "markdown",
   "metadata": {},
   "source": [
    "- **From the above analysis, we can surely avoid the 4 features in our future prediction models**\n",
    "- We can also remove the features with very very low values of their coefficients.\n",
    "- This is to just reduce the input feature dimensionality."
   ]
  },
  {
   "cell_type": "code",
   "execution_count": 37,
   "metadata": {},
   "outputs": [
    {
     "data": {
      "text/html": [
       "35"
      ],
      "text/latex": [
       "35"
      ],
      "text/markdown": [
       "35"
      ],
      "text/plain": [
       "[1] 35"
      ]
     },
     "metadata": {},
     "output_type": "display_data"
    },
    {
     "data": {
      "text/html": [
       "<ol class=list-inline>\n",
       "\t<li>'(Intercept)'</li>\n",
       "\t<li>'input.xnumber_of_elements'</li>\n",
       "\t<li>'input.xentropy_atomic_mass'</li>\n",
       "\t<li>'input.xwtd_entropy_atomic_mass'</li>\n",
       "\t<li>'input.xentropy_fie'</li>\n",
       "\t<li>'input.xwtd_entropy_fie'</li>\n",
       "\t<li>'input.xmean_atomic_radius'</li>\n",
       "\t<li>'input.xwtd_mean_atomic_radius'</li>\n",
       "\t<li>'input.xgmean_atomic_radius'</li>\n",
       "\t<li>'input.xwtd_gmean_atomic_radius'</li>\n",
       "\t<li>'input.xwtd_entropy_atomic_radius'</li>\n",
       "\t<li>'input.xstd_atomic_radius'</li>\n",
       "\t<li>'input.xentropy_Density'</li>\n",
       "\t<li>'input.xwtd_entropy_Density'</li>\n",
       "\t<li>'input.xwtd_mean_ElectronAffinity'</li>\n",
       "\t<li>'input.xwtd_gmean_ElectronAffinity'</li>\n",
       "\t<li>'input.xentropy_ElectronAffinity'</li>\n",
       "\t<li>'input.xwtd_entropy_ElectronAffinity'</li>\n",
       "\t<li>'input.xstd_ElectronAffinity'</li>\n",
       "\t<li>'input.xwtd_std_ElectronAffinity'</li>\n",
       "\t<li>'input.xmean_FusionHeat'</li>\n",
       "\t<li>'input.xwtd_mean_FusionHeat'</li>\n",
       "\t<li>'input.xgmean_FusionHeat'</li>\n",
       "\t<li>'input.xwtd_gmean_FusionHeat'</li>\n",
       "\t<li>'input.xentropy_FusionHeat'</li>\n",
       "\t<li>'input.xwtd_entropy_FusionHeat'</li>\n",
       "\t<li>'input.xentropy_ThermalConductivity'</li>\n",
       "\t<li>'input.xwtd_entropy_ThermalConductivity'</li>\n",
       "\t<li>'input.xmean_Valence'</li>\n",
       "\t<li>'input.xgmean_Valence'</li>\n",
       "\t<li>'input.xwtd_gmean_Valence'</li>\n",
       "\t<li>'input.xentropy_Valence'</li>\n",
       "\t<li>'input.xwtd_entropy_Valence'</li>\n",
       "\t<li>'input.xrange_Valence'</li>\n",
       "\t<li>'input.xwtd_range_Valence'</li>\n",
       "</ol>\n"
      ],
      "text/latex": [
       "\\begin{enumerate*}\n",
       "\\item '(Intercept)'\n",
       "\\item 'input.xnumber\\_of\\_elements'\n",
       "\\item 'input.xentropy\\_atomic\\_mass'\n",
       "\\item 'input.xwtd\\_entropy\\_atomic\\_mass'\n",
       "\\item 'input.xentropy\\_fie'\n",
       "\\item 'input.xwtd\\_entropy\\_fie'\n",
       "\\item 'input.xmean\\_atomic\\_radius'\n",
       "\\item 'input.xwtd\\_mean\\_atomic\\_radius'\n",
       "\\item 'input.xgmean\\_atomic\\_radius'\n",
       "\\item 'input.xwtd\\_gmean\\_atomic\\_radius'\n",
       "\\item 'input.xwtd\\_entropy\\_atomic\\_radius'\n",
       "\\item 'input.xstd\\_atomic\\_radius'\n",
       "\\item 'input.xentropy\\_Density'\n",
       "\\item 'input.xwtd\\_entropy\\_Density'\n",
       "\\item 'input.xwtd\\_mean\\_ElectronAffinity'\n",
       "\\item 'input.xwtd\\_gmean\\_ElectronAffinity'\n",
       "\\item 'input.xentropy\\_ElectronAffinity'\n",
       "\\item 'input.xwtd\\_entropy\\_ElectronAffinity'\n",
       "\\item 'input.xstd\\_ElectronAffinity'\n",
       "\\item 'input.xwtd\\_std\\_ElectronAffinity'\n",
       "\\item 'input.xmean\\_FusionHeat'\n",
       "\\item 'input.xwtd\\_mean\\_FusionHeat'\n",
       "\\item 'input.xgmean\\_FusionHeat'\n",
       "\\item 'input.xwtd\\_gmean\\_FusionHeat'\n",
       "\\item 'input.xentropy\\_FusionHeat'\n",
       "\\item 'input.xwtd\\_entropy\\_FusionHeat'\n",
       "\\item 'input.xentropy\\_ThermalConductivity'\n",
       "\\item 'input.xwtd\\_entropy\\_ThermalConductivity'\n",
       "\\item 'input.xmean\\_Valence'\n",
       "\\item 'input.xgmean\\_Valence'\n",
       "\\item 'input.xwtd\\_gmean\\_Valence'\n",
       "\\item 'input.xentropy\\_Valence'\n",
       "\\item 'input.xwtd\\_entropy\\_Valence'\n",
       "\\item 'input.xrange\\_Valence'\n",
       "\\item 'input.xwtd\\_range\\_Valence'\n",
       "\\end{enumerate*}\n"
      ],
      "text/markdown": [
       "1. '(Intercept)'\n",
       "2. 'input.xnumber_of_elements'\n",
       "3. 'input.xentropy_atomic_mass'\n",
       "4. 'input.xwtd_entropy_atomic_mass'\n",
       "5. 'input.xentropy_fie'\n",
       "6. 'input.xwtd_entropy_fie'\n",
       "7. 'input.xmean_atomic_radius'\n",
       "8. 'input.xwtd_mean_atomic_radius'\n",
       "9. 'input.xgmean_atomic_radius'\n",
       "10. 'input.xwtd_gmean_atomic_radius'\n",
       "11. 'input.xwtd_entropy_atomic_radius'\n",
       "12. 'input.xstd_atomic_radius'\n",
       "13. 'input.xentropy_Density'\n",
       "14. 'input.xwtd_entropy_Density'\n",
       "15. 'input.xwtd_mean_ElectronAffinity'\n",
       "16. 'input.xwtd_gmean_ElectronAffinity'\n",
       "17. 'input.xentropy_ElectronAffinity'\n",
       "18. 'input.xwtd_entropy_ElectronAffinity'\n",
       "19. 'input.xstd_ElectronAffinity'\n",
       "20. 'input.xwtd_std_ElectronAffinity'\n",
       "21. 'input.xmean_FusionHeat'\n",
       "22. 'input.xwtd_mean_FusionHeat'\n",
       "23. 'input.xgmean_FusionHeat'\n",
       "24. 'input.xwtd_gmean_FusionHeat'\n",
       "25. 'input.xentropy_FusionHeat'\n",
       "26. 'input.xwtd_entropy_FusionHeat'\n",
       "27. 'input.xentropy_ThermalConductivity'\n",
       "28. 'input.xwtd_entropy_ThermalConductivity'\n",
       "29. 'input.xmean_Valence'\n",
       "30. 'input.xgmean_Valence'\n",
       "31. 'input.xwtd_gmean_Valence'\n",
       "32. 'input.xentropy_Valence'\n",
       "33. 'input.xwtd_entropy_Valence'\n",
       "34. 'input.xrange_Valence'\n",
       "35. 'input.xwtd_range_Valence'\n",
       "\n",
       "\n"
      ],
      "text/plain": [
       " [1] \"(Intercept)\"                           \n",
       " [2] \"input.xnumber_of_elements\"             \n",
       " [3] \"input.xentropy_atomic_mass\"            \n",
       " [4] \"input.xwtd_entropy_atomic_mass\"        \n",
       " [5] \"input.xentropy_fie\"                    \n",
       " [6] \"input.xwtd_entropy_fie\"                \n",
       " [7] \"input.xmean_atomic_radius\"             \n",
       " [8] \"input.xwtd_mean_atomic_radius\"         \n",
       " [9] \"input.xgmean_atomic_radius\"            \n",
       "[10] \"input.xwtd_gmean_atomic_radius\"        \n",
       "[11] \"input.xwtd_entropy_atomic_radius\"      \n",
       "[12] \"input.xstd_atomic_radius\"              \n",
       "[13] \"input.xentropy_Density\"                \n",
       "[14] \"input.xwtd_entropy_Density\"            \n",
       "[15] \"input.xwtd_mean_ElectronAffinity\"      \n",
       "[16] \"input.xwtd_gmean_ElectronAffinity\"     \n",
       "[17] \"input.xentropy_ElectronAffinity\"       \n",
       "[18] \"input.xwtd_entropy_ElectronAffinity\"   \n",
       "[19] \"input.xstd_ElectronAffinity\"           \n",
       "[20] \"input.xwtd_std_ElectronAffinity\"       \n",
       "[21] \"input.xmean_FusionHeat\"                \n",
       "[22] \"input.xwtd_mean_FusionHeat\"            \n",
       "[23] \"input.xgmean_FusionHeat\"               \n",
       "[24] \"input.xwtd_gmean_FusionHeat\"           \n",
       "[25] \"input.xentropy_FusionHeat\"             \n",
       "[26] \"input.xwtd_entropy_FusionHeat\"         \n",
       "[27] \"input.xentropy_ThermalConductivity\"    \n",
       "[28] \"input.xwtd_entropy_ThermalConductivity\"\n",
       "[29] \"input.xmean_Valence\"                   \n",
       "[30] \"input.xgmean_Valence\"                  \n",
       "[31] \"input.xwtd_gmean_Valence\"              \n",
       "[32] \"input.xentropy_Valence\"                \n",
       "[33] \"input.xwtd_entropy_Valence\"            \n",
       "[34] \"input.xrange_Valence\"                  \n",
       "[35] \"input.xwtd_range_Valence\"              "
      ]
     },
     "metadata": {},
     "output_type": "display_data"
    }
   ],
   "source": [
    "length(lasso.coef[(lasso.coef > 0.5) | (lasso.coef < -0.5)])\n",
    "names(lasso.coef[(lasso.coef > 0.5) | (lasso.coef < -0.5)])"
   ]
  },
  {
   "cell_type": "markdown",
   "metadata": {},
   "source": [
    "#### As the Lasso (L1 Norm) did not reduce the dimensionality sufficiently, we need to use an Autoencoder\n",
    "#### If not, then we need to come up with a manual model with features selected based on some scientific theory and data observations or findings from exploration"
   ]
  },
  {
   "cell_type": "markdown",
   "metadata": {},
   "source": [
    "### 2. KNN Regressor:\n",
    "- **Now we try using a KNN Regressor for which the input features are selected based on scientific researches**\n",
    "    - Based on observations and referencing Wikipedia, we filter a set of input features which we think to affect the critical temperature.\n",
    "    - A KNN-regressor predicts a value which is closest to values observed in the training set.\n",
    "    - The assumption is that materials with similar properties like atomic mass, valency, entropy, etc. may have similar critical temperatures.\n",
    "    - KNN Regressor finds the features in the training set which closest to the features of the test set and then assigns a value to the test prediction."
   ]
  },
  {
   "attachments": {
    "image.png": {
     "image/png": "[encoded data removed]"
    }
   },
   "cell_type": "markdown",
   "metadata": {},
   "source": [
    "* **Below is the correlation of each property with the critical temperature**\n",
    "* **Since we are trying to predict the critical temperature, we must try to maximize this correlation** \n",
    "    - It is known that correlation does not imply causation but we can still give this a try as we are not finding the reason or formula for the critical temperature here but a way to determine the critical temperature \n",
    "    \n",
    "![image.png](attachment:image.png)\n",
    "\n",
    "**Assumption: We have just 8 unique properties and 10 attributes for each property. It is assumed that the critical temperature is dependent on each of the property and the one of the ten attribute from that property is the one that helps in prediction**"
   ]
  },
  {
   "cell_type": "code",
   "execution_count": 38,
   "metadata": {},
   "outputs": [],
   "source": [
    "max.cor.in <- c('number_of_elements','wtd_entropy_atomic_mass', 'range_fie', 'range_atomic_radius', 'wtd_gmean_Density', \n",
    "                'entropy_ElectronAffinity', 'wtd_entropy_FusionHeat', 'wtd_std_ThermalConductivity', 'mean_Valence')\n",
    "\n",
    "input.knn <- train.data[, c(max.cor.in)]"
   ]
  },
  {
   "cell_type": "markdown",
   "metadata": {},
   "source": [
    "* **Note 1: We consider the number of elements here, as in the correlation plot, a slightly positive correlation is seen between number of elements and critical temperature.**\n",
    "* **Note 2: Though the absolute value of correlation between valency and correlation is maximum in weighted mean valency, from the Lasso model, we get that the coefficient for the same is reduced to 0. So, we consider the next best correlated attribute which is mean valency.**"
   ]
  },
  {
   "cell_type": "markdown",
   "metadata": {},
   "source": [
    "- **As with any KNN model, now we need to find the optimum value of K for the closest neighbours to be considered**\n",
    "    - To reduce computation time and get a rough idea about the location of best K, we first consider the range K = [2, 10]"
   ]
  },
  {
   "cell_type": "code",
   "execution_count": 39,
   "metadata": {},
   "outputs": [],
   "source": [
    "mse.train = vector()\n",
    "mse.test = vector()\n",
    "K <- seq(2, 10, 1)\n",
    "\n",
    "for (i in 2:10) {\n",
    "    \n",
    "    knn.i <- knnreg(x = input.knn, y = train.data[, 82], k = i, use.all = T)\n",
    "    \n",
    "    knn.i.train <- predict(knn.i, train.data[, c(max.cor.in)])\n",
    "    \n",
    "    knn.i.test <- predict(knn.i, test.data[, c(max.cor.in)])\n",
    "    \n",
    "    mse.train[i-1] <- mean((knn.i.train - train.data[, 82])^2)\n",
    "    \n",
    "    mse.test[i-1] <- mean((knn.i.test - test.data[, 82])^2)\n",
    "    \n",
    "}"
   ]
  },
  {
   "cell_type": "code",
   "execution_count": 40,
   "metadata": {},
   "outputs": [
    {
     "data": {
      "text/html": [
       "<ol class=list-inline>\n",
       "\t<li>2</li>\n",
       "\t<li>3</li>\n",
       "\t<li>4</li>\n",
       "\t<li>5</li>\n",
       "\t<li>6</li>\n",
       "\t<li>7</li>\n",
       "\t<li>8</li>\n",
       "\t<li>9</li>\n",
       "\t<li>10</li>\n",
       "</ol>\n"
      ],
      "text/latex": [
       "\\begin{enumerate*}\n",
       "\\item 2\n",
       "\\item 3\n",
       "\\item 4\n",
       "\\item 5\n",
       "\\item 6\n",
       "\\item 7\n",
       "\\item 8\n",
       "\\item 9\n",
       "\\item 10\n",
       "\\end{enumerate*}\n"
      ],
      "text/markdown": [
       "1. 2\n",
       "2. 3\n",
       "3. 4\n",
       "4. 5\n",
       "5. 6\n",
       "6. 7\n",
       "7. 8\n",
       "8. 9\n",
       "9. 10\n",
       "\n",
       "\n"
      ],
      "text/plain": [
       "[1]  2  3  4  5  6  7  8  9 10"
      ]
     },
     "metadata": {},
     "output_type": "display_data"
    },
    {
     "data": {
      "text/html": [
       "<ol class=list-inline>\n",
       "\t<li>73.9040265637826</li>\n",
       "\t<li>100.47332257026</li>\n",
       "\t<li>119.095009489866</li>\n",
       "\t<li>135.457406562304</li>\n",
       "\t<li>145.808562541804</li>\n",
       "\t<li>155.118094581949</li>\n",
       "\t<li>163.874669033884</li>\n",
       "\t<li>170.510545823649</li>\n",
       "\t<li>177.403817913109</li>\n",
       "</ol>\n"
      ],
      "text/latex": [
       "\\begin{enumerate*}\n",
       "\\item 73.9040265637826\n",
       "\\item 100.47332257026\n",
       "\\item 119.095009489866\n",
       "\\item 135.457406562304\n",
       "\\item 145.808562541804\n",
       "\\item 155.118094581949\n",
       "\\item 163.874669033884\n",
       "\\item 170.510545823649\n",
       "\\item 177.403817913109\n",
       "\\end{enumerate*}\n"
      ],
      "text/markdown": [
       "1. 73.9040265637826\n",
       "2. 100.47332257026\n",
       "3. 119.095009489866\n",
       "4. 135.457406562304\n",
       "5. 145.808562541804\n",
       "6. 155.118094581949\n",
       "7. 163.874669033884\n",
       "8. 170.510545823649\n",
       "9. 177.403817913109\n",
       "\n",
       "\n"
      ],
      "text/plain": [
       "[1]  73.90403 100.47332 119.09501 135.45741 145.80856 155.11809 163.87467\n",
       "[8] 170.51055 177.40382"
      ]
     },
     "metadata": {},
     "output_type": "display_data"
    },
    {
     "data": {
      "text/html": [
       "<ol class=list-inline>\n",
       "\t<li>213.510653385906</li>\n",
       "\t<li>205.491997634739</li>\n",
       "\t<li>203.509173228327</li>\n",
       "\t<li>207.925446291462</li>\n",
       "\t<li>206.99383049032</li>\n",
       "\t<li>209.631767513114</li>\n",
       "\t<li>214.465892151949</li>\n",
       "\t<li>216.990920175242</li>\n",
       "\t<li>220.805228090653</li>\n",
       "</ol>\n"
      ],
      "text/latex": [
       "\\begin{enumerate*}\n",
       "\\item 213.510653385906\n",
       "\\item 205.491997634739\n",
       "\\item 203.509173228327\n",
       "\\item 207.925446291462\n",
       "\\item 206.99383049032\n",
       "\\item 209.631767513114\n",
       "\\item 214.465892151949\n",
       "\\item 216.990920175242\n",
       "\\item 220.805228090653\n",
       "\\end{enumerate*}\n"
      ],
      "text/markdown": [
       "1. 213.510653385906\n",
       "2. 205.491997634739\n",
       "3. 203.509173228327\n",
       "4. 207.925446291462\n",
       "5. 206.99383049032\n",
       "6. 209.631767513114\n",
       "7. 214.465892151949\n",
       "8. 216.990920175242\n",
       "9. 220.805228090653\n",
       "\n",
       "\n"
      ],
      "text/plain": [
       "[1] 213.5107 205.4920 203.5092 207.9254 206.9938 209.6318 214.4659 216.9909\n",
       "[9] 220.8052"
      ]
     },
     "metadata": {},
     "output_type": "display_data"
    }
   ],
   "source": [
    "K\n",
    "mse.train\n",
    "mse.test\n",
    "\n",
    "error.knn <- cbind(K, mse.train, mse.test)"
   ]
  },
  {
   "cell_type": "code",
   "execution_count": 41,
   "metadata": {},
   "outputs": [],
   "source": [
    "colnames(error.knn) <- c('K', 'TrainError', 'TestError')\n",
    "\n",
    "error.knn.m <- melt(error.knn, id = 'K')\n",
    "names(error.knn.m) <- c('K', 'type', 'error') \n",
    "error.knn.m <- error.knn.m[10:27, ]"
   ]
  },
  {
   "cell_type": "code",
   "execution_count": 42,
   "metadata": {},
   "outputs": [],
   "source": [
    "error.knn.m[, 'K'] <- rep(seq(2, 10, 1), 2)\n",
    "# error.knn.m"
   ]
  },
  {
   "cell_type": "code",
   "execution_count": 43,
   "metadata": {},
   "outputs": [
    {
     "data": {
      "image/png": "[encoded data removed]",
      "text/plain": [
       "plot without title"
      ]
     },
     "metadata": {},
     "output_type": "display_data"
    }
   ],
   "source": [
    "knn.plt <- ggplot(data=error.knn.m, aes(x=(1/K), y=error, color=type)) + geom_line() +\n",
    "       scale_color_discrete(guide = guide_legend(title = NULL)) + theme_minimal() +\n",
    "       ggtitle(\"Mean Squared Error\") + ylab('MSE') + xlab('1/K')\n",
    "print(knn.plt)"
   ]
  },
  {
   "cell_type": "markdown",
   "metadata": {},
   "source": [
    "**The minimum test error is observed for K = 4**"
   ]
  },
  {
   "cell_type": "code",
   "execution_count": 44,
   "metadata": {},
   "outputs": [],
   "source": [
    "fit.knn <- knnreg(x = input.knn, y = train.data[, 82], k = 4, use.all = T)"
   ]
  },
  {
   "cell_type": "code",
   "execution_count": 45,
   "metadata": {},
   "outputs": [],
   "source": [
    "knn.pred <- predict(fit.knn, test.data[, c(max.cor.in)])"
   ]
  },
  {
   "cell_type": "code",
   "execution_count": 46,
   "metadata": {},
   "outputs": [
    {
     "data": {
      "text/html": [
       "203.509173228327"
      ],
      "text/latex": [
       "203.509173228327"
      ],
      "text/markdown": [
       "203.509173228327"
      ],
      "text/plain": [
       "[1] 203.5092"
      ]
     },
     "metadata": {},
     "output_type": "display_data"
    }
   ],
   "source": [
    "mse.knn <- mean((knn.pred - test.data[, 82])^2)\n",
    "mse.knn"
   ]
  },
  {
   "cell_type": "code",
   "execution_count": 47,
   "metadata": {},
   "outputs": [
    {
     "data": {
      "text/html": [
       "14.2656641355503"
      ],
      "text/latex": [
       "14.2656641355503"
      ],
      "text/markdown": [
       "14.2656641355503"
      ],
      "text/plain": [
       "[1] 14.26566"
      ]
     },
     "metadata": {},
     "output_type": "display_data"
    }
   ],
   "source": [
    "rmse.knn <- sqrt(mse.knn)\n",
    "rmse.knn"
   ]
  },
  {
   "cell_type": "markdown",
   "metadata": {},
   "source": [
    "#### **Apparently, in this case, this selection of inputs with KNN works better than the Lasso regression**\n",
    "   - Here we have manually selected the input variables which had the maximum absolute correlation with the target.\n",
    "   - The mean squared error or the KNN Regressor is less than the mean squared error of the Lasso regressor.\n",
    "   - One drawback of this approach is that it is difficult to establish a relationship/formula for the target from this result."
   ]
  },
  {
   "cell_type": "markdown",
   "metadata": {},
   "source": [
    "### 3. Simple Linear Regression Model:\n",
    "- **Here, we will implement a simple linear regression model using the same input features as in the KNN.**\n",
    "    - The input features obtained above show a promising outcome for the prediction task.\n",
    "    - Now, we will implement the linear regression and teh Lasso regression while giving input as these features.\n",
    "    - This way, we can compare the output of the KNN with linear regression models."
   ]
  },
  {
   "cell_type": "code",
   "execution_count": 48,
   "metadata": {},
   "outputs": [],
   "source": [
    "input.lm <- train.data[ , c(max.cor.in, 'critical_temp')]"
   ]
  },
  {
   "cell_type": "code",
   "execution_count": 49,
   "metadata": {},
   "outputs": [],
   "source": [
    "fit.lm <- lm(critical_temp ~ ., input.lm)"
   ]
  },
  {
   "cell_type": "code",
   "execution_count": 50,
   "metadata": {},
   "outputs": [],
   "source": [
    "lm.pred <- predict(fit.lm, test.data[, c(max.cor.in)])"
   ]
  },
  {
   "cell_type": "code",
   "execution_count": 51,
   "metadata": {},
   "outputs": [
    {
     "data": {
      "text/html": [
       "445.877953623844"
      ],
      "text/latex": [
       "445.877953623844"
      ],
      "text/markdown": [
       "445.877953623844"
      ],
      "text/plain": [
       "[1] 445.878"
      ]
     },
     "metadata": {},
     "output_type": "display_data"
    }
   ],
   "source": [
    "mse.lm <- mean((lm.pred - test.data[, 82])^2)\n",
    "mse.lm"
   ]
  },
  {
   "cell_type": "code",
   "execution_count": 52,
   "metadata": {},
   "outputs": [
    {
     "data": {
      "text/html": [
       "21.1158223525356"
      ],
      "text/latex": [
       "21.1158223525356"
      ],
      "text/markdown": [
       "21.1158223525356"
      ],
      "text/plain": [
       "[1] 21.11582"
      ]
     },
     "metadata": {},
     "output_type": "display_data"
    }
   ],
   "source": [
    "rmse.lm <- sqrt(mse.lm)\n",
    "rmse.lm"
   ]
  },
  {
   "cell_type": "markdown",
   "metadata": {},
   "source": [
    "#### A simple linear regression is not a very good fit for the given model as the mean squared error is twice of the one obtained using KNN.\n",
    "   - This linear regression model performs the worst amongst all the models tried so far.\n",
    "   - This model has the same input features as in the KNN, i.e, the features with maximum correlation with the target\n",
    "   - So, this clearly indicated that there is no linear relationship between the observed properties and the target."
   ]
  },
  {
   "cell_type": "markdown",
   "metadata": {},
   "source": [
    "### 4: Scientific Model (Non-Linear analysis):\n",
    "* **In this model, we will use the units of each of the observed properties and the units of the target variable**\n",
    "    - We will come up with a possible scientific relationship between the variables and the target.\n",
    "    - With this relationship, we will create a formula for calculating the target.\n",
    "    - Then, we will input this as the relation for the linear model. \n",
    "    - the features selected here will be either the means or the ones with highest correlation with the target."
   ]
  },
  {
   "cell_type": "code",
   "execution_count": 53,
   "metadata": {},
   "outputs": [
    {
     "data": {
      "image/png": "[encoded data removed]",
      "text/plain": [
       "plot without title"
      ]
     },
     "metadata": {},
     "output_type": "display_data"
    }
   ],
   "source": [
    "pairs(data[, c(max.cor.in, 'critical_temp')], cex = 0.1, lower.panel = NULL)"
   ]
  },
  {
   "cell_type": "code",
   "execution_count": 54,
   "metadata": {},
   "outputs": [],
   "source": [
    "numerator <- (data$number_of_elements * data$wtd_gmean_Density * data$range_fie * data$entropy_ElectronAffinity)\n",
    "denominator <- (data$wtd_entropy_atomic_mass * data$range_atomic_radius * data$wtd_entropy_FusionHeat * \n",
    "               data$wtd_std_ThermalConductivity * data$mean_Valence)"
   ]
  },
  {
   "cell_type": "code",
   "execution_count": 55,
   "metadata": {},
   "outputs": [
    {
     "data": {
      "text/html": [
       "0"
      ],
      "text/latex": [
       "0"
      ],
      "text/markdown": [
       "0"
      ],
      "text/plain": [
       "[1] 0"
      ]
     },
     "metadata": {},
     "output_type": "display_data"
    },
    {
     "data": {
      "text/html": [
       "<ol class=list-inline>\n",
       "\t<li>2.98104139560141</li>\n",
       "\t<li>4.81812817516488</li>\n",
       "\t<li>3.50859396415115</li>\n",
       "\t<li>3.21005152620834</li>\n",
       "\t<li>2.64966559079711</li>\n",
       "\t<li>2.25952483936479</li>\n",
       "</ol>\n"
      ],
      "text/latex": [
       "\\begin{enumerate*}\n",
       "\\item 2.98104139560141\n",
       "\\item 4.81812817516488\n",
       "\\item 3.50859396415115\n",
       "\\item 3.21005152620834\n",
       "\\item 2.64966559079711\n",
       "\\item 2.25952483936479\n",
       "\\end{enumerate*}\n"
      ],
      "text/markdown": [
       "1. 2.98104139560141\n",
       "2. 4.81812817516488\n",
       "3. 3.50859396415115\n",
       "4. 3.21005152620834\n",
       "5. 2.64966559079711\n",
       "6. 2.25952483936479\n",
       "\n",
       "\n"
      ],
      "text/plain": [
       "[1] 2.981041 4.818128 3.508594 3.210052 2.649666 2.259525"
      ]
     },
     "metadata": {},
     "output_type": "display_data"
    },
    {
     "data": {
      "text/html": [
       "21263"
      ],
      "text/latex": [
       "21263"
      ],
      "text/markdown": [
       "21263"
      ],
      "text/plain": [
       "[1] 21263"
      ]
     },
     "metadata": {},
     "output_type": "display_data"
    }
   ],
   "source": [
    "denominator[(denominator == 0)] <- mean(denominator)\n",
    "length(denominator[denominator == 0])\n",
    "\n",
    "formula <- numerator / denominator\n",
    "\n",
    "formula[formula == 0] <- mean(formula)\n",
    "\n",
    "head(formula)\n",
    "length(formula)"
   ]
  },
  {
   "cell_type": "code",
   "execution_count": 56,
   "metadata": {},
   "outputs": [
    {
     "data": {
      "text/html": [
       "<ol class=list-inline>\n",
       "\t<li>21263</li>\n",
       "\t<li>2</li>\n",
       "</ol>\n"
      ],
      "text/latex": [
       "\\begin{enumerate*}\n",
       "\\item 21263\n",
       "\\item 2\n",
       "\\end{enumerate*}\n"
      ],
      "text/markdown": [
       "1. 21263\n",
       "2. 2\n",
       "\n",
       "\n"
      ],
      "text/plain": [
       "[1] 21263     2"
      ]
     },
     "metadata": {},
     "output_type": "display_data"
    },
    {
     "data": {
      "text/html": [
       "<table>\n",
       "<thead><tr><th scope=col>formula</th><th scope=col>TC</th></tr></thead>\n",
       "<tbody>\n",
       "\t<tr><td>2.981041</td><td>29      </td></tr>\n",
       "\t<tr><td>4.818128</td><td>26      </td></tr>\n",
       "\t<tr><td>3.508594</td><td>19      </td></tr>\n",
       "\t<tr><td>3.210052</td><td>22      </td></tr>\n",
       "\t<tr><td>2.649666</td><td>23      </td></tr>\n",
       "\t<tr><td>2.259525</td><td>23      </td></tr>\n",
       "</tbody>\n",
       "</table>\n"
      ],
      "text/latex": [
       "\\begin{tabular}{r|ll}\n",
       " formula & TC\\\\\n",
       "\\hline\n",
       "\t 2.981041 & 29      \\\\\n",
       "\t 4.818128 & 26      \\\\\n",
       "\t 3.508594 & 19      \\\\\n",
       "\t 3.210052 & 22      \\\\\n",
       "\t 2.649666 & 23      \\\\\n",
       "\t 2.259525 & 23      \\\\\n",
       "\\end{tabular}\n"
      ],
      "text/markdown": [
       "\n",
       "formula | TC | \n",
       "|---|---|---|---|---|---|\n",
       "| 2.981041 | 29       | \n",
       "| 4.818128 | 26       | \n",
       "| 3.508594 | 19       | \n",
       "| 3.210052 | 22       | \n",
       "| 2.649666 | 23       | \n",
       "| 2.259525 | 23       | \n",
       "\n",
       "\n"
      ],
      "text/plain": [
       "  formula  TC\n",
       "1 2.981041 29\n",
       "2 4.818128 26\n",
       "3 3.508594 19\n",
       "4 3.210052 22\n",
       "5 2.649666 23\n",
       "6 2.259525 23"
      ]
     },
     "metadata": {},
     "output_type": "display_data"
    },
    {
     "data": {
      "text/plain": [
       "    formula               TC           \n",
       " Min.   :0.00e+00   Min.   :  0.00021  \n",
       " 1st Qu.:3.00e+00   1st Qu.:  5.36500  \n",
       " Median :8.00e+01   Median : 20.00000  \n",
       " Mean   :1.33e+14   Mean   : 34.42122  \n",
       " 3rd Qu.:5.76e+02   3rd Qu.: 63.00000  \n",
       " Max.   :2.79e+18   Max.   :185.00000  "
      ]
     },
     "metadata": {},
     "output_type": "display_data"
    }
   ],
   "source": [
    "df.formula <- as.data.frame(cbind(formula, data[, 82]))\n",
    "colnames(df.formula) <- c('formula', 'TC')\n",
    "\n",
    "df <- na.omit(df.formula)\n",
    "\n",
    "dim(df)\n",
    "\n",
    "head(df)\n",
    "\n",
    "summary(df)"
   ]
  },
  {
   "cell_type": "code",
   "execution_count": 57,
   "metadata": {},
   "outputs": [
    {
     "data": {
      "text/html": [
       "<table>\n",
       "<thead><tr><th scope=col>formula</th><th scope=col>TC</th></tr></thead>\n",
       "<tbody>\n",
       "</tbody>\n",
       "</table>\n"
      ],
      "text/latex": [
       "\\begin{tabular}{r|ll}\n",
       " formula & TC\\\\\n",
       "\\hline\n",
       "\\end{tabular}\n"
      ],
      "text/markdown": [
       "\n",
       "formula | TC | \n",
       "||\n",
       "\n",
       "\n"
      ],
      "text/plain": [
       "     formula TC"
      ]
     },
     "metadata": {},
     "output_type": "display_data"
    }
   ],
   "source": [
    "df[!complete.cases(df),]\n",
    "# df <- df[-(df$formula == 0), ]\n",
    "\n",
    "nr <- round(dim(df)[1]*0.7, digits = 0)\n",
    "\n",
    "indx <- sort(sample(x = nrow(df), size = nr))"
   ]
  },
  {
   "cell_type": "code",
   "execution_count": 58,
   "metadata": {},
   "outputs": [],
   "source": [
    "df.train <- df[indx, ]\n",
    "df.test <- df[-indx, ]"
   ]
  },
  {
   "cell_type": "code",
   "execution_count": 59,
   "metadata": {},
   "outputs": [
    {
     "data": {
      "text/html": [
       "<ol class=list-inline>\n",
       "\t<li>0</li>\n",
       "\t<li>2</li>\n",
       "</ol>\n"
      ],
      "text/latex": [
       "\\begin{enumerate*}\n",
       "\\item 0\n",
       "\\item 2\n",
       "\\end{enumerate*}\n"
      ],
      "text/markdown": [
       "1. 0\n",
       "2. 2\n",
       "\n",
       "\n"
      ],
      "text/plain": [
       "[1] 0 2"
      ]
     },
     "metadata": {},
     "output_type": "display_data"
    }
   ],
   "source": [
    "dim(df.train[df.train$formula == 0, ])"
   ]
  },
  {
   "cell_type": "code",
   "execution_count": 60,
   "metadata": {},
   "outputs": [
    {
     "data": {
      "text/html": [
       "<ol class=list-inline>\n",
       "\t<li>14884</li>\n",
       "\t<li>2</li>\n",
       "</ol>\n"
      ],
      "text/latex": [
       "\\begin{enumerate*}\n",
       "\\item 14884\n",
       "\\item 2\n",
       "\\end{enumerate*}\n"
      ],
      "text/markdown": [
       "1. 14884\n",
       "2. 2\n",
       "\n",
       "\n"
      ],
      "text/plain": [
       "[1] 14884     2"
      ]
     },
     "metadata": {},
     "output_type": "display_data"
    },
    {
     "data": {
      "text/html": [
       "<ol class=list-inline>\n",
       "\t<li>6379</li>\n",
       "\t<li>2</li>\n",
       "</ol>\n"
      ],
      "text/latex": [
       "\\begin{enumerate*}\n",
       "\\item 6379\n",
       "\\item 2\n",
       "\\end{enumerate*}\n"
      ],
      "text/markdown": [
       "1. 6379\n",
       "2. 2\n",
       "\n",
       "\n"
      ],
      "text/plain": [
       "[1] 6379    2"
      ]
     },
     "metadata": {},
     "output_type": "display_data"
    }
   ],
   "source": [
    "dim(df.train)\n",
    "dim(df.test)"
   ]
  },
  {
   "cell_type": "code",
   "execution_count": 61,
   "metadata": {},
   "outputs": [
    {
     "data": {
      "text/html": [
       "<ol class=list-inline>\n",
       "\t<li>6379</li>\n",
       "\t<li>1</li>\n",
       "</ol>\n"
      ],
      "text/latex": [
       "\\begin{enumerate*}\n",
       "\\item 6379\n",
       "\\item 1\n",
       "\\end{enumerate*}\n"
      ],
      "text/markdown": [
       "1. 6379\n",
       "2. 1\n",
       "\n",
       "\n"
      ],
      "text/plain": [
       "[1] 6379    1"
      ]
     },
     "metadata": {},
     "output_type": "display_data"
    }
   ],
   "source": [
    "df.out = data.frame(formula = df.test$formula)\n",
    "dim(df.out)"
   ]
  },
  {
   "cell_type": "code",
   "execution_count": 62,
   "metadata": {},
   "outputs": [],
   "source": [
    "fit.reg <- lm(TC ~ formula, df.train)"
   ]
  },
  {
   "cell_type": "code",
   "execution_count": 63,
   "metadata": {},
   "outputs": [],
   "source": [
    "reg.pred <- predict(fit.reg, df.out)"
   ]
  },
  {
   "cell_type": "code",
   "execution_count": 64,
   "metadata": {},
   "outputs": [
    {
     "data": {
      "text/html": [
       "6379"
      ],
      "text/latex": [
       "6379"
      ],
      "text/markdown": [
       "6379"
      ],
      "text/plain": [
       "[1] 6379"
      ]
     },
     "metadata": {},
     "output_type": "display_data"
    }
   ],
   "source": [
    "length(reg.pred)"
   ]
  },
  {
   "cell_type": "code",
   "execution_count": 73,
   "metadata": {},
   "outputs": [
    {
     "data": {
      "text/html": [
       "63729915.384487"
      ],
      "text/latex": [
       "63729915.384487"
      ],
      "text/markdown": [
       "63729915.384487"
      ],
      "text/plain": [
       "[1] 63729915"
      ]
     },
     "metadata": {},
     "output_type": "display_data"
    }
   ],
   "source": [
    "mse.reg <- mean((reg.pred - df.test[, 2])^2)\n",
    "mse.reg"
   ]
  },
  {
   "cell_type": "code",
   "execution_count": 74,
   "metadata": {},
   "outputs": [
    {
     "data": {
      "text/html": [
       "7983.10186484471"
      ],
      "text/latex": [
       "7983.10186484471"
      ],
      "text/markdown": [
       "7983.10186484471"
      ],
      "text/plain": [
       "[1] 7983.102"
      ]
     },
     "metadata": {},
     "output_type": "display_data"
    }
   ],
   "source": [
    "rmse.reg <- sqrt(mse.reg)\n",
    "rmse.reg"
   ]
  },
  {
   "cell_type": "markdown",
   "metadata": {},
   "source": [
    "**This approach has performed the worst among all the models**\n",
    "   - The assumption that there exist a formal relationship between the observed properties and the target variable has backfired.\n",
    "   - Or, the formula that we considered for this model is flawed. Any of the two are likely.\n",
    "   - However, since we got a promising model in the KNN, we can always use the KNN model over others."
   ]
  },
  {
   "cell_type": "markdown",
   "metadata": {},
   "source": [
    "## 4. Model Comparsion<a class=\"anchor\" id=\"sec_4\"></a>"
   ]
  },
  {
   "cell_type": "code",
   "execution_count": 67,
   "metadata": {},
   "outputs": [
    {
     "data": {
      "text/plain": [
       "          Length Class     Mode   \n",
       "a0         100   -none-    numeric\n",
       "beta      8100   dgCMatrix S4     \n",
       "df         100   -none-    numeric\n",
       "dim          2   -none-    numeric\n",
       "lambda     100   -none-    numeric\n",
       "dev.ratio  100   -none-    numeric\n",
       "nulldev      1   -none-    numeric\n",
       "npasses      1   -none-    numeric\n",
       "jerr         1   -none-    numeric\n",
       "offset       1   -none-    logical\n",
       "call         4   -none-    call   \n",
       "nobs         1   -none-    numeric"
      ]
     },
     "metadata": {},
     "output_type": "display_data"
    },
    {
     "data": {
      "text/html": [
       "0.737311665706331"
      ],
      "text/latex": [
       "0.737311665706331"
      ],
      "text/markdown": [
       "0.737311665706331"
      ],
      "text/plain": [
       "[1] 0.7373117"
      ]
     },
     "metadata": {},
     "output_type": "display_data"
    }
   ],
   "source": [
    "summary(fit.lasso)\n",
    "\n",
    "rsq.las <- 1 - (mse.lasso/var(test.data[, 82]))\n",
    "rsq.las"
   ]
  },
  {
   "cell_type": "code",
   "execution_count": 68,
   "metadata": {},
   "outputs": [
    {
     "data": {
      "text/plain": [
       "        Length Class  Mode   \n",
       "learn   2      -none- list   \n",
       "k       1      -none- numeric\n",
       "theDots 1      -none- list   "
      ]
     },
     "metadata": {},
     "output_type": "display_data"
    },
    {
     "data": {
      "text/html": [
       "0.824526651939795"
      ],
      "text/latex": [
       "0.824526651939795"
      ],
      "text/markdown": [
       "0.824526651939795"
      ],
      "text/plain": [
       "[1] 0.8245267"
      ]
     },
     "metadata": {},
     "output_type": "display_data"
    }
   ],
   "source": [
    "summary(fit.knn)\n",
    "\n",
    "rsq.knn <- 1 - (mse.knn/var(test.data[, 82]))\n",
    "rsq.knn"
   ]
  },
  {
   "cell_type": "code",
   "execution_count": 69,
   "metadata": {},
   "outputs": [
    {
     "data": {
      "text/plain": [
       "\n",
       "Call:\n",
       "lm(formula = critical_temp ~ ., data = input.lm)\n",
       "\n",
       "Residuals:\n",
       "    Min      1Q  Median      3Q     Max \n",
       "-74.171 -14.303  -0.142  13.857 122.610 \n",
       "\n",
       "Coefficients:\n",
       "                              Estimate Std. Error t value Pr(>|t|)    \n",
       "(Intercept)                 -3.538e+00  1.454e+00  -2.433   0.0150 *  \n",
       "number_of_elements           8.266e+00  3.678e-01  22.473  < 2e-16 ***\n",
       "wtd_entropy_atomic_mass      1.592e+01  1.144e+00  13.912  < 2e-16 ***\n",
       "range_fie                   -6.425e-03  1.499e-03  -4.285 1.84e-05 ***\n",
       "range_atomic_radius          1.476e-01  7.609e-03  19.395  < 2e-16 ***\n",
       "wtd_gmean_Density            9.687e-04  8.780e-05  11.033  < 2e-16 ***\n",
       "entropy_ElectronAffinity    -4.364e+01  1.112e+00 -39.247  < 2e-16 ***\n",
       "wtd_entropy_FusionHeat       2.820e+00  1.105e+00   2.551   0.0107 *  \n",
       "wtd_std_ThermalConductivity  2.278e-01  4.494e-03  50.693  < 2e-16 ***\n",
       "mean_Valence                -3.346e+00  3.092e-01 -10.823  < 2e-16 ***\n",
       "---\n",
       "Signif. codes:  0 '***' 0.001 '**' 0.01 '*' 0.05 '.' 0.1 ' ' 1\n",
       "\n",
       "Residual standard error: 21.44 on 14874 degrees of freedom\n",
       "Multiple R-squared:  0.6104,\tAdjusted R-squared:  0.6102 \n",
       "F-statistic:  2590 on 9 and 14874 DF,  p-value: < 2.2e-16\n"
      ]
     },
     "metadata": {},
     "output_type": "display_data"
    },
    {
     "data": {
      "text/html": [
       "0.615547072854414"
      ],
      "text/latex": [
       "0.615547072854414"
      ],
      "text/markdown": [
       "0.615547072854414"
      ],
      "text/plain": [
       "[1] 0.6155471"
      ]
     },
     "metadata": {},
     "output_type": "display_data"
    }
   ],
   "source": [
    "summary(fit.lm)\n",
    "\n",
    "rsq.lm <- 1 - (mse.lm/var(test.data[, 82]))\n",
    "rsq.lm"
   ]
  },
  {
   "cell_type": "code",
   "execution_count": 70,
   "metadata": {},
   "outputs": [
    {
     "data": {
      "text/plain": [
       "\n",
       "Call:\n",
       "lm(formula = TC ~ formula, data = df.train)\n",
       "\n",
       "Residuals:\n",
       "   Min     1Q Median     3Q    Max \n",
       "-35.03 -29.28 -13.03  27.97 149.97 \n",
       "\n",
       "Coefficients:\n",
       "              Estimate Std. Error t value Pr(>|t|)    \n",
       "(Intercept)  3.503e+01  2.819e-01  124.26   <2e-16 ***\n",
       "formula     -2.286e-13  1.792e-14  -12.76   <2e-16 ***\n",
       "---\n",
       "Signif. codes:  0 '***' 0.001 '**' 0.01 '*' 0.05 '.' 0.1 ' ' 1\n",
       "\n",
       "Residual standard error: 34.14 on 14882 degrees of freedom\n",
       "Multiple R-squared:  0.01082,\tAdjusted R-squared:  0.01075 \n",
       "F-statistic: 162.7 on 1 and 14882 DF,  p-value: < 2.2e-16\n"
      ]
     },
     "metadata": {},
     "output_type": "display_data"
    },
    {
     "data": {
      "text/html": [
       "-54949.3565206018"
      ],
      "text/latex": [
       "-54949.3565206018"
      ],
      "text/markdown": [
       "-54949.3565206018"
      ],
      "text/plain": [
       "[1] -54949.36"
      ]
     },
     "metadata": {},
     "output_type": "display_data"
    }
   ],
   "source": [
    "summary(fit.reg)"
   ]
  },
  {
   "cell_type": "code",
   "execution_count": 71,
   "metadata": {},
   "outputs": [
    {
     "data": {
      "text/html": [
       "<ol class=list-inline>\n",
       "\t<li>304.65872065363</li>\n",
       "\t<li>203.509173228327</li>\n",
       "\t<li>445.877953623844</li>\n",
       "\t<li>63729915.384487</li>\n",
       "</ol>\n"
      ],
      "text/latex": [
       "\\begin{enumerate*}\n",
       "\\item 304.65872065363\n",
       "\\item 203.509173228327\n",
       "\\item 445.877953623844\n",
       "\\item 63729915.384487\n",
       "\\end{enumerate*}\n"
      ],
      "text/markdown": [
       "1. 304.65872065363\n",
       "2. 203.509173228327\n",
       "3. 445.877953623844\n",
       "4. 63729915.384487\n",
       "\n",
       "\n"
      ],
      "text/plain": [
       "[1] 3.046587e+02 2.035092e+02 4.458780e+02 6.372992e+07"
      ]
     },
     "metadata": {},
     "output_type": "display_data"
    }
   ],
   "source": [
    "c(mse.lasso, mse.knn, mse.lm, mse.reg)"
   ]
  },
  {
   "cell_type": "code",
   "execution_count": 75,
   "metadata": {},
   "outputs": [
    {
     "data": {
      "text/html": [
       "<ol class=list-inline>\n",
       "\t<li>17.4544756625236</li>\n",
       "\t<li>14.2656641355503</li>\n",
       "\t<li>21.1158223525356</li>\n",
       "</ol>\n"
      ],
      "text/latex": [
       "\\begin{enumerate*}\n",
       "\\item 17.4544756625236\n",
       "\\item 14.2656641355503\n",
       "\\item 21.1158223525356\n",
       "\\end{enumerate*}\n"
      ],
      "text/markdown": [
       "1. 17.4544756625236\n",
       "2. 14.2656641355503\n",
       "3. 21.1158223525356\n",
       "\n",
       "\n"
      ],
      "text/plain": [
       "[1] 17.45448 14.26566 21.11582"
      ]
     },
     "metadata": {},
     "output_type": "display_data"
    }
   ],
   "source": [
    "c(rmse.lasso, rmse.knn, rmse.lm)"
   ]
  },
  {
   "cell_type": "markdown",
   "metadata": {},
   "source": [
    "* From the above error values, it is clear that the KNN regressor performs the best.\n",
    "* It has an approximate R Squared value of 82.45%."
   ]
  },
  {
   "cell_type": "markdown",
   "metadata": {},
   "source": [
    "## 5. Conclusion <a class=\"anchor\" id=\"sec_6\"></a>"
   ]
  },
  {
   "cell_type": "markdown",
   "metadata": {},
   "source": [
    "#### Following are the attributes that are found to be affecting the target of critical temperature the most:\n",
    "* number_of_elements\n",
    "* wtd_entropy_atomic_mass\n",
    "* range_fie\n",
    "* range_atomic_radius\n",
    "* wtd_gmean_Density\n",
    "* entropy_ElectronAffinity\n",
    "* wtd_entropy_FusionHeat\n",
    "* wtd_std_ThermalConductivity\n",
    "* mean_Valence\n",
    "    - This can be concluded from the correlation plots and the KNN model\n",
    "\n",
    "#### As per the Lasso coefficient selection, only 4 of the given variables were excluded from the model and all others are shown to affect the critical temperature.\n",
    "#### The simple linear regression on correlated variables and the formula based approach both gave astoundingly high errors as compared to the previous 2 models.\n",
    "#### This is evident as the scatter plots for most of the variables with critical temperature, have a near normal distribution with some skewness. \n",
    "\n",
    "#### The KNN model has an approximate R Squared value of 82.45%, meaning, it can explain the 82.45% of the variations in the data.\n",
    "- The KNN model with the above fixed variables was arrived at after experimenting with different attributes of each property.\n",
    "- However, the experiments were not exhaustive.\n",
    "- Also, only one attribute of each property was considered.\n",
    "- All this is to say that there is a possibility that the model can be further improved by adding some attributes.\n",
    "- For the given attributes, the best value of k is 4 which has been tested and proved."
   ]
  },
  {
   "cell_type": "markdown",
   "metadata": {},
   "source": [
    "## 6. References <a class=\"anchor\" id=\"sec_7\"></a>"
   ]
  },
  {
   "cell_type": "markdown",
   "metadata": {},
   "source": [
    "1. [Wikipedia](https://en.wikipedia.org/w/index.php?title=Superconductivity&oldid=914595989)\n",
    "2. FIT5201 - Data Analysis Algorithms - Monash 2019 S1 - Tutorial materials and resources\n",
    "3. FIT5149 - Applied Data Analysis - Monash 2019 S2 - Tutorial materials and resources\n",
    "4. [KNN Regressor](https://www.rdocumentation.org/packages/caret/versions/6.0-84/topics/knnreg)\n",
    "5. [R-Squared in Lasso](https://stats.stackexchange.com/questions/111324/how-to-find-adjusted-r2-or-r2-from-lasso-and-ridge-regression-model)"
   ]
  },
  {
   "cell_type": "code",
   "execution_count": null,
   "metadata": {},
   "outputs": [],
   "source": []
  }
 ],
 "metadata": {
  "kernelspec": {
   "display_name": "R",
   "language": "R",
   "name": "ir"
  },
  "language_info": {
   "codemirror_mode": "r",
   "file_extension": ".r",
   "mimetype": "text/x-r-source",
   "name": "R",
   "pygments_lexer": "r",
   "version": "3.5.1"
  }
 },
 "nbformat": 4,
 "nbformat_minor": 2
}
